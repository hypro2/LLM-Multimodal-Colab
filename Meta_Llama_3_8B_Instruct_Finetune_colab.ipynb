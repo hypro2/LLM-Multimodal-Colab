{
  "nbformat": 4,
  "nbformat_minor": 0,
  "metadata": {
    "colab": {
      "provenance": [],
      "gpuType": "T4",
      "authorship_tag": "ABX9TyN70KVw8JaPy9rjVrXPxVa3",
      "include_colab_link": true
    },
    "kernelspec": {
      "name": "python3",
      "display_name": "Python 3"
    },
    "language_info": {
      "name": "python"
    },
    "accelerator": "GPU",
    "widgets": {
      "application/vnd.jupyter.widget-state+json": {
        "39ded7494a3b4d4cab75826bca3eb426": {
          "model_module": "@jupyter-widgets/controls",
          "model_name": "HBoxModel",
          "model_module_version": "1.5.0",
          "state": {
            "_dom_classes": [],
            "_model_module": "@jupyter-widgets/controls",
            "_model_module_version": "1.5.0",
            "_model_name": "HBoxModel",
            "_view_count": null,
            "_view_module": "@jupyter-widgets/controls",
            "_view_module_version": "1.5.0",
            "_view_name": "HBoxView",
            "box_style": "",
            "children": [
              "IPY_MODEL_828c6fa8c4714075b09ed6e9a17de4fc",
              "IPY_MODEL_5d8d9dafa38245abb730d0af50c9c5b4",
              "IPY_MODEL_1470bd2ddbc64ccf9a2c9eafd4465927"
            ],
            "layout": "IPY_MODEL_21b65c376a60487e83ea4f6dfcf8c413"
          }
        },
        "828c6fa8c4714075b09ed6e9a17de4fc": {
          "model_module": "@jupyter-widgets/controls",
          "model_name": "HTMLModel",
          "model_module_version": "1.5.0",
          "state": {
            "_dom_classes": [],
            "_model_module": "@jupyter-widgets/controls",
            "_model_module_version": "1.5.0",
            "_model_name": "HTMLModel",
            "_view_count": null,
            "_view_module": "@jupyter-widgets/controls",
            "_view_module_version": "1.5.0",
            "_view_name": "HTMLView",
            "description": "",
            "description_tooltip": null,
            "layout": "IPY_MODEL_f0f04da2c3e94f4c9c4cec62d6b9d165",
            "placeholder": "​",
            "style": "IPY_MODEL_1b0a168a01ef45deae0d0d9c4b022b78",
            "value": "Loading checkpoint shards: 100%"
          }
        },
        "5d8d9dafa38245abb730d0af50c9c5b4": {
          "model_module": "@jupyter-widgets/controls",
          "model_name": "FloatProgressModel",
          "model_module_version": "1.5.0",
          "state": {
            "_dom_classes": [],
            "_model_module": "@jupyter-widgets/controls",
            "_model_module_version": "1.5.0",
            "_model_name": "FloatProgressModel",
            "_view_count": null,
            "_view_module": "@jupyter-widgets/controls",
            "_view_module_version": "1.5.0",
            "_view_name": "ProgressView",
            "bar_style": "success",
            "description": "",
            "description_tooltip": null,
            "layout": "IPY_MODEL_29988fb323b84ff2afc4901c1c28ed42",
            "max": 7,
            "min": 0,
            "orientation": "horizontal",
            "style": "IPY_MODEL_92568e78af7b4d7c9801dd43272b55ae",
            "value": 7
          }
        },
        "1470bd2ddbc64ccf9a2c9eafd4465927": {
          "model_module": "@jupyter-widgets/controls",
          "model_name": "HTMLModel",
          "model_module_version": "1.5.0",
          "state": {
            "_dom_classes": [],
            "_model_module": "@jupyter-widgets/controls",
            "_model_module_version": "1.5.0",
            "_model_name": "HTMLModel",
            "_view_count": null,
            "_view_module": "@jupyter-widgets/controls",
            "_view_module_version": "1.5.0",
            "_view_name": "HTMLView",
            "description": "",
            "description_tooltip": null,
            "layout": "IPY_MODEL_f8830376384e4787af00487eaddfbb30",
            "placeholder": "​",
            "style": "IPY_MODEL_c2df39ac1a614cc980f13eb1fa1b9bd0",
            "value": " 7/7 [02:17&lt;00:00, 17.66s/it]"
          }
        },
        "21b65c376a60487e83ea4f6dfcf8c413": {
          "model_module": "@jupyter-widgets/base",
          "model_name": "LayoutModel",
          "model_module_version": "1.2.0",
          "state": {
            "_model_module": "@jupyter-widgets/base",
            "_model_module_version": "1.2.0",
            "_model_name": "LayoutModel",
            "_view_count": null,
            "_view_module": "@jupyter-widgets/base",
            "_view_module_version": "1.2.0",
            "_view_name": "LayoutView",
            "align_content": null,
            "align_items": null,
            "align_self": null,
            "border": null,
            "bottom": null,
            "display": null,
            "flex": null,
            "flex_flow": null,
            "grid_area": null,
            "grid_auto_columns": null,
            "grid_auto_flow": null,
            "grid_auto_rows": null,
            "grid_column": null,
            "grid_gap": null,
            "grid_row": null,
            "grid_template_areas": null,
            "grid_template_columns": null,
            "grid_template_rows": null,
            "height": null,
            "justify_content": null,
            "justify_items": null,
            "left": null,
            "margin": null,
            "max_height": null,
            "max_width": null,
            "min_height": null,
            "min_width": null,
            "object_fit": null,
            "object_position": null,
            "order": null,
            "overflow": null,
            "overflow_x": null,
            "overflow_y": null,
            "padding": null,
            "right": null,
            "top": null,
            "visibility": null,
            "width": null
          }
        },
        "f0f04da2c3e94f4c9c4cec62d6b9d165": {
          "model_module": "@jupyter-widgets/base",
          "model_name": "LayoutModel",
          "model_module_version": "1.2.0",
          "state": {
            "_model_module": "@jupyter-widgets/base",
            "_model_module_version": "1.2.0",
            "_model_name": "LayoutModel",
            "_view_count": null,
            "_view_module": "@jupyter-widgets/base",
            "_view_module_version": "1.2.0",
            "_view_name": "LayoutView",
            "align_content": null,
            "align_items": null,
            "align_self": null,
            "border": null,
            "bottom": null,
            "display": null,
            "flex": null,
            "flex_flow": null,
            "grid_area": null,
            "grid_auto_columns": null,
            "grid_auto_flow": null,
            "grid_auto_rows": null,
            "grid_column": null,
            "grid_gap": null,
            "grid_row": null,
            "grid_template_areas": null,
            "grid_template_columns": null,
            "grid_template_rows": null,
            "height": null,
            "justify_content": null,
            "justify_items": null,
            "left": null,
            "margin": null,
            "max_height": null,
            "max_width": null,
            "min_height": null,
            "min_width": null,
            "object_fit": null,
            "object_position": null,
            "order": null,
            "overflow": null,
            "overflow_x": null,
            "overflow_y": null,
            "padding": null,
            "right": null,
            "top": null,
            "visibility": null,
            "width": null
          }
        },
        "1b0a168a01ef45deae0d0d9c4b022b78": {
          "model_module": "@jupyter-widgets/controls",
          "model_name": "DescriptionStyleModel",
          "model_module_version": "1.5.0",
          "state": {
            "_model_module": "@jupyter-widgets/controls",
            "_model_module_version": "1.5.0",
            "_model_name": "DescriptionStyleModel",
            "_view_count": null,
            "_view_module": "@jupyter-widgets/base",
            "_view_module_version": "1.2.0",
            "_view_name": "StyleView",
            "description_width": ""
          }
        },
        "29988fb323b84ff2afc4901c1c28ed42": {
          "model_module": "@jupyter-widgets/base",
          "model_name": "LayoutModel",
          "model_module_version": "1.2.0",
          "state": {
            "_model_module": "@jupyter-widgets/base",
            "_model_module_version": "1.2.0",
            "_model_name": "LayoutModel",
            "_view_count": null,
            "_view_module": "@jupyter-widgets/base",
            "_view_module_version": "1.2.0",
            "_view_name": "LayoutView",
            "align_content": null,
            "align_items": null,
            "align_self": null,
            "border": null,
            "bottom": null,
            "display": null,
            "flex": null,
            "flex_flow": null,
            "grid_area": null,
            "grid_auto_columns": null,
            "grid_auto_flow": null,
            "grid_auto_rows": null,
            "grid_column": null,
            "grid_gap": null,
            "grid_row": null,
            "grid_template_areas": null,
            "grid_template_columns": null,
            "grid_template_rows": null,
            "height": null,
            "justify_content": null,
            "justify_items": null,
            "left": null,
            "margin": null,
            "max_height": null,
            "max_width": null,
            "min_height": null,
            "min_width": null,
            "object_fit": null,
            "object_position": null,
            "order": null,
            "overflow": null,
            "overflow_x": null,
            "overflow_y": null,
            "padding": null,
            "right": null,
            "top": null,
            "visibility": null,
            "width": null
          }
        },
        "92568e78af7b4d7c9801dd43272b55ae": {
          "model_module": "@jupyter-widgets/controls",
          "model_name": "ProgressStyleModel",
          "model_module_version": "1.5.0",
          "state": {
            "_model_module": "@jupyter-widgets/controls",
            "_model_module_version": "1.5.0",
            "_model_name": "ProgressStyleModel",
            "_view_count": null,
            "_view_module": "@jupyter-widgets/base",
            "_view_module_version": "1.2.0",
            "_view_name": "StyleView",
            "bar_color": null,
            "description_width": ""
          }
        },
        "f8830376384e4787af00487eaddfbb30": {
          "model_module": "@jupyter-widgets/base",
          "model_name": "LayoutModel",
          "model_module_version": "1.2.0",
          "state": {
            "_model_module": "@jupyter-widgets/base",
            "_model_module_version": "1.2.0",
            "_model_name": "LayoutModel",
            "_view_count": null,
            "_view_module": "@jupyter-widgets/base",
            "_view_module_version": "1.2.0",
            "_view_name": "LayoutView",
            "align_content": null,
            "align_items": null,
            "align_self": null,
            "border": null,
            "bottom": null,
            "display": null,
            "flex": null,
            "flex_flow": null,
            "grid_area": null,
            "grid_auto_columns": null,
            "grid_auto_flow": null,
            "grid_auto_rows": null,
            "grid_column": null,
            "grid_gap": null,
            "grid_row": null,
            "grid_template_areas": null,
            "grid_template_columns": null,
            "grid_template_rows": null,
            "height": null,
            "justify_content": null,
            "justify_items": null,
            "left": null,
            "margin": null,
            "max_height": null,
            "max_width": null,
            "min_height": null,
            "min_width": null,
            "object_fit": null,
            "object_position": null,
            "order": null,
            "overflow": null,
            "overflow_x": null,
            "overflow_y": null,
            "padding": null,
            "right": null,
            "top": null,
            "visibility": null,
            "width": null
          }
        },
        "c2df39ac1a614cc980f13eb1fa1b9bd0": {
          "model_module": "@jupyter-widgets/controls",
          "model_name": "DescriptionStyleModel",
          "model_module_version": "1.5.0",
          "state": {
            "_model_module": "@jupyter-widgets/controls",
            "_model_module_version": "1.5.0",
            "_model_name": "DescriptionStyleModel",
            "_view_count": null,
            "_view_module": "@jupyter-widgets/base",
            "_view_module_version": "1.2.0",
            "_view_name": "StyleView",
            "description_width": ""
          }
        }
      }
    }
  },
  "cells": [
    {
      "cell_type": "markdown",
      "metadata": {
        "id": "view-in-github",
        "colab_type": "text"
      },
      "source": [
        "<a href=\"https://colab.research.google.com/github/hypro2/LLM-Multimodal-Colab/blob/main/Meta_Llama_3_8B_Instruct_Finetune_colab.ipynb\" target=\"_parent\"><img src=\"https://colab.research.google.com/assets/colab-badge.svg\" alt=\"Open In Colab\"/></a>"
      ]
    },
    {
      "cell_type": "code",
      "source": [
        "!pip install -U -q transformers accelerate bitsandbytes"
      ],
      "metadata": {
        "id": "Jb6QIaUw4xwW",
        "colab": {
          "base_uri": "https://localhost:8080/"
        },
        "outputId": "764f83b8-cfb9-4809-b4b1-e9bbefa1a71c"
      },
      "execution_count": 1,
      "outputs": [
        {
          "output_type": "stream",
          "name": "stdout",
          "text": [
            "\u001b[2K     \u001b[90m━━━━━━━━━━━━━━━━━━━━━━━━━━━━━━━━━━━━━━━━\u001b[0m \u001b[32m9.0/9.0 MB\u001b[0m \u001b[31m20.6 MB/s\u001b[0m eta \u001b[36m0:00:00\u001b[0m\n",
            "\u001b[2K     \u001b[90m━━━━━━━━━━━━━━━━━━━━━━━━━━━━━━━━━━━━━━━━\u001b[0m \u001b[32m297.6/297.6 kB\u001b[0m \u001b[31m26.2 MB/s\u001b[0m eta \u001b[36m0:00:00\u001b[0m\n",
            "\u001b[2K     \u001b[90m━━━━━━━━━━━━━━━━━━━━━━━━━━━━━━━━━━━━━━━━\u001b[0m \u001b[32m119.8/119.8 MB\u001b[0m \u001b[31m5.4 MB/s\u001b[0m eta \u001b[36m0:00:00\u001b[0m\n",
            "\u001b[?25h"
          ]
        }
      ]
    },
    {
      "cell_type": "code",
      "execution_count": 2,
      "metadata": {
        "id": "trofmLZL4nN8"
      },
      "outputs": [],
      "source": [
        "import transformers\n",
        "import torch\n",
        "\n",
        "model_id = \"kimhyeongjun/llama-3-8b-chat-patent-small\""
      ]
    },
    {
      "cell_type": "code",
      "source": [
        "import torch\n",
        "from transformers import AutoModelForCausalLM, AutoTokenizer, TextStreamer\n",
        "\n",
        "tokenizer = AutoTokenizer.from_pretrained(\n",
        "    model_id\n",
        ")\n",
        "\n",
        "model = AutoModelForCausalLM.from_pretrained(model_id,\n",
        "                                             return_dict=True,\n",
        "                                             torch_dtype='auto',\n",
        "                                             device_map='auto',\n",
        "                                             do_sample=True,\n",
        "                                             load_in_4bit=True,\n",
        "                                            )\n"
      ],
      "metadata": {
        "id": "jkMqqhD65c3C",
        "colab": {
          "base_uri": "https://localhost:8080/",
          "height": 86,
          "referenced_widgets": [
            "39ded7494a3b4d4cab75826bca3eb426",
            "828c6fa8c4714075b09ed6e9a17de4fc",
            "5d8d9dafa38245abb730d0af50c9c5b4",
            "1470bd2ddbc64ccf9a2c9eafd4465927",
            "21b65c376a60487e83ea4f6dfcf8c413",
            "f0f04da2c3e94f4c9c4cec62d6b9d165",
            "1b0a168a01ef45deae0d0d9c4b022b78",
            "29988fb323b84ff2afc4901c1c28ed42",
            "92568e78af7b4d7c9801dd43272b55ae",
            "f8830376384e4787af00487eaddfbb30",
            "c2df39ac1a614cc980f13eb1fa1b9bd0"
          ]
        },
        "outputId": "9e365198-88c2-4bfc-bd14-d07076d9655d"
      },
      "execution_count": 3,
      "outputs": [
        {
          "output_type": "stream",
          "name": "stderr",
          "text": [
            "Special tokens have been added in the vocabulary, make sure the associated word embeddings are fine-tuned or trained.\n",
            "The `load_in_4bit` and `load_in_8bit` arguments are deprecated and will be removed in the future versions. Please, pass a `BitsAndBytesConfig` object in `quantization_config` argument instead.\n"
          ]
        },
        {
          "output_type": "display_data",
          "data": {
            "text/plain": [
              "Loading checkpoint shards:   0%|          | 0/7 [00:00<?, ?it/s]"
            ],
            "application/vnd.jupyter.widget-view+json": {
              "version_major": 2,
              "version_minor": 0,
              "model_id": "39ded7494a3b4d4cab75826bca3eb426"
            }
          },
          "metadata": {}
        }
      ]
    },
    {
      "cell_type": "code",
      "source": [
        "text = \"\"\"[TECHNICAL FIELD] [0001] By using the mineral ion active water the invention sterilizes the penicillium growing up under the surface of the Lentinus edodes sawdust media. It relates to increase the mineral component among the nutrient component of the produced Lentinus edodes and cultivate. [BACKGROUND ART] [0002] The method of production is the mode cultivated to the edible mushrooms interest medicinal mushroom which the Lentinus edodes populars is known in 1 year to the material wood produced with two times changed among the year into the sawdust of black oak culture medium can cultivate. In house, the year arbitration times is become easy that the various germs therefore propagates in the sawdust media. The double penicillium widely spreads to the sawdust media. It buries in the Lentinus edodes and the marketability is dropt down and the income of the farmhouse is fallen. [0003] It had the existing different attempt (the chemicals usage etc. it sprinkles alcohol it cleans with the loofah) for sterilizing the penicillium but the certain removal of the penicillium cannot. [DISCLOSURE OF THE INVENTION] [0004] The present invention is to provide the Lentinus edodes cultivation method in which it does not use the method it sterilizes the penicillium to the physical chemical method by utilizing the mineral active ion number for the Lentinus edodes cultivation and for removing and it utterly sterilizes the penicillium to the method which is the environment-friendly even when the sterilizing power is excellent and it can remove and as to the Lentinus edodes, which and is cultivated the penicillium removal and mineral component can be strengthened. [0005] Like this, the invention is the mineral active ion number is provided to the consumer the Lentinus edodes in which it can obtain the Lentinus edodes excellent in terms of marketability in which the outer tube of the Lentinus edodes as well as the penicillium bactericidal action etc. is excellent in case of growing the Lentinus edodes by using and weight increases and especially, the mineral content is abundant. [0006] Moreover, it says to be very useful invention lice which grows the Lentinus edodes even though it does not use the drug for the rox or the poisonous general disinfection in the Lentinus edodes cultivation and has the effect that can become the big help in the health of the consumer. [BRIEF DESCRIPTION OF THE DRAWINGS] [0007] [DESCRIPTION OF EMBODIMENTS] [0008] The invention is made to be equal to specifically, next. [0009] It was clarified not to nearly give the toxicity the high voltage ion activated water to all virus wool human bodies at all and immediately completely sterilize with contact. Since it each other is absorbed has the positive charge (+) has the negative charge () the sterilization process principles of the mineral ion active water sterilizes. This is made to be equal to next, it organizes. [0010] The bacteria body temperature is dropt down - all metallic ions the thermal conductance is high and the bacteria body temperature is rapidly comprised the ambient temperature and balance(35  20 ) [0011] The moisture evaporation accompanied with the dehydration - heat conduction of the bacteria(95% moisture  50% moisture) [0012]  The oxygen required for the respiratory metabolism of the suffocation bacteria of the bacteria is snatched. [0013]  The positive charge (+) of the break down - mineral ion of the bacteria shell destroys the cell membrane. [0014] Moreover, the mineral content of the mineral ion active water is same as those of [table 1]. [0015] [ 1] The mineral content of the mineral ion active water. Sample distillation. Inorganic material (unit : mg/L) pH K Ca Mg Fe Na Mineral active ion number. 1300.0 65.0 3.30 0.01 57.0 7.10(17.3) Subsurface water (raw water) 6.3 29.0 3.6 0.01 13.0 7.30(13.6) [0016] [Table 1] The mineral (K, Ca, Mg) of the mineral active ion number very much showed up in comparison with the subsurface water as there appeared. As a result of this, it means in case of using in all kinds of the plant cultivations or the food processing obtaining the strengthening effect of the mineral nutrient. It requested to Korea Testing and Research Institute for Chemical with the KSM testing method and it analyzed the mineral component analysis of the active ion number. [0017] It is explained in the ionic activity number manufacturing device patent using the high voltage of 10-2001-0025030 applied for patent and the cultivation method which here is not manufacturing method decides to be illustrated the manufacturing method of the mineral active ion number for the invention penicillium sterilization. [0018] The experiment for finding out the quality characteristic of the Lentinus edodes which it cultivated by using the bactericidal action of the penicillium of the Lentinus edodes sawdust media using the mineral active ion number obtained to the patent product described in the above and mineral active ion number was performed like the next. [0019] Firstly, it sprinkled on the Lentinus edodes sawdust media through the mist blower which it set up in the Lentinus edodes cultivation house in the experiment for the bactericidal action explaining after receiving the mineral active ion number in the reservoir box of 3 tone with the bis die, the church for 15 minutes, and 15 and the sterilizing power of the penicillium generated with the generation whether or not of the penicillium was measured. [0020] The result showed in the next table 2. [0021] [ 2] The penicillium bactericidal test by the mineral active ion number. Treatment plot. Sawdust media changes in appearance. 3 primary. 6 primary. 9 primary. 12 primary. 15 primary. The sawdust media which is not polluted in the penicillium. It and the penicillium generation will not be achieved. It and the penicillium generation will not be achieved. It and the penicillium generation will not be achieved. It and the penicillium generation will not be achieved. It and the penicillium generation will not be achieved. The sawdust media polluted by 30% under in the penicillium. Penicillium 30% contamination. Penicillium 15% contamination. Penicillium 5% contamination. Penicillium contamination none. Penicillium contamination none. The sawdust media polluted in the penicillium with 50~70%. Penicillium 70% contamination. Penicillium 50% contamination. Penicillium 30% contamination. Penicillium 5% contamination. Penicillium contamination none. [0022] As shown in the above table 2, the bactericidal action of the Lentinus edodes sawdust media penicillium of the mineral active ion number could obtain the very good result. [0023] That is, the function one-dimensionaled of just supplying moisture to the sawdust media and Lentinus edodes when using the general paper sewage was done. However when using the mineral active ion number the bactericidal action of the penicillium which was the decay factor of the sawdust media as well as the Hydration, one-dimensionaled very high showed up. Moreover, the deodorization effect of the characteristic of the various germs removal of the penicillium extrinsic and house inside incidentally kept pace and it showed up. [0024] It was excellent than the quality of the Lentinus edodes which it cultivated by using the mineral active ion number just cultivated in the exterior quality to the subsurface water. And with expecting the effect as the health food in which the mineral content was strengthened in case of the Lentinus edodes which as shown in the above table 3, was cultivated to the mineral active ion number it was determined. [0025] Like this, in case the final result of the present invention grows the Lentinus edodes by using the mineral active ion number the outer tube of the Lentinus edodes as well as the bactericidal action etc. is excellent. The excellent lentinus edodes in which especially, the mineral content is strengthened can be provided. And the weight increase and marketability of the Lentinus edodes are excellent and the income of the farming family is raised but it can help. [0026] [ 3] The Lentinus edodes cultivation experiment using the mineral active ion number. Sample distillation. Inorganic material (unit : mg) Piece average weight (g) K Ca Zn Fe The Lentinus edodes cultivated to the mineral active ion number. 650 45 32 35 35 The Lentinus edodes cultivated to the subsurface water (raw water). 256 4 0.28 1.2 25 [REFERENCE SIGNS LIST] [0027]\"\"\"\n",
        "\n",
        "messages = [\n",
        "    {\"role\": \"system\", \"content\": \"You are a best AI patent expert. Let’s think step by step.\"},\n",
        "    {\"role\": \"user\", \"content\": f'text: \"{text}\" \\n\\nMake Summary the given text in the form of a patent abstract. (Keep summaries to 1500 characters or less.)'}\n",
        "]\n",
        "\n",
        "encodeds = tokenizer.apply_chat_template(messages, add_generation_prompt=False, return_tensors=\"pt\").to(\"cuda\")\n",
        "\n",
        "streamer = TextStreamer(tokenizer)\n",
        "output = model.generate(inputs=encodeds,\n",
        "                        max_new_tokens=256,\n",
        "                        pad_token_id=tokenizer.eos_token_id,\n",
        "                        top_p=0.7,\n",
        "                        streamer=streamer,\n",
        "                        eos_token_id=[\n",
        "                            tokenizer.eos_token_id,\n",
        "                            tokenizer.convert_tokens_to_ids(\"<|eot_id|>\")\n",
        "                        ])\n",
        "\n",
        "decode_output = tokenizer.decode(output[0], skip_special_tokens=False, clean_up_tokenization_spaces=True)"
      ],
      "metadata": {
        "colab": {
          "base_uri": "https://localhost:8080/"
        },
        "id": "DvCEA_d08dHV",
        "outputId": "d6878335-94b5-42d7-ae8e-cf30ab98b74f"
      },
      "execution_count": 7,
      "outputs": [
        {
          "output_type": "stream",
          "name": "stdout",
          "text": [
            "<|begin_of_text|>You are a best AI patent expert. Let’s think step by step.<|start_header_id|>user<|end_header_id|>\n",
            "\n",
            "text: \"[TECHNICAL FIELD] [0001] By using the mineral ion active water the invention sterilizes the penicillium growing up under the surface of the Lentinus edodes sawdust media. It relates to increase the mineral component among the nutrient component of the produced Lentinus edodes and cultivate. [BACKGROUND ART] [0002] The method of production is the mode cultivated to the edible mushrooms interest medicinal mushroom which the Lentinus edodes populars is known in 1 year to the material wood produced with two times changed among the year into the sawdust of black oak culture medium can cultivate. In house, the year arbitration times is become easy that the various germs therefore propagates in the sawdust media. The double penicillium widely spreads to the sawdust media. It buries in the Lentinus edodes and the marketability is dropt down and the income of the farmhouse is fallen. [0003] It had the existing different attempt (the chemicals usage etc. it sprinkles alcohol it cleans with the loofah) for sterilizing the penicillium but the certain removal of the penicillium cannot. [DISCLOSURE OF THE INVENTION] [0004] The present invention is to provide the Lentinus edodes cultivation method in which it does not use the method it sterilizes the penicillium to the physical chemical method by utilizing the mineral active ion number for the Lentinus edodes cultivation and for removing and it utterly sterilizes the penicillium to the method which is the environment-friendly even when the sterilizing power is excellent and it can remove and as to the Lentinus edodes, which and is cultivated the penicillium removal and mineral component can be strengthened. [0005] Like this, the invention is the mineral active ion number is provided to the consumer the Lentinus edodes in which it can obtain the Lentinus edodes excellent in terms of marketability in which the outer tube of the Lentinus edodes as well as the penicillium bactericidal action etc. is excellent in case of growing the Lentinus edodes by using and weight increases and especially, the mineral content is abundant. [0006] Moreover, it says to be very useful invention lice which grows the Lentinus edodes even though it does not use the drug for the rox or the poisonous general disinfection in the Lentinus edodes cultivation and has the effect that can become the big help in the health of the consumer. [BRIEF DESCRIPTION OF THE DRAWINGS] [0007] [DESCRIPTION OF EMBODIMENTS] [0008] The invention is made to be equal to specifically, next. [0009] It was clarified not to nearly give the toxicity the high voltage ion activated water to all virus wool human bodies at all and immediately completely sterilize with contact. Since it each other is absorbed has the positive charge (+) has the negative charge () the sterilization process principles of the mineral ion active water sterilizes. This is made to be equal to next, it organizes. [0010] The bacteria body temperature is dropt down - all metallic ions the thermal conductance is high and the bacteria body temperature is rapidly comprised the ambient temperature and balance(35  20 ) [0011] The moisture evaporation accompanied with the dehydration - heat conduction of the bacteria(95% moisture  50% moisture) [0012]  The oxygen required for the respiratory metabolism of the suffocation bacteria of the bacteria is snatched. [0013]  The positive charge (+) of the break down - mineral ion of the bacteria shell destroys the cell membrane. [0014] Moreover, the mineral content of the mineral ion active water is same as those of [table 1]. [0015] [ 1] The mineral content of the mineral ion active water. Sample distillation. Inorganic material (unit : mg/L) pH K Ca Mg Fe Na Mineral active ion number. 1300.0 65.0 3.30 0.01 57.0 7.10(17.3) Subsurface water (raw water) 6.3 29.0 3.6 0.01 13.0 7.30(13.6) [0016] [Table 1] The mineral (K, Ca, Mg) of the mineral active ion number very much showed up in comparison with the subsurface water as there appeared. As a result of this, it means in case of using in all kinds of the plant cultivations or the food processing obtaining the strengthening effect of the mineral nutrient. It requested to Korea Testing and Research Institute for Chemical with the KSM testing method and it analyzed the mineral component analysis of the active ion number. [0017] It is explained in the ionic activity number manufacturing device patent using the high voltage of 10-2001-0025030 applied for patent and the cultivation method which here is not manufacturing method decides to be illustrated the manufacturing method of the mineral active ion number for the invention penicillium sterilization. [0018] The experiment for finding out the quality characteristic of the Lentinus edodes which it cultivated by using the bactericidal action of the penicillium of the Lentinus edodes sawdust media using the mineral active ion number obtained to the patent product described in the above and mineral active ion number was performed like the next. [0019] Firstly, it sprinkled on the Lentinus edodes sawdust media through the mist blower which it set up in the Lentinus edodes cultivation house in the experiment for the bactericidal action explaining after receiving the mineral active ion number in the reservoir box of 3 tone with the bis die, the church for 15 minutes, and 15 and the sterilizing power of the penicillium generated with the generation whether or not of the penicillium was measured. [0020] The result showed in the next table 2. [0021] [ 2] The penicillium bactericidal test by the mineral active ion number. Treatment plot. Sawdust media changes in appearance. 3 primary. 6 primary. 9 primary. 12 primary. 15 primary. The sawdust media which is not polluted in the penicillium. It and the penicillium generation will not be achieved. It and the penicillium generation will not be achieved. It and the penicillium generation will not be achieved. It and the penicillium generation will not be achieved. It and the penicillium generation will not be achieved. The sawdust media polluted by 30% under in the penicillium. Penicillium 30% contamination. Penicillium 15% contamination. Penicillium 5% contamination. Penicillium contamination none. Penicillium contamination none. The sawdust media polluted in the penicillium with 50~70%. Penicillium 70% contamination. Penicillium 50% contamination. Penicillium 30% contamination. Penicillium 5% contamination. Penicillium contamination none. [0022] As shown in the above table 2, the bactericidal action of the Lentinus edodes sawdust media penicillium of the mineral active ion number could obtain the very good result. [0023] That is, the function one-dimensionaled of just supplying moisture to the sawdust media and Lentinus edodes when using the general paper sewage was done. However when using the mineral active ion number the bactericidal action of the penicillium which was the decay factor of the sawdust media as well as the Hydration, one-dimensionaled very high showed up. Moreover, the deodorization effect of the characteristic of the various germs removal of the penicillium extrinsic and house inside incidentally kept pace and it showed up. [0024] It was excellent than the quality of the Lentinus edodes which it cultivated by using the mineral active ion number just cultivated in the exterior quality to the subsurface water. And with expecting the effect as the health food in which the mineral content was strengthened in case of the Lentinus edodes which as shown in the above table 3, was cultivated to the mineral active ion number it was determined. [0025] Like this, in case the final result of the present invention grows the Lentinus edodes by using the mineral active ion number the outer tube of the Lentinus edodes as well as the bactericidal action etc. is excellent. The excellent lentinus edodes in which especially, the mineral content is strengthened can be provided. And the weight increase and marketability of the Lentinus edodes are excellent and the income of the farming family is raised but it can help. [0026] [ 3] The Lentinus edodes cultivation experiment using the mineral active ion number. Sample distillation. Inorganic material (unit : mg) Piece average weight (g) K Ca Zn Fe The Lentinus edodes cultivated to the mineral active ion number. 650 45 32 35 35 The Lentinus edodes cultivated to the subsurface water (raw water). 256 4 0.28 1.2 25 [REFERENCE SIGNS LIST] [0027]\" \n",
            "\n",
            "Make Summary the given text in the form of a patent abstract. (Keep summaries to 1500 characters or less.)<|eot_id|><|start_header_id|>assistant<|end_header_id|>\n",
            "\n",
            "The present invention relates to a method for cultivating Lentinus edodes using mineral active ion water to enhance the mineral component and remove penicillium contamination from the sawdust media. The method utilizes the bactericidal action of the mineral active ion water to sterilize the penicillium and prevent its growth. The invention also enhances the marketability of the Lentinus edodes by increasing its weight and mineral content. The experimental results show that the mineral active ion water effectively removes penicillium contamination and enhances the quality of the Lentinus edodes.<|end_of_text|>\n"
          ]
        }
      ]
    },
    {
      "cell_type": "code",
      "source": [
        "\n",
        "print(decode_output.split('<|start_header_id|>assistant<|end_header_id|>')[1])"
      ],
      "metadata": {
        "id": "RDi-j52896Jw",
        "colab": {
          "base_uri": "https://localhost:8080/"
        },
        "outputId": "fee7f9df-5edd-4f1f-b4d2-86aa9efbdff6"
      },
      "execution_count": 8,
      "outputs": [
        {
          "output_type": "stream",
          "name": "stdout",
          "text": [
            "\n",
            "\n",
            "The present invention relates to a method for cultivating Lentinus edodes using mineral active ion water to enhance the mineral component and remove penicillium contamination from the sawdust media. The method utilizes the bactericidal action of the mineral active ion water to sterilize the penicillium and prevent its growth. The invention also enhances the marketability of the Lentinus edodes by increasing its weight and mineral content. The experimental results show that the mineral active ion water effectively removes penicillium contamination and enhances the quality of the Lentinus edodes.<|end_of_text|>\n"
          ]
        }
      ]
    },
    {
      "cell_type": "code",
      "source": [],
      "metadata": {
        "id": "uQFsH393Fs4m"
      },
      "execution_count": null,
      "outputs": []
    }
  ]
}