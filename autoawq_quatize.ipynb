{
 "cells": [
  {
   "cell_type": "code",
   "execution_count": 1,
   "id": "6969bff2-e1f8-40dd-bc0d-56eb154c9c80",
   "metadata": {
    "tags": []
   },
   "outputs": [],
   "source": [
    "from awq import AutoAWQForCausalLM\n",
    "from transformers import AutoTokenizer\n",
    "from datasets import load_dataset\n",
    "import tqdm"
   ]
  },
  {
   "cell_type": "code",
   "execution_count": 2,
   "id": "f28cfcdd-fd1f-472f-98c0-8f95bb9e7e3b",
   "metadata": {
    "tags": []
   },
   "outputs": [
    {
     "data": {
      "application/vnd.jupyter.widget-view+json": {
       "model_id": "b89d5a4b0f9f426f8be6cb83582cd934",
       "version_major": 2,
       "version_minor": 0
      },
      "text/plain": [
       "Loading checkpoint shards:   0%|          | 0/7 [00:00<?, ?it/s]"
      ]
     },
     "metadata": {},
     "output_type": "display_data"
    },
    {
     "name": "stderr",
     "output_type": "stream",
     "text": [
      "Special tokens have been added in the vocabulary, make sure the associated word embeddings are fine-tuned or trained.\n"
     ]
    }
   ],
   "source": [
    "model_path = 'data/Meta-Llama-3-8B-Instruct_Full_Patent2_QA3'\n",
    "quant_path = 'data/Meta-Llama-3-8B-Instruct_Full_Patent2_QA3_awq'\n",
    "quant_config = { \"zero_point\": True, \"q_group_size\": 128, \"w_bit\": 4, \"version\": \"GEMM\" }\n",
    "\n",
    "# Load model\n",
    "model = AutoAWQForCausalLM.from_pretrained(model_path).cuda()\n",
    "tokenizer = AutoTokenizer.from_pretrained(model_path, trust_remote_code=True)"
   ]
  },
  {
   "cell_type": "code",
   "execution_count": 3,
   "id": "4b065516-6718-4b46-b0b7-c19fc6581a3f",
   "metadata": {
    "tags": []
   },
   "outputs": [],
   "source": [
    "text_path =\"./data/LLaMA-Factory/LLaMA-Factory/data/ai_kr_small.txt\""
   ]
  },
  {
   "cell_type": "code",
   "execution_count": 4,
   "id": "7ac92f58-956e-4df4-ad96-076db793ca95",
   "metadata": {
    "tags": []
   },
   "outputs": [],
   "source": [
    "def tokenize_string(text, num_tokens=400):\n",
    "    tokens = tokenizer.encode(text)\n",
    "    cut = tokenizer.decode(tokens[:num_tokens])\n",
    "    return cut"
   ]
  },
  {
   "cell_type": "code",
   "execution_count": 5,
   "id": "7327889f-00b9-4d6c-a3a4-9f8330c4c83a",
   "metadata": {
    "tags": []
   },
   "outputs": [],
   "source": [
    "def load_data():\n",
    "    lines = []\n",
    "    with open(text_path, 'r', encoding='utf-8') as file:\n",
    "        for i,line in enumerate(file):\n",
    "            lines.append(tokenize_string(line[:4000]).strip().replace(\"<|begin_of_text|>\",\"\"))\n",
    "            if i ==5000:\n",
    "                break\n",
    "    return lines"
   ]
  },
  {
   "cell_type": "code",
   "execution_count": 6,
   "id": "cce7be09-8651-4f48-a67f-3e6a97d5eb29",
   "metadata": {
    "tags": []
   },
   "outputs": [],
   "source": [
    "c = load_data()"
   ]
  },
  {
   "cell_type": "code",
   "execution_count": 7,
   "id": "867d7748-da63-4d5c-b76a-d443ae4cdbe6",
   "metadata": {
    "tags": []
   },
   "outputs": [
    {
     "data": {
      "text/plain": [
       "'skey:3519324000543 Patent Number:10-2017-0173498 Title:Air-Cooling type Adsorption Module Cooling System and Method Abstract:The present invention relates to an air-cooled adsorption module cooling system and a method thereof and, more specifically, to an air-cooled adsorption module cooling system and a method thereof capable of cooling an adsorption module and target gas injected into the adsorption module with cold air and adjusting adsorption and desorption by controlling the temperature. According to an embodiment of the present invention, the air-cooled adsorption module cooling system includes: a cooling unit which includes an adsorption module and a gas cooling coil, and cools target gas with cooled air; a blower which injects air into the cooling unit; a cooling coil which cools air injected into the cooling unit; a compression unit which lowers the temperature of the cooling coil; a heater which adjusts the temperature of the air injected into the cooling unit; and a control unit which controls the adsorption and desorption of object gas included in the target gas by controlling the heater, the blower, and the compression unit according to settings of a user. The cooling unit includes: the adsorption module removing object gas contained in target gas; a multi-position valve injecting the target gas into the adsorption module and discharging target gas from which the object gas is removed; and the gas cooling coil cooling the target gas before being injected into the adsorption module. Claim:1. The air cooling method adsorption module cooling system including the cooling part that cools the objective gas including the adsorption module and gas cooling coil and is injected to the cooled air in the adsorption module and gas cooling coil; the multi position valve in which the adsorption module removes the purpose gas included in the objective gas and injecting the objective gas into the adsorption module and ejecting the objective gas from which the purpose gas is removed; the gas cooling coil that cools the'"
      ]
     },
     "execution_count": 7,
     "metadata": {},
     "output_type": "execute_result"
    }
   ],
   "source": [
    "c[0]"
   ]
  },
  {
   "cell_type": "code",
   "execution_count": 8,
   "id": "9ce52530-1a8c-443f-9795-a758c468c121",
   "metadata": {},
   "outputs": [
    {
     "name": "stderr",
     "output_type": "stream",
     "text": [
      "AWQ: 100%|██████████| 32/32 [11:16<00:00, 21.14s/it]"
     ]
    },
    {
     "name": "stdout",
     "output_type": "stream",
     "text": [
      "[2024-06-14 07:09:21,654] [INFO] [real_accelerator.py:191:get_accelerator] Setting ds_accelerator to cuda (auto detect)\n"
     ]
    },
    {
     "name": "stderr",
     "output_type": "stream",
     "text": [
      "\n"
     ]
    },
    {
     "name": "stdout",
     "output_type": "stream",
     "text": [
      "Model is quantized and saved at \"data/Meta-Llama-3-8B-Instruct_Full_Patent2_QA3_awq\"\n"
     ]
    }
   ],
   "source": [
    "# Quantize\n",
    "model.quantize(tokenizer, quant_config=quant_config, calib_data=c)\n",
    "\n",
    "# Save quantized model\n",
    "model.save_quantized(quant_path)\n",
    "tokenizer.save_pretrained(quant_path)\n",
    "\n",
    "print(f'Model is quantized and saved at \"{quant_path}\"')"
   ]
  },
  {
   "cell_type": "code",
   "execution_count": null,
   "id": "44c5c58a-ec40-4c11-8922-598499a432a9",
   "metadata": {},
   "outputs": [],
   "source": []
  }
 ],
 "metadata": {
  "kernelspec": {
   "display_name": "mergekit",
   "language": "python",
   "name": "mergekit"
  },
  "language_info": {
   "codemirror_mode": {
    "name": "ipython",
    "version": 3
   },
   "file_extension": ".py",
   "mimetype": "text/x-python",
   "name": "python",
   "nbconvert_exporter": "python",
   "pygments_lexer": "ipython3",
   "version": "3.10.13"
  }
 },
 "nbformat": 4,
 "nbformat_minor": 5
}
