{
  "nbformat": 4,
  "nbformat_minor": 0,
  "metadata": {
    "colab": {
      "provenance": [],
      "gpuType": "T4",
      "authorship_tag": "ABX9TyPcfPZXXfPv2uW/bfZ5hIPb",
      "include_colab_link": true
    },
    "kernelspec": {
      "name": "python3",
      "display_name": "Python 3"
    },
    "language_info": {
      "name": "python"
    },
    "accelerator": "GPU"
  },
  "cells": [
    {
      "cell_type": "markdown",
      "metadata": {
        "id": "view-in-github",
        "colab_type": "text"
      },
      "source": [
        "<a href=\"https://colab.research.google.com/github/hypro2/LLM-Multimodal-Colab/blob/main/nomic_embed_text.ipynb\" target=\"_parent\"><img src=\"https://colab.research.google.com/assets/colab-badge.svg\" alt=\"Open In Colab\"/></a>"
      ]
    },
    {
      "cell_type": "code",
      "execution_count": 1,
      "metadata": {
        "colab": {
          "base_uri": "https://localhost:8080/"
        },
        "id": "CnrkVlShTs50",
        "outputId": "b457826e-2408-4093-8127-7ddf997f6ef6"
      },
      "outputs": [
        {
          "output_type": "stream",
          "name": "stdout",
          "text": [
            "Requirement already satisfied: einops in /usr/local/lib/python3.10/dist-packages (0.7.0)\n"
          ]
        }
      ],
      "source": [
        "!pip install einops\n",
        "!pip install -q -U transformers peft accelerate optimum\n",
        "!pip install --quiet bitsandbytes"
      ]
    },
    {
      "cell_type": "code",
      "source": [
        "import torch\n",
        "import torch.nn.functional as F\n",
        "from transformers import AutoTokenizer, AutoModel\n",
        "\n",
        "def mean_pooling(model_output, attention_mask):\n",
        "    token_embeddings = model_output[0]\n",
        "    input_mask_expanded = attention_mask.unsqueeze(-1).expand(token_embeddings.size()).float()\n",
        "    return torch.sum(token_embeddings * input_mask_expanded, 1) / torch.clamp(input_mask_expanded.sum(1), min=1e-9)\n",
        "\n",
        "sentences = ['search_query: What is TSNE?', 'search_query: Who is Laurens van der Maaten?']\n",
        "\n",
        "tokenizer = AutoTokenizer.from_pretrained('bert-base-uncased')\n",
        "model = AutoModel.from_pretrained('nomic-ai/nomic-embed-text-v1', trust_remote_code=True).cuda()\n",
        "model.eval()\n",
        "\n",
        "encoded_input = tokenizer(sentences, padding=True, truncation=True, return_tensors='pt')\n",
        "encoded_input = {k: v.to('cuda') for k,v in encoded_input.items()}\n",
        "\n",
        "with torch.no_grad():\n",
        "    model_output = model(**encoded_input)\n",
        "\n",
        "embeddings = mean_pooling(model_output, encoded_input['attention_mask'])\n",
        "embeddings = F.normalize(embeddings, p=2, dim=1)\n",
        "\n",
        "print(embeddings)"
      ],
      "metadata": {
        "colab": {
          "base_uri": "https://localhost:8080/"
        },
        "id": "qOOiO15nUO2X",
        "outputId": "59542a86-ae2e-4238-8320-01822fba3627"
      },
      "execution_count": 2,
      "outputs": [
        {
          "output_type": "stream",
          "name": "stderr",
          "text": [
            "WARNING:transformers_modules.nomic-ai.nomic-embed-text-v1.ea6aaf1791ac1e33346a22c38a2fd990a5d8ae17.modeling_hf_nomic_bert:<All keys matched successfully>\n"
          ]
        },
        {
          "output_type": "stream",
          "name": "stdout",
          "text": [
            "tensor([[ 1.0951e-02,  5.7415e-02, -1.1036e-02,  ...,  3.5169e-05,\n",
            "         -2.8092e-02, -2.1600e-02],\n",
            "        [-1.3367e-02,  2.7091e-02, -2.3367e-02,  ...,  2.8799e-02,\n",
            "         -1.0675e-02,  2.8821e-02]], device='cuda:0')\n"
          ]
        }
      ]
    },
    {
      "cell_type": "code",
      "source": [
        "len(embeddings[0])"
      ],
      "metadata": {
        "colab": {
          "base_uri": "https://localhost:8080/"
        },
        "id": "TBhDtWJMaE9K",
        "outputId": "2d4fd505-a40a-4cc8-c42e-b06a62ff1ebf"
      },
      "execution_count": 3,
      "outputs": [
        {
          "output_type": "execute_result",
          "data": {
            "text/plain": [
              "768"
            ]
          },
          "metadata": {},
          "execution_count": 3
        }
      ]
    },
    {
      "cell_type": "code",
      "source": [
        "from sklearn.metrics.pairwise import cosine_similarity\n",
        "\n",
        "\n",
        "distances = cosine_similarity(embeddings.cpu().numpy())\n",
        "distances"
      ],
      "metadata": {
        "colab": {
          "base_uri": "https://localhost:8080/"
        },
        "id": "b3zChO4DYFRB",
        "outputId": "e2cf696e-14c2-4b9d-e80b-d46afa222930"
      },
      "execution_count": 5,
      "outputs": [
        {
          "output_type": "execute_result",
          "data": {
            "text/plain": [
              "array([[0.99999964, 0.36237895],\n",
              "       [0.36237895, 1.0000001 ]], dtype=float32)"
            ]
          },
          "metadata": {},
          "execution_count": 5
        }
      ]
    },
    {
      "cell_type": "markdown",
      "source": [
        "![image.png](data:image/png;base64,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)"
      ],
      "metadata": {
        "id": "Irb3QbNqaqIL"
      }
    },
    {
      "cell_type": "code",
      "source": [],
      "metadata": {
        "id": "fj6D3mSKadyY"
      },
      "execution_count": null,
      "outputs": []
    }
  ]
}