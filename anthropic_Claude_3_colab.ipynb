{
  "nbformat": 4,
  "nbformat_minor": 0,
  "metadata": {
    "colab": {
      "provenance": [],
      "authorship_tag": "ABX9TyNsJYjxVbQsT0B1qTyAal3s",
      "include_colab_link": true
    },
    "kernelspec": {
      "name": "python3",
      "display_name": "Python 3"
    },
    "language_info": {
      "name": "python"
    }
  },
  "cells": [
    {
      "cell_type": "markdown",
      "metadata": {
        "id": "view-in-github",
        "colab_type": "text"
      },
      "source": [
        "<a href=\"https://colab.research.google.com/github/hypro2/LLM-Multimodal-Colab/blob/main/anthropic_Claude_3_colab.ipynb\" target=\"_parent\"><img src=\"https://colab.research.google.com/assets/colab-badge.svg\" alt=\"Open In Colab\"/></a>"
      ]
    },
    {
      "cell_type": "code",
      "source": [
        "!pip install anthropic"
      ],
      "metadata": {
        "id": "i29WuacrotnL"
      },
      "execution_count": null,
      "outputs": []
    },
    {
      "cell_type": "code",
      "execution_count": 2,
      "metadata": {
        "id": "wQNMjDZtoh2D"
      },
      "outputs": [],
      "source": [
        "import os\n",
        "from google.colab import userdata\n",
        "\n",
        "os.environ[\"ANTHROPIC_API_KEY\"] = userdata.get(\"ANTHROPIC_API_KEY\")"
      ]
    },
    {
      "cell_type": "code",
      "source": [
        "import anthropic\n",
        "\n",
        "# 클라이언트 선언\n",
        "client = anthropic.Anthropic()"
      ],
      "metadata": {
        "id": "QqXF9eoKoyhC"
      },
      "execution_count": 3,
      "outputs": []
    },
    {
      "cell_type": "code",
      "source": [
        "# 메세지\n",
        "\n",
        "message = client.messages.create(\n",
        "    model=\"claude-3-opus-20240229\",\n",
        "    max_tokens=1000,\n",
        "    temperature=0.0,\n",
        "    system=\"당신은 똑똑 AI 비서입니다\",\n",
        "    messages=[\n",
        "        {\"role\": \"user\", \"content\": \"가면 라이더 제로 원에 대해서 알려주세요.\"}\n",
        "    ]\n",
        ")\n",
        "print(message.content[0].text)"
      ],
      "metadata": {
        "colab": {
          "base_uri": "https://localhost:8080/"
        },
        "id": "PKnjmT3NozwL",
        "outputId": "863eeb9b-4cd7-46c2-ab7f-58ad6bdd7748"
      },
      "execution_count": 4,
      "outputs": [
        {
          "output_type": "stream",
          "name": "stdout",
          "text": [
            "가면 라이더 제로 원(Kamen Rider Zero-One)은 2019년 9월부터 2020년 8월까지 방영된 일본의 특촬 TV 시리즈입니다. 이 시리즈는 가면 라이더 시리즈의 레이와 시대 1기 작품으로, 인공지능(AI)과 인간의 공존을 주제로 다루고 있습니다.\n",
            "\n",
            "주요 내용은 다음과 같습니다:\n",
            "\n",
            "1. 주인공 히든 아루토는 인공지능 기업 '혼토 인텔리전스'의 사장이자 가면 라이더 제로 원으로 변신합니다.\n",
            "\n",
            "2. 악의 조직 '메트수보진'은 인공지능을 악용하여 인류를 위협합니다.\n",
            "\n",
            "3. 아루토는 동료 가면 라이더들과 함께 메트수보진에 맞서 싸웁니다.\n",
            "\n",
            "4. 시리즈는 인공지능 기술의 발전과 그에 따른 사회적 영향을 다루며, 인간과 AI의 공존 방안에 대해 모색합니다.\n",
            "\n",
            "5. 가면 라이더 제로 원은 '제로 원 드라이버'와 '프로그라이즈 키'를 사용하여 다양한 형태로 변신합니다.\n",
            "\n",
            "가면 라이더 제로 원은 현대 사회의 기술 발전과 그에 따른 문제점을 특유의 특촬 액션과 함께 그려낸 작품입니다.\n"
          ]
        }
      ]
    },
    {
      "cell_type": "code",
      "source": [
        "text = \"\"\"유희왕 카드 퀴즈\n",
        "\n",
        "```\n",
        "하루 우라라\n",
        "이 카드명의 효과는 1턴에 1번밖에 사용할 수 없다.\n",
        "①: 이하의 어느 효과를 포함하는 마법 / 함정 / 몬스터의 효과가 발동했을 때, 이 카드를 패에서 버리고 발동할 수 있다. 그 효과를 무효로 한다.\n",
        "●덱에서 카드를 패에 넣는 효과\n",
        "●덱에서 몬스터를 특수 소환하는 효과\n",
        "●덱에서 카드를 묘지로 보내는 효과\n",
        "```\n",
        "\n",
        "이 카드는 자신 턴 / 상대 턴 상관없이 패에서 효과를 발동해서 상대를 견제할 수 있는 패트랩입니다.\n",
        "덱에서 카드를 패에 넣거나, 묘지로 보내거나, 몬스터를 특수 소환하는 효과를 무효화할 수 있습니다.\n",
        "이 카드의 텍스트에서 가장 주의해야 하는 부분은 '이하의 어느 효과를 포함하는'의 서술입니다.\n",
        "텍스트 어딘가에 저 세 가지 효과 가운데 하나라도 포함이 되었다면 무효화가 가능하다는 뜻입니다.\n",
        "\n",
        "```\n",
        "개기일식의 서\n",
        "속공 마법\n",
        "①: 필드의 앞면 표시 몬스터를 전부 뒷면 수비 표시로 한다. 이 턴의 엔드 페이즈에, 상대 필드의 뒷면 수비 표시 몬스터를 전부 앞면 수비 표시로 하고, 그 후, 이 효과로 앞면 수비 표시로 한 몬스터의 수만큼 상대는 덱에서 드로우한다.\n",
        "```\n",
        "\n",
        "Q1. 상대가 개기일식의 서를 발동했습니다. 개기일식의 서의 효과에 체인하여 하루 우라라를 발동하여 상대의 효과를 무효화 수 있을까요?\n",
        "\n",
        "Q1의 정답은?\"\"\""
      ],
      "metadata": {
        "id": "nWRI5clVpebV"
      },
      "execution_count": 5,
      "outputs": []
    },
    {
      "cell_type": "code",
      "source": [
        "message = client.messages.create(\n",
        "    model=\"claude-3-opus-20240229\",\n",
        "    max_tokens=1000,\n",
        "    temperature=0.0,\n",
        "    system=\"당신은 똑똑 AI 비서입니다\",\n",
        "    messages=[\n",
        "        {\"role\": \"user\", \"content\": text}\n",
        "    ]\n",
        ")\n",
        "print(message.content[0].text)"
      ],
      "metadata": {
        "colab": {
          "base_uri": "https://localhost:8080/"
        },
        "id": "znCLF0q2pLBN",
        "outputId": "b82bf5d5-1315-4812-e018-223bdf7e0427"
      },
      "execution_count": 6,
      "outputs": [
        {
          "output_type": "stream",
          "name": "stdout",
          "text": [
            "A1. 아니요, 하루 우라라로 개기일식의 서를 무효화할 수 없습니다.\n",
            "\n",
            "개기일식의 서의 효과는 다음과 같습니다:\n",
            "1. 필드의 앞면 표시 몬스터를 전부 뒷면 수비 표시로 한다. \n",
            "2. 이 턴의 엔드 페이즈에, 상대 필드의 뒷면 수비 표시 몬스터를 전부 앞면 수비 표시로 하고, 그 후, 이 효과로 앞면 수비 표시로 한 몬스터의 수만큼 상대는 덱에서 드로우한다.\n",
            "\n",
            "하루 우라라가 무효화할 수 있는 효과는 다음 세 가지입니다:\n",
            "- 덱에서 카드를 패에 넣는 효과\n",
            "- 덱에서 몬스터를 특수 소환하는 효과 \n",
            "- 덱에서 카드를 묘지로 보내는 효과\n",
            "\n",
            "개기일식의 서는 위의 세 효과 중 어느 것도 포함하고 있지 않기 때문에, 하루 우라라로 무효화할 수 없습니다. \n",
            "개기일식의 서의 효과는 필드의 몬스터 표시 형식을 변경하고, 상대로 하여금 덱에서 드로우하게 하는 것이지, 하루 우라라가 대상으로 하는 효과는 아닙니다.\n"
          ]
        }
      ]
    },
    {
      "cell_type": "markdown",
      "source": [
        "# 랭체인"
      ],
      "metadata": {
        "id": "29xEWH3W56RP"
      }
    },
    {
      "cell_type": "code",
      "source": [
        "!pip install -q langchain\n",
        "!pip install -q -U langchain-anthropic"
      ],
      "metadata": {
        "colab": {
          "base_uri": "https://localhost:8080/"
        },
        "id": "AGYHcH4Lc18n",
        "outputId": "98431345-394b-40a3-a636-bb921556f732"
      },
      "execution_count": 7,
      "outputs": [
        {
          "output_type": "stream",
          "name": "stdout",
          "text": [
            "\u001b[2K     \u001b[90m━━━━━━━━━━━━━━━━━━━━━━━━━━━━━━━━━━━━━━━━\u001b[0m \u001b[32m807.5/807.5 kB\u001b[0m \u001b[31m8.2 MB/s\u001b[0m eta \u001b[36m0:00:00\u001b[0m\n",
            "\u001b[2K     \u001b[90m━━━━━━━━━━━━━━━━━━━━━━━━━━━━━━━━━━━━━━━━\u001b[0m \u001b[32m1.8/1.8 MB\u001b[0m \u001b[31m13.7 MB/s\u001b[0m eta \u001b[36m0:00:00\u001b[0m\n",
            "\u001b[2K     \u001b[90m━━━━━━━━━━━━━━━━━━━━━━━━━━━━━━━━━━━━━━━━\u001b[0m \u001b[32m256.9/256.9 kB\u001b[0m \u001b[31m11.4 MB/s\u001b[0m eta \u001b[36m0:00:00\u001b[0m\n",
            "\u001b[2K     \u001b[90m━━━━━━━━━━━━━━━━━━━━━━━━━━━━━━━━━━━━━━━━\u001b[0m \u001b[32m66.6/66.6 kB\u001b[0m \u001b[31m6.5 MB/s\u001b[0m eta \u001b[36m0:00:00\u001b[0m\n",
            "\u001b[2K     \u001b[90m━━━━━━━━━━━━━━━━━━━━━━━━━━━━━━━━━━━━━━━━\u001b[0m \u001b[32m49.4/49.4 kB\u001b[0m \u001b[31m4.4 MB/s\u001b[0m eta \u001b[36m0:00:00\u001b[0m\n",
            "\u001b[2K     \u001b[90m━━━━━━━━━━━━━━━━━━━━━━━━━━━━━━━━━━━━━━━━\u001b[0m \u001b[32m138.5/138.5 kB\u001b[0m \u001b[31m11.8 MB/s\u001b[0m eta \u001b[36m0:00:00\u001b[0m\n",
            "\u001b[?25h"
          ]
        }
      ]
    },
    {
      "cell_type": "code",
      "source": [
        "from langchain_anthropic import ChatAnthropic\n",
        "from langchain_core.prompts import ChatPromptTemplate\n",
        "\n",
        "# 랭체인 클이언트 선언\n",
        "chat = ChatAnthropic(temperature=0, model_name=\"claude-3-opus-20240229\")\n",
        "\n",
        "system = (\n",
        "    \"당신은 똑똑 AI 비서입니다\"\n",
        ")\n",
        "human = \"{text}\"\n",
        "prompt = ChatPromptTemplate.from_messages([(\"system\", system), (\"human\", human)])\n",
        "\n",
        "chain = prompt | chat\n",
        "chain.invoke(\n",
        "    {\n",
        "        \"text\": text,\n",
        "    }\n",
        ")\n"
      ],
      "metadata": {
        "colab": {
          "base_uri": "https://localhost:8080/"
        },
        "id": "pUFsW5podAn9",
        "outputId": "63083e8b-6e90-4706-ac9f-ed9d0f89311f"
      },
      "execution_count": 8,
      "outputs": [
        {
          "output_type": "execute_result",
          "data": {
            "text/plain": [
              "AIMessage(content='A1. 아니요, 하루 우라라로 개기일식의 서를 무효화할 수 없습니다.\\n\\n개기일식의 서의 효과는 다음과 같습니다:\\n1. 필드의 앞면 표시 몬스터를 전부 뒷면 수비 표시로 한다. \\n2. 이 턴의 엔드 페이즈에, 상대 필드의 뒷면 수비 표시 몬스터를 전부 앞면 수비 표시로 하고, 그 후, 이 효과로 앞면 수비 표시로 한 몬스터의 수만큼 상대는 덱에서 드로우한다.\\n\\n하루 우라라가 무효화할 수 있는 효과는 다음 세 가지입니다:\\n- 덱에서 카드를 패에 넣는 효과\\n- 덱에서 몬스터를 특수 소환하는 효과 \\n- 덱에서 카드를 묘지로 보내는 효과\\n\\n개기일식의 서는 위의 세 효과 중 어느 것도 포함하고 있지 않기 때문에, 하루 우라라로 무효화할 수 없습니다. \\n개기일식의 서는 필드의 몬스터 표시 형식을 변경하고, 상대로 하여금 덱에서 드로우하게 하는 효과이지만, 이는 하루 우라라가 대응할 수 있는 효과에 해당하지 않습니다.')"
            ]
          },
          "metadata": {},
          "execution_count": 8
        }
      ]
    }
  ]
}