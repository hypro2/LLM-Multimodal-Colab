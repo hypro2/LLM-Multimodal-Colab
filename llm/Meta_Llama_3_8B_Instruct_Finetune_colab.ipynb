{
  "nbformat": 4,
  "nbformat_minor": 0,
  "metadata": {
    "colab": {
      "provenance": [],
      "gpuType": "T4",
      "authorship_tag": "ABX9TyPmz0Jct+bzzVv93fZFoCQN",
      "include_colab_link": true
    },
    "kernelspec": {
      "name": "python3",
      "display_name": "Python 3"
    },
    "language_info": {
      "name": "python"
    },
    "accelerator": "GPU",
    "widgets": {
      "application/vnd.jupyter.widget-state+json": {
        "39ded7494a3b4d4cab75826bca3eb426": {
          "model_module": "@jupyter-widgets/controls",
          "model_name": "HBoxModel",
          "model_module_version": "1.5.0",
          "state": {
            "_dom_classes": [],
            "_model_module": "@jupyter-widgets/controls",
            "_model_module_version": "1.5.0",
            "_model_name": "HBoxModel",
            "_view_count": null,
            "_view_module": "@jupyter-widgets/controls",
            "_view_module_version": "1.5.0",
            "_view_name": "HBoxView",
            "box_style": "",
            "children": [
              "IPY_MODEL_828c6fa8c4714075b09ed6e9a17de4fc",
              "IPY_MODEL_5d8d9dafa38245abb730d0af50c9c5b4",
              "IPY_MODEL_1470bd2ddbc64ccf9a2c9eafd4465927"
            ],
            "layout": "IPY_MODEL_21b65c376a60487e83ea4f6dfcf8c413"
          }
        },
        "828c6fa8c4714075b09ed6e9a17de4fc": {
          "model_module": "@jupyter-widgets/controls",
          "model_name": "HTMLModel",
          "model_module_version": "1.5.0",
          "state": {
            "_dom_classes": [],
            "_model_module": "@jupyter-widgets/controls",
            "_model_module_version": "1.5.0",
            "_model_name": "HTMLModel",
            "_view_count": null,
            "_view_module": "@jupyter-widgets/controls",
            "_view_module_version": "1.5.0",
            "_view_name": "HTMLView",
            "description": "",
            "description_tooltip": null,
            "layout": "IPY_MODEL_f0f04da2c3e94f4c9c4cec62d6b9d165",
            "placeholder": "​",
            "style": "IPY_MODEL_1b0a168a01ef45deae0d0d9c4b022b78",
            "value": "Loading checkpoint shards: 100%"
          }
        },
        "5d8d9dafa38245abb730d0af50c9c5b4": {
          "model_module": "@jupyter-widgets/controls",
          "model_name": "FloatProgressModel",
          "model_module_version": "1.5.0",
          "state": {
            "_dom_classes": [],
            "_model_module": "@jupyter-widgets/controls",
            "_model_module_version": "1.5.0",
            "_model_name": "FloatProgressModel",
            "_view_count": null,
            "_view_module": "@jupyter-widgets/controls",
            "_view_module_version": "1.5.0",
            "_view_name": "ProgressView",
            "bar_style": "success",
            "description": "",
            "description_tooltip": null,
            "layout": "IPY_MODEL_29988fb323b84ff2afc4901c1c28ed42",
            "max": 7,
            "min": 0,
            "orientation": "horizontal",
            "style": "IPY_MODEL_92568e78af7b4d7c9801dd43272b55ae",
            "value": 7
          }
        },
        "1470bd2ddbc64ccf9a2c9eafd4465927": {
          "model_module": "@jupyter-widgets/controls",
          "model_name": "HTMLModel",
          "model_module_version": "1.5.0",
          "state": {
            "_dom_classes": [],
            "_model_module": "@jupyter-widgets/controls",
            "_model_module_version": "1.5.0",
            "_model_name": "HTMLModel",
            "_view_count": null,
            "_view_module": "@jupyter-widgets/controls",
            "_view_module_version": "1.5.0",
            "_view_name": "HTMLView",
            "description": "",
            "description_tooltip": null,
            "layout": "IPY_MODEL_f8830376384e4787af00487eaddfbb30",
            "placeholder": "​",
            "style": "IPY_MODEL_c2df39ac1a614cc980f13eb1fa1b9bd0",
            "value": " 7/7 [02:17&lt;00:00, 17.66s/it]"
          }
        },
        "21b65c376a60487e83ea4f6dfcf8c413": {
          "model_module": "@jupyter-widgets/base",
          "model_name": "LayoutModel",
          "model_module_version": "1.2.0",
          "state": {
            "_model_module": "@jupyter-widgets/base",
            "_model_module_version": "1.2.0",
            "_model_name": "LayoutModel",
            "_view_count": null,
            "_view_module": "@jupyter-widgets/base",
            "_view_module_version": "1.2.0",
            "_view_name": "LayoutView",
            "align_content": null,
            "align_items": null,
            "align_self": null,
            "border": null,
            "bottom": null,
            "display": null,
            "flex": null,
            "flex_flow": null,
            "grid_area": null,
            "grid_auto_columns": null,
            "grid_auto_flow": null,
            "grid_auto_rows": null,
            "grid_column": null,
            "grid_gap": null,
            "grid_row": null,
            "grid_template_areas": null,
            "grid_template_columns": null,
            "grid_template_rows": null,
            "height": null,
            "justify_content": null,
            "justify_items": null,
            "left": null,
            "margin": null,
            "max_height": null,
            "max_width": null,
            "min_height": null,
            "min_width": null,
            "object_fit": null,
            "object_position": null,
            "order": null,
            "overflow": null,
            "overflow_x": null,
            "overflow_y": null,
            "padding": null,
            "right": null,
            "top": null,
            "visibility": null,
            "width": null
          }
        },
        "f0f04da2c3e94f4c9c4cec62d6b9d165": {
          "model_module": "@jupyter-widgets/base",
          "model_name": "LayoutModel",
          "model_module_version": "1.2.0",
          "state": {
            "_model_module": "@jupyter-widgets/base",
            "_model_module_version": "1.2.0",
            "_model_name": "LayoutModel",
            "_view_count": null,
            "_view_module": "@jupyter-widgets/base",
            "_view_module_version": "1.2.0",
            "_view_name": "LayoutView",
            "align_content": null,
            "align_items": null,
            "align_self": null,
            "border": null,
            "bottom": null,
            "display": null,
            "flex": null,
            "flex_flow": null,
            "grid_area": null,
            "grid_auto_columns": null,
            "grid_auto_flow": null,
            "grid_auto_rows": null,
            "grid_column": null,
            "grid_gap": null,
            "grid_row": null,
            "grid_template_areas": null,
            "grid_template_columns": null,
            "grid_template_rows": null,
            "height": null,
            "justify_content": null,
            "justify_items": null,
            "left": null,
            "margin": null,
            "max_height": null,
            "max_width": null,
            "min_height": null,
            "min_width": null,
            "object_fit": null,
            "object_position": null,
            "order": null,
            "overflow": null,
            "overflow_x": null,
            "overflow_y": null,
            "padding": null,
            "right": null,
            "top": null,
            "visibility": null,
            "width": null
          }
        },
        "1b0a168a01ef45deae0d0d9c4b022b78": {
          "model_module": "@jupyter-widgets/controls",
          "model_name": "DescriptionStyleModel",
          "model_module_version": "1.5.0",
          "state": {
            "_model_module": "@jupyter-widgets/controls",
            "_model_module_version": "1.5.0",
            "_model_name": "DescriptionStyleModel",
            "_view_count": null,
            "_view_module": "@jupyter-widgets/base",
            "_view_module_version": "1.2.0",
            "_view_name": "StyleView",
            "description_width": ""
          }
        },
        "29988fb323b84ff2afc4901c1c28ed42": {
          "model_module": "@jupyter-widgets/base",
          "model_name": "LayoutModel",
          "model_module_version": "1.2.0",
          "state": {
            "_model_module": "@jupyter-widgets/base",
            "_model_module_version": "1.2.0",
            "_model_name": "LayoutModel",
            "_view_count": null,
            "_view_module": "@jupyter-widgets/base",
            "_view_module_version": "1.2.0",
            "_view_name": "LayoutView",
            "align_content": null,
            "align_items": null,
            "align_self": null,
            "border": null,
            "bottom": null,
            "display": null,
            "flex": null,
            "flex_flow": null,
            "grid_area": null,
            "grid_auto_columns": null,
            "grid_auto_flow": null,
            "grid_auto_rows": null,
            "grid_column": null,
            "grid_gap": null,
            "grid_row": null,
            "grid_template_areas": null,
            "grid_template_columns": null,
            "grid_template_rows": null,
            "height": null,
            "justify_content": null,
            "justify_items": null,
            "left": null,
            "margin": null,
            "max_height": null,
            "max_width": null,
            "min_height": null,
            "min_width": null,
            "object_fit": null,
            "object_position": null,
            "order": null,
            "overflow": null,
            "overflow_x": null,
            "overflow_y": null,
            "padding": null,
            "right": null,
            "top": null,
            "visibility": null,
            "width": null
          }
        },
        "92568e78af7b4d7c9801dd43272b55ae": {
          "model_module": "@jupyter-widgets/controls",
          "model_name": "ProgressStyleModel",
          "model_module_version": "1.5.0",
          "state": {
            "_model_module": "@jupyter-widgets/controls",
            "_model_module_version": "1.5.0",
            "_model_name": "ProgressStyleModel",
            "_view_count": null,
            "_view_module": "@jupyter-widgets/base",
            "_view_module_version": "1.2.0",
            "_view_name": "StyleView",
            "bar_color": null,
            "description_width": ""
          }
        },
        "f8830376384e4787af00487eaddfbb30": {
          "model_module": "@jupyter-widgets/base",
          "model_name": "LayoutModel",
          "model_module_version": "1.2.0",
          "state": {
            "_model_module": "@jupyter-widgets/base",
            "_model_module_version": "1.2.0",
            "_model_name": "LayoutModel",
            "_view_count": null,
            "_view_module": "@jupyter-widgets/base",
            "_view_module_version": "1.2.0",
            "_view_name": "LayoutView",
            "align_content": null,
            "align_items": null,
            "align_self": null,
            "border": null,
            "bottom": null,
            "display": null,
            "flex": null,
            "flex_flow": null,
            "grid_area": null,
            "grid_auto_columns": null,
            "grid_auto_flow": null,
            "grid_auto_rows": null,
            "grid_column": null,
            "grid_gap": null,
            "grid_row": null,
            "grid_template_areas": null,
            "grid_template_columns": null,
            "grid_template_rows": null,
            "height": null,
            "justify_content": null,
            "justify_items": null,
            "left": null,
            "margin": null,
            "max_height": null,
            "max_width": null,
            "min_height": null,
            "min_width": null,
            "object_fit": null,
            "object_position": null,
            "order": null,
            "overflow": null,
            "overflow_x": null,
            "overflow_y": null,
            "padding": null,
            "right": null,
            "top": null,
            "visibility": null,
            "width": null
          }
        },
        "c2df39ac1a614cc980f13eb1fa1b9bd0": {
          "model_module": "@jupyter-widgets/controls",
          "model_name": "DescriptionStyleModel",
          "model_module_version": "1.5.0",
          "state": {
            "_model_module": "@jupyter-widgets/controls",
            "_model_module_version": "1.5.0",
            "_model_name": "DescriptionStyleModel",
            "_view_count": null,
            "_view_module": "@jupyter-widgets/base",
            "_view_module_version": "1.2.0",
            "_view_name": "StyleView",
            "description_width": ""
          }
        }
      }
    }
  },
  "cells": [
    {
      "cell_type": "markdown",
      "metadata": {
        "id": "view-in-github",
        "colab_type": "text"
      },
      "source": [
        "<a href=\"https://colab.research.google.com/github/hypro2/LLM-Multimodal-Colab/blob/main/Meta_Llama_3_8B_Instruct_Finetune_colab.ipynb\" target=\"_parent\"><img src=\"https://colab.research.google.com/assets/colab-badge.svg\" alt=\"Open In Colab\"/></a>"
      ]
    },
    {
      "cell_type": "code",
      "source": [
        "!pip install -U -q transformers accelerate bitsandbytes"
      ],
      "metadata": {
        "id": "Jb6QIaUw4xwW",
        "colab": {
          "base_uri": "https://localhost:8080/"
        },
        "outputId": "764f83b8-cfb9-4809-b4b1-e9bbefa1a71c"
      },
      "execution_count": 1,
      "outputs": [
        {
          "output_type": "stream",
          "name": "stdout",
          "text": [
            "\u001b[2K     \u001b[90m━━━━━━━━━━━━━━━━━━━━━━━━━━━━━━━━━━━━━━━━\u001b[0m \u001b[32m9.0/9.0 MB\u001b[0m \u001b[31m20.6 MB/s\u001b[0m eta \u001b[36m0:00:00\u001b[0m\n",
            "\u001b[2K     \u001b[90m━━━━━━━━━━━━━━━━━━━━━━━━━━━━━━━━━━━━━━━━\u001b[0m \u001b[32m297.6/297.6 kB\u001b[0m \u001b[31m26.2 MB/s\u001b[0m eta \u001b[36m0:00:00\u001b[0m\n",
            "\u001b[2K     \u001b[90m━━━━━━━━━━━━━━━━━━━━━━━━━━━━━━━━━━━━━━━━\u001b[0m \u001b[32m119.8/119.8 MB\u001b[0m \u001b[31m5.4 MB/s\u001b[0m eta \u001b[36m0:00:00\u001b[0m\n",
            "\u001b[?25h"
          ]
        }
      ]
    },
    {
      "cell_type": "code",
      "execution_count": 2,
      "metadata": {
        "id": "trofmLZL4nN8"
      },
      "outputs": [],
      "source": [
        "import transformers\n",
        "import torch\n",
        "\n",
        "model_id = \"kimhyeongjun/llama-3-8b-chat-patent-small\""
      ]
    },
    {
      "cell_type": "code",
      "source": [
        "import torch\n",
        "from transformers import AutoModelForCausalLM, AutoTokenizer, TextStreamer\n",
        "\n",
        "tokenizer = AutoTokenizer.from_pretrained(\n",
        "    model_id\n",
        ")\n",
        "\n",
        "model = AutoModelForCausalLM.from_pretrained(model_id,\n",
        "                                             return_dict=True,\n",
        "                                             torch_dtype='auto',\n",
        "                                             device_map='auto',\n",
        "                                             do_sample=True,\n",
        "                                             load_in_4bit=True,\n",
        "                                            )\n"
      ],
      "metadata": {
        "id": "jkMqqhD65c3C",
        "colab": {
          "base_uri": "https://localhost:8080/",
          "height": 86,
          "referenced_widgets": [
            "39ded7494a3b4d4cab75826bca3eb426",
            "828c6fa8c4714075b09ed6e9a17de4fc",
            "5d8d9dafa38245abb730d0af50c9c5b4",
            "1470bd2ddbc64ccf9a2c9eafd4465927",
            "21b65c376a60487e83ea4f6dfcf8c413",
            "f0f04da2c3e94f4c9c4cec62d6b9d165",
            "1b0a168a01ef45deae0d0d9c4b022b78",
            "29988fb323b84ff2afc4901c1c28ed42",
            "92568e78af7b4d7c9801dd43272b55ae",
            "f8830376384e4787af00487eaddfbb30",
            "c2df39ac1a614cc980f13eb1fa1b9bd0"
          ]
        },
        "outputId": "9e365198-88c2-4bfc-bd14-d07076d9655d"
      },
      "execution_count": 3,
      "outputs": [
        {
          "output_type": "stream",
          "name": "stderr",
          "text": [
            "Special tokens have been added in the vocabulary, make sure the associated word embeddings are fine-tuned or trained.\n",
            "The `load_in_4bit` and `load_in_8bit` arguments are deprecated and will be removed in the future versions. Please, pass a `BitsAndBytesConfig` object in `quantization_config` argument instead.\n"
          ]
        },
        {
          "output_type": "display_data",
          "data": {
            "text/plain": [
              "Loading checkpoint shards:   0%|          | 0/7 [00:00<?, ?it/s]"
            ],
            "application/vnd.jupyter.widget-view+json": {
              "version_major": 2,
              "version_minor": 0,
              "model_id": "39ded7494a3b4d4cab75826bca3eb426"
            }
          },
          "metadata": {}
        }
      ]
    },
    {
      "cell_type": "code",
      "source": [
        "text = \"\"\"[TECHNICAL FIELD] [0001] By using the mineral ion active water the invention sterilizes the penicillium growing up under the surface of the Lentinus edodes sawdust media. It relates to increase the mineral component among the nutrient component of the produced Lentinus edodes and cultivate. [BACKGROUND ART] [0002] The method of production is the mode cultivated to the edible mushrooms interest medicinal mushroom which the Lentinus edodes populars is known in 1 year to the material wood produced with two times changed among the year into the sawdust of black oak culture medium can cultivate. In house, the year arbitration times is become easy that the various germs therefore propagates in the sawdust media. The double penicillium widely spreads to the sawdust media. It buries in the Lentinus edodes and the marketability is dropt down and the income of the farmhouse is fallen. [0003] It had the existing different attempt (the chemicals usage etc. it sprinkles alcohol it cleans with the loofah) for sterilizing the penicillium but the certain removal of the penicillium cannot. [DISCLOSURE OF THE INVENTION] [0004] The present invention is to provide the Lentinus edodes cultivation method in which it does not use the method it sterilizes the penicillium to the physical chemical method by utilizing the mineral active ion number for the Lentinus edodes cultivation and for removing and it utterly sterilizes the penicillium to the method which is the environment-friendly even when the sterilizing power is excellent and it can remove and as to the Lentinus edodes, which and is cultivated the penicillium removal and mineral component can be strengthened. [0005] Like this, the invention is the mineral active ion number is provided to the consumer the Lentinus edodes in which it can obtain the Lentinus edodes excellent in terms of marketability in which the outer tube of the Lentinus edodes as well as the penicillium bactericidal action etc. is excellent in case of growing the Lentinus edodes by using and weight increases and especially, the mineral content is abundant. [0006] Moreover, it says to be very useful invention lice which grows the Lentinus edodes even though it does not use the drug for the rox or the poisonous general disinfection in the Lentinus edodes cultivation and has the effect that can become the big help in the health of the consumer. [BRIEF DESCRIPTION OF THE DRAWINGS] [0007] [DESCRIPTION OF EMBODIMENTS] [0008] The invention is made to be equal to specifically, next. [0009] It was clarified not to nearly give the toxicity the high voltage ion activated water to all virus wool human bodies at all and immediately completely sterilize with contact. Since it each other is absorbed has the positive charge (+) has the negative charge () the sterilization process principles of the mineral ion active water sterilizes. This is made to be equal to next, it organizes. [0010] The bacteria body temperature is dropt down - all metallic ions the thermal conductance is high and the bacteria body temperature is rapidly comprised the ambient temperature and balance(35  20 ) [0011] The moisture evaporation accompanied with the dehydration - heat conduction of the bacteria(95% moisture  50% moisture) [0012]  The oxygen required for the respiratory metabolism of the suffocation bacteria of the bacteria is snatched. [0013]  The positive charge (+) of the break down - mineral ion of the bacteria shell destroys the cell membrane. [0014] Moreover, the mineral content of the mineral ion active water is same as those of [table 1]. [0015] [ 1] The mineral content of the mineral ion active water. Sample distillation. Inorganic material (unit : mg/L) pH K Ca Mg Fe Na Mineral active ion number. 1300.0 65.0 3.30 0.01 57.0 7.10(17.3) Subsurface water (raw water) 6.3 29.0 3.6 0.01 13.0 7.30(13.6) [0016] [Table 1] The mineral (K, Ca, Mg) of the mineral active ion number very much showed up in comparison with the subsurface water as there appeared. As a result of this, it means in case of using in all kinds of the plant cultivations or the food processing obtaining the strengthening effect of the mineral nutrient. It requested to Korea Testing and Research Institute for Chemical with the KSM testing method and it analyzed the mineral component analysis of the active ion number. [0017] It is explained in the ionic activity number manufacturing device patent using the high voltage of 10-2001-0025030 applied for patent and the cultivation method which here is not manufacturing method decides to be illustrated the manufacturing method of the mineral active ion number for the invention penicillium sterilization. [0018] The experiment for finding out the quality characteristic of the Lentinus edodes which it cultivated by using the bactericidal action of the penicillium of the Lentinus edodes sawdust media using the mineral active ion number obtained to the patent product described in the above and mineral active ion number was performed like the next. [0019] Firstly, it sprinkled on the Lentinus edodes sawdust media through the mist blower which it set up in the Lentinus edodes cultivation house in the experiment for the bactericidal action explaining after receiving the mineral active ion number in the reservoir box of 3 tone with the bis die, the church for 15 minutes, and 15 and the sterilizing power of the penicillium generated with the generation whether or not of the penicillium was measured. [0020] The result showed in the next table 2. [0021] [ 2] The penicillium bactericidal test by the mineral active ion number. Treatment plot. Sawdust media changes in appearance. 3 primary. 6 primary. 9 primary. 12 primary. 15 primary. The sawdust media which is not polluted in the penicillium. It and the penicillium generation will not be achieved. It and the penicillium generation will not be achieved. It and the penicillium generation will not be achieved. It and the penicillium generation will not be achieved. It and the penicillium generation will not be achieved. The sawdust media polluted by 30% under in the penicillium. Penicillium 30% contamination. Penicillium 15% contamination. Penicillium 5% contamination. Penicillium contamination none. Penicillium contamination none. The sawdust media polluted in the penicillium with 50~70%. Penicillium 70% contamination. Penicillium 50% contamination. Penicillium 30% contamination. Penicillium 5% contamination. Penicillium contamination none. [0022] As shown in the above table 2, the bactericidal action of the Lentinus edodes sawdust media penicillium of the mineral active ion number could obtain the very good result. [0023] That is, the function one-dimensionaled of just supplying moisture to the sawdust media and Lentinus edodes when using the general paper sewage was done. However when using the mineral active ion number the bactericidal action of the penicillium which was the decay factor of the sawdust media as well as the Hydration, one-dimensionaled very high showed up. Moreover, the deodorization effect of the characteristic of the various germs removal of the penicillium extrinsic and house inside incidentally kept pace and it showed up. [0024] It was excellent than the quality of the Lentinus edodes which it cultivated by using the mineral active ion number just cultivated in the exterior quality to the subsurface water. And with expecting the effect as the health food in which the mineral content was strengthened in case of the Lentinus edodes which as shown in the above table 3, was cultivated to the mineral active ion number it was determined. [0025] Like this, in case the final result of the present invention grows the Lentinus edodes by using the mineral active ion number the outer tube of the Lentinus edodes as well as the bactericidal action etc. is excellent. The excellent lentinus edodes in which especially, the mineral content is strengthened can be provided. And the weight increase and marketability of the Lentinus edodes are excellent and the income of the farming family is raised but it can help. [0026] [ 3] The Lentinus edodes cultivation experiment using the mineral active ion number. Sample distillation. Inorganic material (unit : mg) Piece average weight (g) K Ca Zn Fe The Lentinus edodes cultivated to the mineral active ion number. 650 45 32 35 35 The Lentinus edodes cultivated to the subsurface water (raw water). 256 4 0.28 1.2 25 [REFERENCE SIGNS LIST] [0027]\"\"\"\n",
        "\n",
        "question =\" What is the main purpose of the present invention and what problem does it solve?\"\n",
        "\n",
        "messages = [\n",
        "    {\"role\": \"system\", \"content\": \"You are a best AI patent expert. Let’s think step by step.\"},\n",
        "    {\"role\": \"user\", \"content\": f'text: \"{text}\" \\n\\n{question}'}\n",
        "]\n",
        "\n",
        "encodeds = tokenizer.apply_chat_template(messages, add_generation_prompt=False, return_tensors=\"pt\").to(\"cuda\")\n",
        "\n",
        "streamer = TextStreamer(tokenizer)\n",
        "output = model.generate(inputs=encodeds,\n",
        "                        max_new_tokens=256,\n",
        "                        pad_token_id=tokenizer.eos_token_id,\n",
        "                        top_p=0.7,\n",
        "                        streamer=streamer,\n",
        "                        eos_token_id=[\n",
        "                            tokenizer.eos_token_id,\n",
        "                            tokenizer.convert_tokens_to_ids(\"<|eot_id|>\")\n",
        "                        ])\n",
        "\n",
        "decode_output = tokenizer.decode(output[0], skip_special_tokens=False, clean_up_tokenization_spaces=True)"
      ],
      "metadata": {
        "colab": {
          "base_uri": "https://localhost:8080/"
        },
        "id": "DvCEA_d08dHV",
        "outputId": "160a549e-6cf0-4715-814f-2c2b3f17d7a1"
      },
      "execution_count": 17,
      "outputs": [
        {
          "output_type": "stream",
          "name": "stdout",
          "text": [
            "<|begin_of_text|>You are a best AI patent expert. Let’s think step by step.<|start_header_id|>user<|end_header_id|>\n",
            "\n",
            "text: \"[TECHNICAL FIELD] [0001] By using the mineral ion active water the invention sterilizes the penicillium growing up under the surface of the Lentinus edodes sawdust media. It relates to increase the mineral component among the nutrient component of the produced Lentinus edodes and cultivate. [BACKGROUND ART] [0002] The method of production is the mode cultivated to the edible mushrooms interest medicinal mushroom which the Lentinus edodes populars is known in 1 year to the material wood produced with two times changed among the year into the sawdust of black oak culture medium can cultivate. In house, the year arbitration times is become easy that the various germs therefore propagates in the sawdust media. The double penicillium widely spreads to the sawdust media. It buries in the Lentinus edodes and the marketability is dropt down and the income of the farmhouse is fallen. [0003] It had the existing different attempt (the chemicals usage etc. it sprinkles alcohol it cleans with the loofah) for sterilizing the penicillium but the certain removal of the penicillium cannot. [DISCLOSURE OF THE INVENTION] [0004] The present invention is to provide the Lentinus edodes cultivation method in which it does not use the method it sterilizes the penicillium to the physical chemical method by utilizing the mineral active ion number for the Lentinus edodes cultivation and for removing and it utterly sterilizes the penicillium to the method which is the environment-friendly even when the sterilizing power is excellent and it can remove and as to the Lentinus edodes, which and is cultivated the penicillium removal and mineral component can be strengthened. [0005] Like this, the invention is the mineral active ion number is provided to the consumer the Lentinus edodes in which it can obtain the Lentinus edodes excellent in terms of marketability in which the outer tube of the Lentinus edodes as well as the penicillium bactericidal action etc. is excellent in case of growing the Lentinus edodes by using and weight increases and especially, the mineral content is abundant. [0006] Moreover, it says to be very useful invention lice which grows the Lentinus edodes even though it does not use the drug for the rox or the poisonous general disinfection in the Lentinus edodes cultivation and has the effect that can become the big help in the health of the consumer. [BRIEF DESCRIPTION OF THE DRAWINGS] [0007] [DESCRIPTION OF EMBODIMENTS] [0008] The invention is made to be equal to specifically, next. [0009] It was clarified not to nearly give the toxicity the high voltage ion activated water to all virus wool human bodies at all and immediately completely sterilize with contact. Since it each other is absorbed has the positive charge (+) has the negative charge () the sterilization process principles of the mineral ion active water sterilizes. This is made to be equal to next, it organizes. [0010] The bacteria body temperature is dropt down - all metallic ions the thermal conductance is high and the bacteria body temperature is rapidly comprised the ambient temperature and balance(35  20 ) [0011] The moisture evaporation accompanied with the dehydration - heat conduction of the bacteria(95% moisture  50% moisture) [0012]  The oxygen required for the respiratory metabolism of the suffocation bacteria of the bacteria is snatched. [0013]  The positive charge (+) of the break down - mineral ion of the bacteria shell destroys the cell membrane. [0014] Moreover, the mineral content of the mineral ion active water is same as those of [table 1]. [0015] [ 1] The mineral content of the mineral ion active water. Sample distillation. Inorganic material (unit : mg/L) pH K Ca Mg Fe Na Mineral active ion number. 1300.0 65.0 3.30 0.01 57.0 7.10(17.3) Subsurface water (raw water) 6.3 29.0 3.6 0.01 13.0 7.30(13.6) [0016] [Table 1] The mineral (K, Ca, Mg) of the mineral active ion number very much showed up in comparison with the subsurface water as there appeared. As a result of this, it means in case of using in all kinds of the plant cultivations or the food processing obtaining the strengthening effect of the mineral nutrient. It requested to Korea Testing and Research Institute for Chemical with the KSM testing method and it analyzed the mineral component analysis of the active ion number. [0017] It is explained in the ionic activity number manufacturing device patent using the high voltage of 10-2001-0025030 applied for patent and the cultivation method which here is not manufacturing method decides to be illustrated the manufacturing method of the mineral active ion number for the invention penicillium sterilization. [0018] The experiment for finding out the quality characteristic of the Lentinus edodes which it cultivated by using the bactericidal action of the penicillium of the Lentinus edodes sawdust media using the mineral active ion number obtained to the patent product described in the above and mineral active ion number was performed like the next. [0019] Firstly, it sprinkled on the Lentinus edodes sawdust media through the mist blower which it set up in the Lentinus edodes cultivation house in the experiment for the bactericidal action explaining after receiving the mineral active ion number in the reservoir box of 3 tone with the bis die, the church for 15 minutes, and 15 and the sterilizing power of the penicillium generated with the generation whether or not of the penicillium was measured. [0020] The result showed in the next table 2. [0021] [ 2] The penicillium bactericidal test by the mineral active ion number. Treatment plot. Sawdust media changes in appearance. 3 primary. 6 primary. 9 primary. 12 primary. 15 primary. The sawdust media which is not polluted in the penicillium. It and the penicillium generation will not be achieved. It and the penicillium generation will not be achieved. It and the penicillium generation will not be achieved. It and the penicillium generation will not be achieved. It and the penicillium generation will not be achieved. The sawdust media polluted by 30% under in the penicillium. Penicillium 30% contamination. Penicillium 15% contamination. Penicillium 5% contamination. Penicillium contamination none. Penicillium contamination none. The sawdust media polluted in the penicillium with 50~70%. Penicillium 70% contamination. Penicillium 50% contamination. Penicillium 30% contamination. Penicillium 5% contamination. Penicillium contamination none. [0022] As shown in the above table 2, the bactericidal action of the Lentinus edodes sawdust media penicillium of the mineral active ion number could obtain the very good result. [0023] That is, the function one-dimensionaled of just supplying moisture to the sawdust media and Lentinus edodes when using the general paper sewage was done. However when using the mineral active ion number the bactericidal action of the penicillium which was the decay factor of the sawdust media as well as the Hydration, one-dimensionaled very high showed up. Moreover, the deodorization effect of the characteristic of the various germs removal of the penicillium extrinsic and house inside incidentally kept pace and it showed up. [0024] It was excellent than the quality of the Lentinus edodes which it cultivated by using the mineral active ion number just cultivated in the exterior quality to the subsurface water. And with expecting the effect as the health food in which the mineral content was strengthened in case of the Lentinus edodes which as shown in the above table 3, was cultivated to the mineral active ion number it was determined. [0025] Like this, in case the final result of the present invention grows the Lentinus edodes by using the mineral active ion number the outer tube of the Lentinus edodes as well as the bactericidal action etc. is excellent. The excellent lentinus edodes in which especially, the mineral content is strengthened can be provided. And the weight increase and marketability of the Lentinus edodes are excellent and the income of the farming family is raised but it can help. [0026] [ 3] The Lentinus edodes cultivation experiment using the mineral active ion number. Sample distillation. Inorganic material (unit : mg) Piece average weight (g) K Ca Zn Fe The Lentinus edodes cultivated to the mineral active ion number. 650 45 32 35 35 The Lentinus edodes cultivated to the subsurface water (raw water). 256 4 0.28 1.2 25 [REFERENCE SIGNS LIST] [0027]\" \n",
            "\n",
            " What is the main purpose of the present invention and what problem does it solve?<|eot_id|><|start_header_id|>assistant<|end_header_id|>\n",
            "\n",
            "The main purpose of the present invention is to provide a method for cultivating Lentinus edodes mushrooms using mineral active ion water to enhance the mineral content and bactericidal activity of the mushrooms, thus increasing their marketability and profitability for farmers. The present invention solves the problem of how to effectively remove penicillium and other harmful bacteria from the sawdust media used to cultivate Lentinus edodes mushrooms, without relying on chemical disinfectants or other harmful substances.<|end_of_text|>\n"
          ]
        }
      ]
    },
    {
      "cell_type": "code",
      "source": [
        "print(decode_output.split('<|start_header_id|>assistant<|end_header_id|>')[1])"
      ],
      "metadata": {
        "colab": {
          "base_uri": "https://localhost:8080/"
        },
        "id": "uQFsH393Fs4m",
        "outputId": "ca94e633-fc1c-431d-fe34-581094dae722"
      },
      "execution_count": 18,
      "outputs": [
        {
          "output_type": "stream",
          "name": "stdout",
          "text": [
            "\n",
            "\n",
            "The main purpose of the present invention is to provide a method for cultivating Lentinus edodes mushrooms using mineral active ion water to enhance the mineral content and bactericidal activity of the mushrooms, thus increasing their marketability and profitability for farmers. The present invention solves the problem of how to effectively remove penicillium and other harmful bacteria from the sawdust media used to cultivate Lentinus edodes mushrooms, without relying on chemical disinfectants or other harmful substances.<|end_of_text|>\n"
          ]
        }
      ]
    },
    {
      "cell_type": "markdown",
      "source": [
        "![image.png](data:image/png;base64,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)"
      ],
      "metadata": {
        "id": "9lG0KhL9HBs1"
      }
    },
    {
      "cell_type": "code",
      "source": [
        "print(decode_output.split('<|start_header_id|>assistant<|end_header_id|>')[1])"
      ],
      "metadata": {
        "id": "RDi-j52896Jw",
        "colab": {
          "base_uri": "https://localhost:8080/"
        },
        "outputId": "5ca72d8a-e794-4a1f-b9dc-e97ad77b56d8"
      },
      "execution_count": 12,
      "outputs": [
        {
          "output_type": "stream",
          "name": "stdout",
          "text": [
            "\n",
            "\n",
            "1. What is the main purpose of the present invention and what problem does it solve?\n",
            "2. Can you explain how the mineral active ion number is utilized for the sterilization of the penicillium and the strengthening of the mineral component in the Lentinus edodes?\n",
            "3. How does the invention help to increase the marketability of the Lentinus edodes?\n",
            "4. What are the chemical components of the mineral active ion number and how do they contribute to the bactericidal action and deodorization effect?\n",
            "5. How does the invention help to reduce the use of drugs and chemical disinfectants in the Lentinus edodes cultivation process?\n",
            "6. What are the key features of the invention and how does it differ from the conventional methods of Lentinus edodes cultivation?\n",
            "7. What is the significance of the experiment results shown in Table 2 and how do they support the effectiveness of the present invention?\n",
            "8. Can you explain how the invention can help to increase the income of the farming family and promote the health of the consumer?<|end_of_text|>\n"
          ]
        }
      ]
    }
  ]
}
