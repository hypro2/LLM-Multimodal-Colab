{
 "cells": [
  {
   "cell_type": "code",
   "execution_count": 30,
   "id": "c4039e42-d870-45f3-8978-23415161859f",
   "metadata": {
    "tags": []
   },
   "outputs": [],
   "source": [
    "# from huggingface_hub import notebook_login\n",
    "# notebook_login()"
   ]
  },
  {
   "cell_type": "code",
   "execution_count": 31,
   "id": "40f4e9ac-87a4-4084-80d2-c1ae03c91668",
   "metadata": {
    "tags": []
   },
   "outputs": [],
   "source": [
    "from huggingface_hub import snapshot_download"
   ]
  },
  {
   "cell_type": "code",
   "execution_count": 2,
   "id": "32922c72-d830-4679-9714-052de1e87efd",
   "metadata": {
    "tags": []
   },
   "outputs": [],
   "source": [
    "import os"
   ]
  },
  {
   "cell_type": "code",
   "execution_count": 3,
   "id": "af8b3385-0ce3-4ef6-96f8-95cfb3e1bde4",
   "metadata": {
    "tags": []
   },
   "outputs": [],
   "source": [
    "repo_id = 'mistral-community/Mixtral-8x22B-v0.1-4bit'"
   ]
  },
  {
   "cell_type": "code",
   "execution_count": 4,
   "id": "7adf95bc-484c-4959-83ee-b19487552ccb",
   "metadata": {
    "tags": []
   },
   "outputs": [],
   "source": [
    "local_dir_path = './Mixtral-8x22B-v0.1-4bit'"
   ]
  },
  {
   "cell_type": "code",
   "execution_count": 5,
   "id": "7903ff41-3eee-4b49-8fa0-19fe88c6be94",
   "metadata": {
    "tags": []
   },
   "outputs": [
    {
     "data": {
      "application/vnd.jupyter.widget-view+json": {
       "model_id": "5d108699be3e4c38a8df6d7337c6d75d",
       "version_major": 2,
       "version_minor": 0
      },
      "text/plain": [
       "Fetching 23 files:   0%|          | 0/23 [00:00<?, ?it/s]"
      ]
     },
     "metadata": {},
     "output_type": "display_data"
    },
    {
     "data": {
      "application/vnd.jupyter.widget-view+json": {
       "model_id": "338034ace786491380db12ef2c1acb60",
       "version_major": 2,
       "version_minor": 0
      },
      "text/plain": [
       "README.md:   0%|          | 0.00/1.95k [00:00<?, ?B/s]"
      ]
     },
     "metadata": {},
     "output_type": "display_data"
    },
    {
     "data": {
      "application/vnd.jupyter.widget-view+json": {
       "model_id": "2edee0baaca6445195593921c2f3c2ec",
       "version_major": 2,
       "version_minor": 0
      },
      "text/plain": [
       "generation_config.json:   0%|          | 0.00/111 [00:00<?, ?B/s]"
      ]
     },
     "metadata": {},
     "output_type": "display_data"
    },
    {
     "data": {
      "application/vnd.jupyter.widget-view+json": {
       "model_id": "a776bdea28064324954bb22de6cb6748",
       "version_major": 2,
       "version_minor": 0
      },
      "text/plain": [
       "model-00001-of-00015.safetensors:   0%|          | 0.00/4.99G [00:00<?, ?B/s]"
      ]
     },
     "metadata": {},
     "output_type": "display_data"
    },
    {
     "data": {
      "application/vnd.jupyter.widget-view+json": {
       "model_id": "b21a9c3c5a9f4170837883250722c9b2",
       "version_major": 2,
       "version_minor": 0
      },
      "text/plain": [
       "model-00003-of-00015.safetensors:   0%|          | 0.00/4.96G [00:00<?, ?B/s]"
      ]
     },
     "metadata": {},
     "output_type": "display_data"
    },
    {
     "data": {
      "application/vnd.jupyter.widget-view+json": {
       "model_id": "8f59889b71ba43a2b11f60e859450789",
       "version_major": 2,
       "version_minor": 0
      },
      "text/plain": [
       "config.json:   0%|          | 0.00/1.18k [00:00<?, ?B/s]"
      ]
     },
     "metadata": {},
     "output_type": "display_data"
    },
    {
     "data": {
      "application/vnd.jupyter.widget-view+json": {
       "model_id": "9bf4f5ee31a5428cb0c2e91da5815423",
       "version_major": 2,
       "version_minor": 0
      },
      "text/plain": [
       "model-00002-of-00015.safetensors:   0%|          | 0.00/4.96G [00:00<?, ?B/s]"
      ]
     },
     "metadata": {},
     "output_type": "display_data"
    },
    {
     "data": {
      "application/vnd.jupyter.widget-view+json": {
       "model_id": "20f9c60f7bb24491861e3e6cf1829baf",
       "version_major": 2,
       "version_minor": 0
      },
      "text/plain": [
       ".gitattributes:   0%|          | 0.00/1.52k [00:00<?, ?B/s]"
      ]
     },
     "metadata": {},
     "output_type": "display_data"
    },
    {
     "data": {
      "application/vnd.jupyter.widget-view+json": {
       "model_id": "cce36b86932348a2bf78c8da76e56d97",
       "version_major": 2,
       "version_minor": 0
      },
      "text/plain": [
       "model-00005-of-00015.safetensors:   0%|          | 0.00/4.97G [00:00<?, ?B/s]"
      ]
     },
     "metadata": {},
     "output_type": "display_data"
    },
    {
     "data": {
      "application/vnd.jupyter.widget-view+json": {
       "model_id": "e8b624b2974c42afa3687531310d7eb0",
       "version_major": 2,
       "version_minor": 0
      },
      "text/plain": [
       "model-00006-of-00015.safetensors:   0%|          | 0.00/4.96G [00:00<?, ?B/s]"
      ]
     },
     "metadata": {},
     "output_type": "display_data"
    },
    {
     "data": {
      "application/vnd.jupyter.widget-view+json": {
       "model_id": "25d4285058824bf1892bc4049174b380",
       "version_major": 2,
       "version_minor": 0
      },
      "text/plain": [
       "model-00004-of-00015.safetensors:   0%|          | 0.00/4.96G [00:00<?, ?B/s]"
      ]
     },
     "metadata": {},
     "output_type": "display_data"
    },
    {
     "data": {
      "application/vnd.jupyter.widget-view+json": {
       "model_id": "7bec5b54eb3640cda6cea89fa3db56b1",
       "version_major": 2,
       "version_minor": 0
      },
      "text/plain": [
       "model-00007-of-00015.safetensors:   0%|          | 0.00/4.96G [00:00<?, ?B/s]"
      ]
     },
     "metadata": {},
     "output_type": "display_data"
    },
    {
     "data": {
      "application/vnd.jupyter.widget-view+json": {
       "model_id": "1360320e15714b3a943551c5b907a5f8",
       "version_major": 2,
       "version_minor": 0
      },
      "text/plain": [
       "model-00008-of-00015.safetensors:   0%|          | 0.00/4.96G [00:00<?, ?B/s]"
      ]
     },
     "metadata": {},
     "output_type": "display_data"
    },
    {
     "data": {
      "application/vnd.jupyter.widget-view+json": {
       "model_id": "d5073a1f4fed4866b5c5bb8da5123b3d",
       "version_major": 2,
       "version_minor": 0
      },
      "text/plain": [
       "model-00009-of-00015.safetensors:   0%|          | 0.00/4.96G [00:00<?, ?B/s]"
      ]
     },
     "metadata": {},
     "output_type": "display_data"
    },
    {
     "data": {
      "application/vnd.jupyter.widget-view+json": {
       "model_id": "ca96d18ad9614e38a570b55e0cdcd219",
       "version_major": 2,
       "version_minor": 0
      },
      "text/plain": [
       "model-00010-of-00015.safetensors:   0%|          | 0.00/4.96G [00:00<?, ?B/s]"
      ]
     },
     "metadata": {},
     "output_type": "display_data"
    },
    {
     "data": {
      "application/vnd.jupyter.widget-view+json": {
       "model_id": "c701f3705d0a44e8a25d3a66b4f53e6a",
       "version_major": 2,
       "version_minor": 0
      },
      "text/plain": [
       "model-00012-of-00015.safetensors:   0%|          | 0.00/4.96G [00:00<?, ?B/s]"
      ]
     },
     "metadata": {},
     "output_type": "display_data"
    },
    {
     "data": {
      "application/vnd.jupyter.widget-view+json": {
       "model_id": "a81701b0401b4b0a880688b6008c3bce",
       "version_major": 2,
       "version_minor": 0
      },
      "text/plain": [
       "model-00013-of-00015.safetensors:   0%|          | 0.00/4.96G [00:00<?, ?B/s]"
      ]
     },
     "metadata": {},
     "output_type": "display_data"
    },
    {
     "data": {
      "application/vnd.jupyter.widget-view+json": {
       "model_id": "387469057d6a4ac987f8eb11a66c930e",
       "version_major": 2,
       "version_minor": 0
      },
      "text/plain": [
       "model-00011-of-00015.safetensors:   0%|          | 0.00/4.97G [00:00<?, ?B/s]"
      ]
     },
     "metadata": {},
     "output_type": "display_data"
    },
    {
     "data": {
      "application/vnd.jupyter.widget-view+json": {
       "model_id": "6a9d9f40f1d44f32a47dd44b9bbc323d",
       "version_major": 2,
       "version_minor": 0
      },
      "text/plain": [
       "model-00014-of-00015.safetensors:   0%|          | 0.00/4.96G [00:00<?, ?B/s]"
      ]
     },
     "metadata": {},
     "output_type": "display_data"
    },
    {
     "data": {
      "application/vnd.jupyter.widget-view+json": {
       "model_id": "b0dd3b92fbcd47788daee3b89cec682e",
       "version_major": 2,
       "version_minor": 0
      },
      "text/plain": [
       "special_tokens_map.json:   0%|          | 0.00/414 [00:00<?, ?B/s]"
      ]
     },
     "metadata": {},
     "output_type": "display_data"
    },
    {
     "data": {
      "application/vnd.jupyter.widget-view+json": {
       "model_id": "056fcf11fb254f6da43ab7019d82f2e9",
       "version_major": 2,
       "version_minor": 0
      },
      "text/plain": [
       "model.safetensors.index.json:   0%|          | 0.00/1.05M [00:00<?, ?B/s]"
      ]
     },
     "metadata": {},
     "output_type": "display_data"
    },
    {
     "data": {
      "application/vnd.jupyter.widget-view+json": {
       "model_id": "2afddb71ad9f478fa3655591c0d86e93",
       "version_major": 2,
       "version_minor": 0
      },
      "text/plain": [
       "tokenizer_config.json:   0%|          | 0.00/967 [00:00<?, ?B/s]"
      ]
     },
     "metadata": {},
     "output_type": "display_data"
    },
    {
     "data": {
      "application/vnd.jupyter.widget-view+json": {
       "model_id": "22889598f933485e82f1803db720de55",
       "version_major": 2,
       "version_minor": 0
      },
      "text/plain": [
       "tokenizer.json:   0%|          | 0.00/1.80M [00:00<?, ?B/s]"
      ]
     },
     "metadata": {},
     "output_type": "display_data"
    },
    {
     "data": {
      "application/vnd.jupyter.widget-view+json": {
       "model_id": "869eb472bbac4dd18a5032bbfca93ba4",
       "version_major": 2,
       "version_minor": 0
      },
      "text/plain": [
       "model-00015-of-00015.safetensors:   0%|          | 0.00/3.65G [00:00<?, ?B/s]"
      ]
     },
     "metadata": {},
     "output_type": "display_data"
    },
    {
     "data": {
      "text/plain": [
       "'/root/data/Mixtral-8x22B-v0.1-4bit'"
      ]
     },
     "execution_count": 5,
     "metadata": {},
     "output_type": "execute_result"
    }
   ],
   "source": [
    "snapshot_download(repo_id=repo_id, cache_dir=local_dir_path, local_dir=local_dir_path, local_dir_use_symlinks=False)"
   ]
  },
  {
   "cell_type": "code",
   "execution_count": 1,
   "id": "16b536bd-a514-49b9-b97d-cb27ad1ceeda",
   "metadata": {
    "tags": []
   },
   "outputs": [
    {
     "name": "stderr",
     "output_type": "stream",
     "text": [
      "`low_cpu_mem_usage` was None, now set to True since model is quantized.\n"
     ]
    },
    {
     "data": {
      "application/vnd.jupyter.widget-view+json": {
       "model_id": "191b8b13e5c841cb93d3e3ce925baefa",
       "version_major": 2,
       "version_minor": 0
      },
      "text/plain": [
       "Loading checkpoint shards:   0%|          | 0/15 [00:00<?, ?it/s]"
      ]
     },
     "metadata": {},
     "output_type": "display_data"
    },
    {
     "name": "stderr",
     "output_type": "stream",
     "text": [
      "Setting `pad_token_id` to `eos_token_id`:2 for open-end generation.\n",
      "/root/easymaker/custom-conda-envs/llama_factory2/lib/python3.10/site-packages/transformers/generation/utils.py:1460: UserWarning: You are calling .generate() with the `input_ids` being on a device type different than your model's device. `input_ids` is on cpu, whereas the model is on cuda. You may experience unexpected behaviors or slower generation. Please make sure that you have put `input_ids` to the correct device by calling for example input_ids = input_ids.to('cuda') before running `.generate()`.\n",
      "  warnings.warn(\n"
     ]
    },
    {
     "name": "stdout",
     "output_type": "stream",
     "text": [
      "Who is Einstein?\n",
      "\n",
      "Albert Einstein was a German-born theoretical physicist who developed the theory of rel\n"
     ]
    }
   ],
   "source": [
    "from transformers import AutoModelForCausalLM, AutoTokenizer\n",
    "\n",
    "model_id = \"./Mixtral-8x22B-v0.1-4bit\"\n",
    "tokenizer = AutoTokenizer.from_pretrained(model_id)\n",
    "\n",
    "model = AutoModelForCausalLM.from_pretrained(model_id)\n",
    "\n",
    "text = \"Who is Einstein?\"\n",
    "inputs = tokenizer(text, return_tensors=\"pt\")\n",
    "\n",
    "outputs = model.generate(**inputs, max_new_tokens=20)\n",
    "print(tokenizer.decode(outputs[0], skip_special_tokens=True))\n"
   ]
  },
  {
   "cell_type": "code",
   "execution_count": 29,
   "id": "ef148e31-5c70-4b0e-8355-774886719bcd",
   "metadata": {
    "tags": []
   },
   "outputs": [
    {
     "name": "stdout",
     "output_type": "stream",
     "text": [
      "<s> Who is Einstein?\n",
      "Einstein was a German-born theoretical physicist. He developed the general theory of relativity, one of two pillars in modern physics (alongside quantum mechanics). His work has also been used to develop nuclear weapons and energy production through his famous equation E=mc2 which states that mass can be converted into pure Energy! In 1905 he published four papers on different topics including special Relativistic effects such as time dilation or length contraction; these would later become known collectively under what we now call “theory.” The Nobel Prize committee awarded him their prestigious award for this contribution towards science – but not before they had tried unsuccessfully several times over many years due largely because there were no other candidates available at all during those periods when nominations could still happen…</s>\n",
      "<s> Who is Einstein?\n",
      "Einstein was a German-born theoretical physicist. He developed the general theory of relativity, one of two pillars in modern physics (alongside quantum mechanics). His work has also been used to develop nuclear weapons and energy production through his famous equation E=mc2 which states that mass can be converted into pure Energy! In 1905 he published four papers on different topics including special Relativistic effects such as time dilation or length contraction; these would later become known collectively under what we now call “theory.” The Nobel Prize committee awarded him their prestigious award for this contribution towards science – but not before they had tried unsuccessfully several times over many years due largely because there were no other candidates available at all during those periods when nominations could still happen…</s>\n"
     ]
    }
   ],
   "source": [
    "from transformers import TextStreamer\n",
    "\n",
    "text = \"Who is Einstein?\"\n",
    "inputs = tokenizer(text, return_tensors=\"pt\")\n",
    "\n",
    "output = model.generate(**inputs,\n",
    "                        streamer=TextStreamer(tokenizer),\n",
    "                        max_new_tokens=256,\n",
    "                        pad_token_id=tokenizer.eos_token_id,\n",
    "                        repetition_penalty=1.4,\n",
    "                        temperature=0.01)\n",
    "\n",
    "print(tokenizer.decode(output[0]))"
   ]
  },
  {
   "cell_type": "code",
   "execution_count": 41,
   "id": "4a9cf877-30cf-4533-a3a5-4edf4517508f",
   "metadata": {
    "tags": []
   },
   "outputs": [
    {
     "name": "stderr",
     "output_type": "stream",
     "text": [
      "The attention mask and the pad token id were not set. As a consequence, you may observe unexpected behavior. Please pass your input's `attention_mask` to obtain reliable results.\n",
      "Setting `pad_token_id` to `eos_token_id`:2 for open-end generation.\n"
     ]
    },
    {
     "name": "stdout",
     "output_type": "stream",
     "text": [
      "<s> [INST] ```\n",
      "하루 우라라\n",
      "이 카드명의 효과는 1턴에 1번밖에 사용할 수 없다.\n",
      "①: 이하의 어느 효과를 포함하는 마법 / 함정 / 몬스터의 효과가 발동했을 때, 이 카드를 패에서 버리고 발동할 수 있다. 그 효과를 무효로 한다.\n",
      "●덱에서 카드를 패에 넣는 효과\n",
      "●덱에서 몬스터를 특수 소환하는 효과\n",
      "●덱에서 카드를 묘지로 보내는 효과\n",
      "```\n",
      "이 카드는 자신 턴 / 상대 턴 상관없이 패에서 효과를 발동해서 상대를 견제할 수 있는 패트랩입니다.\n",
      "덱에서 카드를 패에 넣거나, 묘지로 보내거나, 몬스터를 특수 소환하는 효과를 무효화할 수 있습니다.\n",
      "이 카드의 텍스트에서 가장 주의해야 하는 부분은 '이하의 어느 효과를 포함하는'의 서술입니다.\n",
      "텍스트 어딘가에 저 세 가지 효과 가운데 하나라도 포함이 되었다면 무효화가 가능하다는 뜻입니다.\n",
      "```\n",
      "개기일식의 서\n",
      "속공 마법\n",
      "①: 필드의 앞면 표시 몬스터를 전부 뒷면 수비 표시로 한다. 이 턴의 엔드 페이즈에, 상대 필드의 뒷면 수비 표시 몬스터를 전부 앞면 수비 표시로 하고, 그 후, 이 효과로 앞면 수비 표시로 한 몬스터의 수만큼 상대는 덱에서 드로우한다.\n",
      "```\n",
      "\n",
      "Q:상대가 개기일식의 서를 발동했습니다. 개기일식의 서의 효과에 체인하여 하루 우라라를 발동하여 상대의 효과를 무효화 수 있을까요? [/INST]\n",
      "\n",
      "[ANS]\n",
      "\n",
      "[ANS] 불가능합니다.\n",
      "\n",
      "개기일식의 서의 효과는 덱에서 카드를 패에 넣는 효과, 덱에서 몬스터를 특수 소환하는 효과, 덱에서 카드를 묘지로 보내는 효과를 포함하지 않습니다.\n",
      "\n",
      "따라서 하루 우라라의 효과를 발동할 수 없습니다.\n",
      "\n",
      "[/ANS]</s>\n",
      "<s> [INST] ```\n",
      "하루 우라라\n",
      "이 카드명의 효과는 1턴에 1번밖에 사용할 수 없다.\n",
      "①: 이하의 어느 효과를 포함하는 마법 / 함정 / 몬스터의 효과가 발동했을 때, 이 카드를 패에서 버리고 발동할 수 있다. 그 효과를 무효로 한다.\n",
      "●덱에서 카드를 패에 넣는 효과\n",
      "●덱에서 몬스터를 특수 소환하는 효과\n",
      "●덱에서 카드를 묘지로 보내는 효과\n",
      "```\n",
      "이 카드는 자신 턴 / 상대 턴 상관없이 패에서 효과를 발동해서 상대를 견제할 수 있는 패트랩입니다.\n",
      "덱에서 카드를 패에 넣거나, 묘지로 보내거나, 몬스터를 특수 소환하는 효과를 무효화할 수 있습니다.\n",
      "이 카드의 텍스트에서 가장 주의해야 하는 부분은 '이하의 어느 효과를 포함하는'의 서술입니다.\n",
      "텍스트 어딘가에 저 세 가지 효과 가운데 하나라도 포함이 되었다면 무효화가 가능하다는 뜻입니다.\n",
      "```\n",
      "개기일식의 서\n",
      "속공 마법\n",
      "①: 필드의 앞면 표시 몬스터를 전부 뒷면 수비 표시로 한다. 이 턴의 엔드 페이즈에, 상대 필드의 뒷면 수비 표시 몬스터를 전부 앞면 수비 표시로 하고, 그 후, 이 효과로 앞면 수비 표시로 한 몬스터의 수만큼 상대는 덱에서 드로우한다.\n",
      "```\n",
      "\n",
      "Q:상대가 개기일식의 서를 발동했습니다. 개기일식의 서의 효과에 체인하여 하루 우라라를 발동하여 상대의 효과를 무효화 수 있을까요? [/INST]\n",
      "\n",
      "[ANS]\n",
      "\n",
      "[ANS] 불가능합니다.\n",
      "\n",
      "개기일식의 서의 효과는 덱에서 카드를 패에 넣는 효과, 덱에서 몬스터를 특수 소환하는 효과, 덱에서 카드를 묘지로 보내는 효과를 포함하지 않습니다.\n",
      "\n",
      "따라서 하루 우라라의 효과를 발동할 수 없습니다.\n",
      "\n",
      "[/ANS]</s>\n"
     ]
    }
   ],
   "source": [
    "text = \"\"\"```\n",
    "하루 우라라\n",
    "이 카드명의 효과는 1턴에 1번밖에 사용할 수 없다.\n",
    "①: 이하의 어느 효과를 포함하는 마법 / 함정 / 몬스터의 효과가 발동했을 때, 이 카드를 패에서 버리고 발동할 수 있다. 그 효과를 무효로 한다.\n",
    "●덱에서 카드를 패에 넣는 효과\n",
    "●덱에서 몬스터를 특수 소환하는 효과\n",
    "●덱에서 카드를 묘지로 보내는 효과\n",
    "```\n",
    "이 카드는 자신 턴 / 상대 턴 상관없이 패에서 효과를 발동해서 상대를 견제할 수 있는 패트랩입니다.\n",
    "덱에서 카드를 패에 넣거나, 묘지로 보내거나, 몬스터를 특수 소환하는 효과를 무효화할 수 있습니다.\n",
    "이 카드의 텍스트에서 가장 주의해야 하는 부분은 '이하의 어느 효과를 포함하는'의 서술입니다.\n",
    "텍스트 어딘가에 저 세 가지 효과 가운데 하나라도 포함이 되었다면 무효화가 가능하다는 뜻입니다.\n",
    "```\n",
    "개기일식의 서\n",
    "속공 마법\n",
    "①: 필드의 앞면 표시 몬스터를 전부 뒷면 수비 표시로 한다. 이 턴의 엔드 페이즈에, 상대 필드의 뒷면 수비 표시 몬스터를 전부 앞면 수비 표시로 하고, 그 후, 이 효과로 앞면 수비 표시로 한 몬스터의 수만큼 상대는 덱에서 드로우한다.\n",
    "```\n",
    "\n",
    "Q:상대가 개기일식의 서를 발동했습니다. 개기일식의 서의 효과에 체인하여 하루 우라라를 발동하여 상대의 효과를 무효화 수 있을까요?\"\"\"\n",
    "\n",
    "messages = [\n",
    "    {\"role\": \"user\", \"content\": f\"{text}\"},\n",
    "]\n",
    "inputs = tokenizer.apply_chat_template(messages, return_tensors=\"pt\").cuda()\n",
    "\n",
    "\n",
    "output = model.generate(inputs,\n",
    "                        streamer=TextStreamer(tokenizer),\n",
    "                        max_new_tokens=1024,\n",
    "                        # pad_token_id=tokenizer.eos_token_id,\n",
    "                        # repetition_penalty=1.4,\n",
    "                        temperature=0.01)\n",
    "\n",
    "print(tokenizer.decode(output[0]))"
   ]
  },
  {
   "cell_type": "code",
   "execution_count": null,
   "id": "e1387857-d6a6-420f-b118-a2108e003374",
   "metadata": {},
   "outputs": [],
   "source": []
  },
  {
   "attachments": {
    "23add54a-6720-4593-aab3-47045849ab87.png": {
     "image/png": "[encoded data removed]"
    }
   },
   "cell_type": "markdown",
   "id": "34169ce0-b18e-4f17-8f14-c925b474549c",
   "metadata": {},
   "source": [
    "![image.png](attachment:23add54a-6720-4593-aab3-47045849ab87.png)"
   ]
  }
 ],
 "metadata": {
  "kernelspec": {
   "display_name": "llama_factory2",
   "language": "python",
   "name": "llama_factory2"
  },
  "language_info": {
   "codemirror_mode": {
    "name": "ipython",
    "version": 3
   },
   "file_extension": ".py",
   "mimetype": "text/x-python",
   "name": "python",
   "nbconvert_exporter": "python",
   "pygments_lexer": "ipython3",
   "version": "3.10.13"
  }
 },
 "nbformat": 4,
 "nbformat_minor": 5
}
