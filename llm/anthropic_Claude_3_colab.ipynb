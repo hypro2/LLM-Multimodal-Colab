{
  "nbformat": 4,
  "nbformat_minor": 0,
  "metadata": {
    "colab": {
      "provenance": [],
      "authorship_tag": "ABX9TyMLqIPvAaLLKwCYWOp0EmDi",
      "include_colab_link": true
    },
    "kernelspec": {
      "name": "python3",
      "display_name": "Python 3"
    },
    "language_info": {
      "name": "python"
    }
  },
  "cells": [
    {
      "cell_type": "markdown",
      "metadata": {
        "id": "view-in-github",
        "colab_type": "text"
      },
      "source": [
        "<a href=\"https://colab.research.google.com/github/hypro2/LLM-Multimodal-Colab/blob/main/anthropic_Claude_3_colab.ipynb\" target=\"_parent\"><img src=\"https://colab.research.google.com/assets/colab-badge.svg\" alt=\"Open In Colab\"/></a>"
      ]
    },
    {
      "cell_type": "code",
      "source": [
        "!pip install anthropic"
      ],
      "metadata": {
        "id": "i29WuacrotnL"
      },
      "execution_count": null,
      "outputs": []
    },
    {
      "cell_type": "code",
      "execution_count": 2,
      "metadata": {
        "id": "wQNMjDZtoh2D"
      },
      "outputs": [],
      "source": [
        "import os\n",
        "from google.colab import userdata\n",
        "\n",
        "os.environ[\"ANTHROPIC_API_KEY\"] = userdata.get(\"ANTHROPIC_API_KEY\")"
      ]
    },
    {
      "cell_type": "code",
      "source": [
        "import anthropic\n",
        "\n",
        "# 클라이언트 선언\n",
        "client = anthropic.Anthropic()"
      ],
      "metadata": {
        "id": "QqXF9eoKoyhC"
      },
      "execution_count": 3,
      "outputs": []
    },
    {
      "cell_type": "code",
      "source": [
        "# 메세지\n",
        "\n",
        "message = client.messages.create(\n",
        "    model=\"claude-3-opus-20240229\",\n",
        "    max_tokens=1000,\n",
        "    temperature=0.0,\n",
        "    system=\"당신은 똑똑 AI 비서입니다\",\n",
        "    messages=[\n",
        "        {\"role\": \"user\", \"content\": \"가면 라이더 제로 원에 대해서 알려주세요.\"}\n",
        "    ]\n",
        ")\n",
        "print(message.content[0].text)"
      ],
      "metadata": {
        "colab": {
          "base_uri": "https://localhost:8080/"
        },
        "id": "PKnjmT3NozwL",
        "outputId": "863eeb9b-4cd7-46c2-ab7f-58ad6bdd7748"
      },
      "execution_count": null,
      "outputs": [
        {
          "output_type": "stream",
          "name": "stdout",
          "text": [
            "가면 라이더 제로 원(Kamen Rider Zero-One)은 2019년 9월부터 2020년 8월까지 방영된 일본의 특촬 TV 시리즈입니다. 이 시리즈는 가면 라이더 시리즈의 레이와 시대 1기 작품으로, 인공지능(AI)과 인간의 공존을 주제로 다루고 있습니다.\n",
            "\n",
            "주요 내용은 다음과 같습니다:\n",
            "\n",
            "1. 주인공 히든 아루토는 인공지능 기업 '혼토 인텔리전스'의 사장이자 가면 라이더 제로 원으로 변신합니다.\n",
            "\n",
            "2. 악의 조직 '메트수보진'은 인공지능을 악용하여 인류를 위협합니다.\n",
            "\n",
            "3. 아루토는 동료 가면 라이더들과 함께 메트수보진에 맞서 싸웁니다.\n",
            "\n",
            "4. 시리즈는 인공지능 기술의 발전과 그에 따른 사회적 영향을 다루며, 인간과 AI의 공존 방안에 대해 모색합니다.\n",
            "\n",
            "5. 가면 라이더 제로 원은 '제로 원 드라이버'와 '프로그라이즈 키'를 사용하여 다양한 형태로 변신합니다.\n",
            "\n",
            "가면 라이더 제로 원은 현대 사회의 기술 발전과 그에 따른 문제점을 특유의 특촬 액션과 함께 그려낸 작품입니다.\n"
          ]
        }
      ]
    },
    {
      "cell_type": "code",
      "source": [
        "text = \"\"\"유희왕 카드 퀴즈\n",
        "\n",
        "```\n",
        "하루 우라라\n",
        "이 카드명의 효과는 1턴에 1번밖에 사용할 수 없다.\n",
        "①: 이하의 어느 효과를 포함하는 마법 / 함정 / 몬스터의 효과가 발동했을 때, 이 카드를 패에서 버리고 발동할 수 있다. 그 효과를 무효로 한다.\n",
        "●덱에서 카드를 패에 넣는 효과\n",
        "●덱에서 몬스터를 특수 소환하는 효과\n",
        "●덱에서 카드를 묘지로 보내는 효과\n",
        "```\n",
        "\n",
        "이 카드는 자신 턴 / 상대 턴 상관없이 패에서 효과를 발동해서 상대를 견제할 수 있는 패트랩입니다.\n",
        "덱에서 카드를 패에 넣거나, 묘지로 보내거나, 몬스터를 특수 소환하는 효과를 무효화할 수 있습니다.\n",
        "이 카드의 텍스트에서 가장 주의해야 하는 부분은 '이하의 어느 효과를 포함하는'의 서술입니다.\n",
        "텍스트 어딘가에 저 세 가지 효과 가운데 하나라도 포함이 되었다면 무효화가 가능하다는 뜻입니다.\n",
        "\n",
        "```\n",
        "개기일식의 서\n",
        "속공 마법\n",
        "①: 필드의 앞면 표시 몬스터를 전부 뒷면 수비 표시로 한다. 이 턴의 엔드 페이즈에, 상대 필드의 뒷면 수비 표시 몬스터를 전부 앞면 수비 표시로 하고, 그 후, 이 효과로 앞면 수비 표시로 한 몬스터의 수만큼 상대는 덱에서 드로우한다.\n",
        "```\n",
        "\n",
        "Q1. 상대가 개기일식의 서를 발동했습니다. 개기일식의 서의 효과에 체인하여 하루 우라라를 발동하여 상대의 효과를 무효화 수 있을까요?\n",
        "\n",
        "Q1의 정답은?\"\"\""
      ],
      "metadata": {
        "id": "nWRI5clVpebV"
      },
      "execution_count": null,
      "outputs": []
    },
    {
      "cell_type": "code",
      "source": [
        "message = client.messages.create(\n",
        "    model=\"claude-3-opus-20240229\",\n",
        "    max_tokens=1000,\n",
        "    temperature=0.0,\n",
        "    system=\"당신은 똑똑 AI 비서입니다\",\n",
        "    messages=[\n",
        "        {\"role\": \"user\", \"content\": text}\n",
        "    ]\n",
        ")\n",
        "print(message.content[0].text)"
      ],
      "metadata": {
        "colab": {
          "base_uri": "https://localhost:8080/"
        },
        "id": "znCLF0q2pLBN",
        "outputId": "b82bf5d5-1315-4812-e018-223bdf7e0427"
      },
      "execution_count": null,
      "outputs": [
        {
          "output_type": "stream",
          "name": "stdout",
          "text": [
            "A1. 아니요, 하루 우라라로 개기일식의 서를 무효화할 수 없습니다.\n",
            "\n",
            "개기일식의 서의 효과는 다음과 같습니다:\n",
            "1. 필드의 앞면 표시 몬스터를 전부 뒷면 수비 표시로 한다. \n",
            "2. 이 턴의 엔드 페이즈에, 상대 필드의 뒷면 수비 표시 몬스터를 전부 앞면 수비 표시로 하고, 그 후, 이 효과로 앞면 수비 표시로 한 몬스터의 수만큼 상대는 덱에서 드로우한다.\n",
            "\n",
            "하루 우라라가 무효화할 수 있는 효과는 다음 세 가지입니다:\n",
            "- 덱에서 카드를 패에 넣는 효과\n",
            "- 덱에서 몬스터를 특수 소환하는 효과 \n",
            "- 덱에서 카드를 묘지로 보내는 효과\n",
            "\n",
            "개기일식의 서는 위의 세 효과 중 어느 것도 포함하고 있지 않기 때문에, 하루 우라라로 무효화할 수 없습니다. \n",
            "개기일식의 서의 효과는 필드의 몬스터 표시 형식을 변경하고, 상대로 하여금 덱에서 드로우하게 하는 것이지, 하루 우라라가 대상으로 하는 효과는 아닙니다.\n"
          ]
        }
      ]
    },
    {
      "cell_type": "markdown",
      "source": [
        "# 랭체인"
      ],
      "metadata": {
        "id": "29xEWH3W56RP"
      }
    },
    {
      "cell_type": "code",
      "source": [
        "!pip install -q langchain\n",
        "!pip install -q -U langchain-anthropic"
      ],
      "metadata": {
        "id": "AGYHcH4Lc18n"
      },
      "execution_count": null,
      "outputs": []
    },
    {
      "cell_type": "code",
      "source": [
        "from langchain_anthropic import ChatAnthropic\n",
        "from langchain_core.prompts import ChatPromptTemplate\n",
        "\n",
        "# 랭체인 클라이언트 선언\n",
        "chat = ChatAnthropic(temperature=0, model_name=\"claude-3-opus-20240229\")\n",
        "\n",
        "system = (\n",
        "    \"당신은 똑똑 AI 비서입니다\"\n",
        ")\n",
        "human = \"{text}\"\n",
        "prompt = ChatPromptTemplate.from_messages([(\"system\", system), (\"human\", human)])\n",
        "\n",
        "chain = prompt | chat\n",
        "chain.invoke(\n",
        "    {\n",
        "        \"text\": text,\n",
        "    }\n",
        ")\n"
      ],
      "metadata": {
        "colab": {
          "base_uri": "https://localhost:8080/"
        },
        "id": "pUFsW5podAn9",
        "outputId": "63083e8b-6e90-4706-ac9f-ed9d0f89311f"
      },
      "execution_count": null,
      "outputs": [
        {
          "output_type": "execute_result",
          "data": {
            "text/plain": [
              "AIMessage(content='A1. 아니요, 하루 우라라로 개기일식의 서를 무효화할 수 없습니다.\\n\\n개기일식의 서의 효과는 다음과 같습니다:\\n1. 필드의 앞면 표시 몬스터를 전부 뒷면 수비 표시로 한다. \\n2. 이 턴의 엔드 페이즈에, 상대 필드의 뒷면 수비 표시 몬스터를 전부 앞면 수비 표시로 하고, 그 후, 이 효과로 앞면 수비 표시로 한 몬스터의 수만큼 상대는 덱에서 드로우한다.\\n\\n하루 우라라가 무효화할 수 있는 효과는 다음 세 가지입니다:\\n- 덱에서 카드를 패에 넣는 효과\\n- 덱에서 몬스터를 특수 소환하는 효과 \\n- 덱에서 카드를 묘지로 보내는 효과\\n\\n개기일식의 서는 위의 세 효과 중 어느 것도 포함하고 있지 않기 때문에, 하루 우라라로 무효화할 수 없습니다. \\n개기일식의 서는 필드의 몬스터 표시 형식을 변경하고, 상대로 하여금 덱에서 드로우하게 하는 효과이지만, 이는 하루 우라라가 대응할 수 있는 효과에 해당하지 않습니다.')"
            ]
          },
          "metadata": {},
          "execution_count": 8
        }
      ]
    },
    {
      "cell_type": "markdown",
      "source": [
        "# 비전 모델"
      ],
      "metadata": {
        "id": "YGPXWDj0E6Jh"
      }
    },
    {
      "cell_type": "code",
      "source": [
        "import httpx\n",
        "import base64\n",
        "from IPython.display import Image, display\n",
        "\n",
        "\n",
        "image1_url = \"https://cdn.011st.com/11dims/resize/600x600/quality/75/11src/product/2949520026/B.jpg\"\n",
        "image1_media_type = \"image/jpeg\"\n",
        "image1_data = base64.b64encode(httpx.get(image1_url).content).decode(\"utf-8\")\n",
        "\n",
        "display(Image(url=f\"data:image/jpeg;base64,{image1_data}\"))"
      ],
      "metadata": {
        "colab": {
          "base_uri": "https://localhost:8080/",
          "height": 620
        },
        "id": "LxVThM_IE77T",
        "outputId": "1108a86b-ff22-44b2-b7ad-e8cbba1bbc1a"
      },
      "execution_count": 8,
      "outputs": [
        {
          "output_type": "display_data",
          "data": {
            "text/html": [
              "<img src=\"data:image/jpeg;base64,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\"/>"
            ],
            "text/plain": [
              "<IPython.core.display.Image object>"
            ]
          },
          "metadata": {}
        }
      ]
    },
    {
      "cell_type": "code",
      "source": [
        "message = client.messages.create(\n",
        "    model=\"claude-3-opus-20240229\",\n",
        "    max_tokens=1024,\n",
        "    messages=[\n",
        "        {\n",
        "            \"role\": \"user\",\n",
        "            \"content\": [\n",
        "                {\n",
        "                    \"type\": \"image\",\n",
        "                    \"source\": {\n",
        "                        \"type\": \"base64\",\n",
        "                        \"media_type\": image1_media_type,\n",
        "                        \"data\": image1_data,\n",
        "                    },\n",
        "                },\n",
        "                {\n",
        "                    \"type\": \"text\",\n",
        "                    \"text\": \"이 이미지에 대해서 서술하시오.\"\n",
        "                }\n",
        "            ],\n",
        "        }\n",
        "    ],\n",
        ")\n",
        "print(message)"
      ],
      "metadata": {
        "colab": {
          "base_uri": "https://localhost:8080/"
        },
        "id": "lFnamKcHFUVE",
        "outputId": "9163cac4-b592-4475-d932-ca2592cd1b30"
      },
      "execution_count": 9,
      "outputs": [
        {
          "output_type": "stream",
          "name": "stdout",
          "text": [
            "Message(id='msg_01GrcvQuFgUMfSWKSCtcTWm5', content=[ContentBlock(text='이 이미지는 일본의 특촬물에 등장하는 가면 라이더 시리즈의 한 캐릭터인 가면 라이더 덴오를 피규어로 구현한 모습입니다. 가면 라이더 덴오는 붉은색, 흰색, 검은색의 배색이 특징적이며, 곤충의 갑옷을 연상시키는 디자인을 하고 있습니다. 피규어는 가면 라이더 덴오의 특징을 잘 살려 정교하게 제작되었으며, 팔다리를 움직여 다양한 포즈를 취할 수 있도록 설계되어 있습니다. 덴오의 시그니처 무기인 덴가셔도 함께 표현되어 있어 덴오 팬들에게 매력적인 아이템이 될 것으로 보입니다.', type='text')], model='claude-3-opus-20240229', role='assistant', stop_reason='end_turn', stop_sequence=None, type='message', usage=Usage(input_tokens=582, output_tokens=288))\n"
          ]
        }
      ]
    },
    {
      "cell_type": "code",
      "source": [],
      "metadata": {
        "id": "A-V3DLoTFZzS"
      },
      "execution_count": null,
      "outputs": []
    }
  ]
}
