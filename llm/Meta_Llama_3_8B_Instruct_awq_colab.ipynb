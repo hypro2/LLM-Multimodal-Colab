{
  "nbformat": 4,
  "nbformat_minor": 0,
  "metadata": {
    "colab": {
      "provenance": [],
      "gpuType": "T4",
      "authorship_tag": "ABX9TyOj1PNlQsSRRNWOy+HPS4BB",
      "include_colab_link": true
    },
    "kernelspec": {
      "name": "python3",
      "display_name": "Python 3"
    },
    "language_info": {
      "name": "python"
    },
    "accelerator": "GPU",
    "widgets": {
      "application/vnd.jupyter.widget-state+json": {
        "5411ff9fc4a34f1494f76389941d1e25": {
          "model_module": "@jupyter-widgets/controls",
          "model_name": "HBoxModel",
          "model_module_version": "1.5.0",
          "state": {
            "_dom_classes": [],
            "_model_module": "@jupyter-widgets/controls",
            "_model_module_version": "1.5.0",
            "_model_name": "HBoxModel",
            "_view_count": null,
            "_view_module": "@jupyter-widgets/controls",
            "_view_module_version": "1.5.0",
            "_view_name": "HBoxView",
            "box_style": "",
            "children": [
              "IPY_MODEL_bb23eb2723d044248f1bb9702b3cc39c",
              "IPY_MODEL_ec3dfdcd889547dc8c561f038b7815d7",
              "IPY_MODEL_140723456c1c468cbe8643d9f7258c67"
            ],
            "layout": "IPY_MODEL_2036676d3296466e8eeb0f124ab95627"
          }
        },
        "bb23eb2723d044248f1bb9702b3cc39c": {
          "model_module": "@jupyter-widgets/controls",
          "model_name": "HTMLModel",
          "model_module_version": "1.5.0",
          "state": {
            "_dom_classes": [],
            "_model_module": "@jupyter-widgets/controls",
            "_model_module_version": "1.5.0",
            "_model_name": "HTMLModel",
            "_view_count": null,
            "_view_module": "@jupyter-widgets/controls",
            "_view_module_version": "1.5.0",
            "_view_name": "HTMLView",
            "description": "",
            "description_tooltip": null,
            "layout": "IPY_MODEL_bc8fff6c8d8c4e80bfe3e82ff92c934b",
            "placeholder": "​",
            "style": "IPY_MODEL_401091140f2942fca365cef8c2bc4183",
            "value": "Fetching 10 files: 100%"
          }
        },
        "ec3dfdcd889547dc8c561f038b7815d7": {
          "model_module": "@jupyter-widgets/controls",
          "model_name": "FloatProgressModel",
          "model_module_version": "1.5.0",
          "state": {
            "_dom_classes": [],
            "_model_module": "@jupyter-widgets/controls",
            "_model_module_version": "1.5.0",
            "_model_name": "FloatProgressModel",
            "_view_count": null,
            "_view_module": "@jupyter-widgets/controls",
            "_view_module_version": "1.5.0",
            "_view_name": "ProgressView",
            "bar_style": "success",
            "description": "",
            "description_tooltip": null,
            "layout": "IPY_MODEL_2c0ef1fc3693423aa1547b1ed3410ca2",
            "max": 10,
            "min": 0,
            "orientation": "horizontal",
            "style": "IPY_MODEL_fc278b48a95c456982fe72c649691ee3",
            "value": 10
          }
        },
        "140723456c1c468cbe8643d9f7258c67": {
          "model_module": "@jupyter-widgets/controls",
          "model_name": "HTMLModel",
          "model_module_version": "1.5.0",
          "state": {
            "_dom_classes": [],
            "_model_module": "@jupyter-widgets/controls",
            "_model_module_version": "1.5.0",
            "_model_name": "HTMLModel",
            "_view_count": null,
            "_view_module": "@jupyter-widgets/controls",
            "_view_module_version": "1.5.0",
            "_view_name": "HTMLView",
            "description": "",
            "description_tooltip": null,
            "layout": "IPY_MODEL_b9d8ed4274f9453da6a7d7e6dcbce35f",
            "placeholder": "​",
            "style": "IPY_MODEL_9a494f95ad144dd28c733c7c63143f18",
            "value": " 10/10 [00:00&lt;00:00, 435.62it/s]"
          }
        },
        "2036676d3296466e8eeb0f124ab95627": {
          "model_module": "@jupyter-widgets/base",
          "model_name": "LayoutModel",
          "model_module_version": "1.2.0",
          "state": {
            "_model_module": "@jupyter-widgets/base",
            "_model_module_version": "1.2.0",
            "_model_name": "LayoutModel",
            "_view_count": null,
            "_view_module": "@jupyter-widgets/base",
            "_view_module_version": "1.2.0",
            "_view_name": "LayoutView",
            "align_content": null,
            "align_items": null,
            "align_self": null,
            "border": null,
            "bottom": null,
            "display": null,
            "flex": null,
            "flex_flow": null,
            "grid_area": null,
            "grid_auto_columns": null,
            "grid_auto_flow": null,
            "grid_auto_rows": null,
            "grid_column": null,
            "grid_gap": null,
            "grid_row": null,
            "grid_template_areas": null,
            "grid_template_columns": null,
            "grid_template_rows": null,
            "height": null,
            "justify_content": null,
            "justify_items": null,
            "left": null,
            "margin": null,
            "max_height": null,
            "max_width": null,
            "min_height": null,
            "min_width": null,
            "object_fit": null,
            "object_position": null,
            "order": null,
            "overflow": null,
            "overflow_x": null,
            "overflow_y": null,
            "padding": null,
            "right": null,
            "top": null,
            "visibility": null,
            "width": null
          }
        },
        "bc8fff6c8d8c4e80bfe3e82ff92c934b": {
          "model_module": "@jupyter-widgets/base",
          "model_name": "LayoutModel",
          "model_module_version": "1.2.0",
          "state": {
            "_model_module": "@jupyter-widgets/base",
            "_model_module_version": "1.2.0",
            "_model_name": "LayoutModel",
            "_view_count": null,
            "_view_module": "@jupyter-widgets/base",
            "_view_module_version": "1.2.0",
            "_view_name": "LayoutView",
            "align_content": null,
            "align_items": null,
            "align_self": null,
            "border": null,
            "bottom": null,
            "display": null,
            "flex": null,
            "flex_flow": null,
            "grid_area": null,
            "grid_auto_columns": null,
            "grid_auto_flow": null,
            "grid_auto_rows": null,
            "grid_column": null,
            "grid_gap": null,
            "grid_row": null,
            "grid_template_areas": null,
            "grid_template_columns": null,
            "grid_template_rows": null,
            "height": null,
            "justify_content": null,
            "justify_items": null,
            "left": null,
            "margin": null,
            "max_height": null,
            "max_width": null,
            "min_height": null,
            "min_width": null,
            "object_fit": null,
            "object_position": null,
            "order": null,
            "overflow": null,
            "overflow_x": null,
            "overflow_y": null,
            "padding": null,
            "right": null,
            "top": null,
            "visibility": null,
            "width": null
          }
        },
        "401091140f2942fca365cef8c2bc4183": {
          "model_module": "@jupyter-widgets/controls",
          "model_name": "DescriptionStyleModel",
          "model_module_version": "1.5.0",
          "state": {
            "_model_module": "@jupyter-widgets/controls",
            "_model_module_version": "1.5.0",
            "_model_name": "DescriptionStyleModel",
            "_view_count": null,
            "_view_module": "@jupyter-widgets/base",
            "_view_module_version": "1.2.0",
            "_view_name": "StyleView",
            "description_width": ""
          }
        },
        "2c0ef1fc3693423aa1547b1ed3410ca2": {
          "model_module": "@jupyter-widgets/base",
          "model_name": "LayoutModel",
          "model_module_version": "1.2.0",
          "state": {
            "_model_module": "@jupyter-widgets/base",
            "_model_module_version": "1.2.0",
            "_model_name": "LayoutModel",
            "_view_count": null,
            "_view_module": "@jupyter-widgets/base",
            "_view_module_version": "1.2.0",
            "_view_name": "LayoutView",
            "align_content": null,
            "align_items": null,
            "align_self": null,
            "border": null,
            "bottom": null,
            "display": null,
            "flex": null,
            "flex_flow": null,
            "grid_area": null,
            "grid_auto_columns": null,
            "grid_auto_flow": null,
            "grid_auto_rows": null,
            "grid_column": null,
            "grid_gap": null,
            "grid_row": null,
            "grid_template_areas": null,
            "grid_template_columns": null,
            "grid_template_rows": null,
            "height": null,
            "justify_content": null,
            "justify_items": null,
            "left": null,
            "margin": null,
            "max_height": null,
            "max_width": null,
            "min_height": null,
            "min_width": null,
            "object_fit": null,
            "object_position": null,
            "order": null,
            "overflow": null,
            "overflow_x": null,
            "overflow_y": null,
            "padding": null,
            "right": null,
            "top": null,
            "visibility": null,
            "width": null
          }
        },
        "fc278b48a95c456982fe72c649691ee3": {
          "model_module": "@jupyter-widgets/controls",
          "model_name": "ProgressStyleModel",
          "model_module_version": "1.5.0",
          "state": {
            "_model_module": "@jupyter-widgets/controls",
            "_model_module_version": "1.5.0",
            "_model_name": "ProgressStyleModel",
            "_view_count": null,
            "_view_module": "@jupyter-widgets/base",
            "_view_module_version": "1.2.0",
            "_view_name": "StyleView",
            "bar_color": null,
            "description_width": ""
          }
        },
        "b9d8ed4274f9453da6a7d7e6dcbce35f": {
          "model_module": "@jupyter-widgets/base",
          "model_name": "LayoutModel",
          "model_module_version": "1.2.0",
          "state": {
            "_model_module": "@jupyter-widgets/base",
            "_model_module_version": "1.2.0",
            "_model_name": "LayoutModel",
            "_view_count": null,
            "_view_module": "@jupyter-widgets/base",
            "_view_module_version": "1.2.0",
            "_view_name": "LayoutView",
            "align_content": null,
            "align_items": null,
            "align_self": null,
            "border": null,
            "bottom": null,
            "display": null,
            "flex": null,
            "flex_flow": null,
            "grid_area": null,
            "grid_auto_columns": null,
            "grid_auto_flow": null,
            "grid_auto_rows": null,
            "grid_column": null,
            "grid_gap": null,
            "grid_row": null,
            "grid_template_areas": null,
            "grid_template_columns": null,
            "grid_template_rows": null,
            "height": null,
            "justify_content": null,
            "justify_items": null,
            "left": null,
            "margin": null,
            "max_height": null,
            "max_width": null,
            "min_height": null,
            "min_width": null,
            "object_fit": null,
            "object_position": null,
            "order": null,
            "overflow": null,
            "overflow_x": null,
            "overflow_y": null,
            "padding": null,
            "right": null,
            "top": null,
            "visibility": null,
            "width": null
          }
        },
        "9a494f95ad144dd28c733c7c63143f18": {
          "model_module": "@jupyter-widgets/controls",
          "model_name": "DescriptionStyleModel",
          "model_module_version": "1.5.0",
          "state": {
            "_model_module": "@jupyter-widgets/controls",
            "_model_module_version": "1.5.0",
            "_model_name": "DescriptionStyleModel",
            "_view_count": null,
            "_view_module": "@jupyter-widgets/base",
            "_view_module_version": "1.2.0",
            "_view_name": "StyleView",
            "description_width": ""
          }
        },
        "5bf2eeaf090a4b40ad8ea2a25f88b95a": {
          "model_module": "@jupyter-widgets/controls",
          "model_name": "HBoxModel",
          "model_module_version": "1.5.0",
          "state": {
            "_dom_classes": [],
            "_model_module": "@jupyter-widgets/controls",
            "_model_module_version": "1.5.0",
            "_model_name": "HBoxModel",
            "_view_count": null,
            "_view_module": "@jupyter-widgets/controls",
            "_view_module_version": "1.5.0",
            "_view_name": "HBoxView",
            "box_style": "",
            "children": [
              "IPY_MODEL_43b94f38f50d4c02bdb81b164b61bef9",
              "IPY_MODEL_6eaa4213fec3442cbb7133cc077a09d6",
              "IPY_MODEL_e7950d878a2041cc925b35d6654bbcd9"
            ],
            "layout": "IPY_MODEL_aec8a70e54f8475c815f6bf4e6f33c29"
          }
        },
        "43b94f38f50d4c02bdb81b164b61bef9": {
          "model_module": "@jupyter-widgets/controls",
          "model_name": "HTMLModel",
          "model_module_version": "1.5.0",
          "state": {
            "_dom_classes": [],
            "_model_module": "@jupyter-widgets/controls",
            "_model_module_version": "1.5.0",
            "_model_name": "HTMLModel",
            "_view_count": null,
            "_view_module": "@jupyter-widgets/controls",
            "_view_module_version": "1.5.0",
            "_view_name": "HTMLView",
            "description": "",
            "description_tooltip": null,
            "layout": "IPY_MODEL_72f76aa134be42448dfa19fb6278c71a",
            "placeholder": "​",
            "style": "IPY_MODEL_27182098c11b46ff99a27d2b5a1c1f6b",
            "value": "Loading checkpoint shards: 100%"
          }
        },
        "6eaa4213fec3442cbb7133cc077a09d6": {
          "model_module": "@jupyter-widgets/controls",
          "model_name": "FloatProgressModel",
          "model_module_version": "1.5.0",
          "state": {
            "_dom_classes": [],
            "_model_module": "@jupyter-widgets/controls",
            "_model_module_version": "1.5.0",
            "_model_name": "FloatProgressModel",
            "_view_count": null,
            "_view_module": "@jupyter-widgets/controls",
            "_view_module_version": "1.5.0",
            "_view_name": "ProgressView",
            "bar_style": "success",
            "description": "",
            "description_tooltip": null,
            "layout": "IPY_MODEL_2817377735a34002bb07666b54d4ed73",
            "max": 2,
            "min": 0,
            "orientation": "horizontal",
            "style": "IPY_MODEL_bbdc65b48e43454b97aac3e546b8b204",
            "value": 2
          }
        },
        "e7950d878a2041cc925b35d6654bbcd9": {
          "model_module": "@jupyter-widgets/controls",
          "model_name": "HTMLModel",
          "model_module_version": "1.5.0",
          "state": {
            "_dom_classes": [],
            "_model_module": "@jupyter-widgets/controls",
            "_model_module_version": "1.5.0",
            "_model_name": "HTMLModel",
            "_view_count": null,
            "_view_module": "@jupyter-widgets/controls",
            "_view_module_version": "1.5.0",
            "_view_name": "HTMLView",
            "description": "",
            "description_tooltip": null,
            "layout": "IPY_MODEL_48b20ede7f7342a5b7706505c9dc1a1a",
            "placeholder": "​",
            "style": "IPY_MODEL_acc2106feb6849b99d9eb8c68c5a4420",
            "value": " 2/2 [00:00&lt;00:00,  2.92it/s]"
          }
        },
        "aec8a70e54f8475c815f6bf4e6f33c29": {
          "model_module": "@jupyter-widgets/base",
          "model_name": "LayoutModel",
          "model_module_version": "1.2.0",
          "state": {
            "_model_module": "@jupyter-widgets/base",
            "_model_module_version": "1.2.0",
            "_model_name": "LayoutModel",
            "_view_count": null,
            "_view_module": "@jupyter-widgets/base",
            "_view_module_version": "1.2.0",
            "_view_name": "LayoutView",
            "align_content": null,
            "align_items": null,
            "align_self": null,
            "border": null,
            "bottom": null,
            "display": null,
            "flex": null,
            "flex_flow": null,
            "grid_area": null,
            "grid_auto_columns": null,
            "grid_auto_flow": null,
            "grid_auto_rows": null,
            "grid_column": null,
            "grid_gap": null,
            "grid_row": null,
            "grid_template_areas": null,
            "grid_template_columns": null,
            "grid_template_rows": null,
            "height": null,
            "justify_content": null,
            "justify_items": null,
            "left": null,
            "margin": null,
            "max_height": null,
            "max_width": null,
            "min_height": null,
            "min_width": null,
            "object_fit": null,
            "object_position": null,
            "order": null,
            "overflow": null,
            "overflow_x": null,
            "overflow_y": null,
            "padding": null,
            "right": null,
            "top": null,
            "visibility": null,
            "width": null
          }
        },
        "72f76aa134be42448dfa19fb6278c71a": {
          "model_module": "@jupyter-widgets/base",
          "model_name": "LayoutModel",
          "model_module_version": "1.2.0",
          "state": {
            "_model_module": "@jupyter-widgets/base",
            "_model_module_version": "1.2.0",
            "_model_name": "LayoutModel",
            "_view_count": null,
            "_view_module": "@jupyter-widgets/base",
            "_view_module_version": "1.2.0",
            "_view_name": "LayoutView",
            "align_content": null,
            "align_items": null,
            "align_self": null,
            "border": null,
            "bottom": null,
            "display": null,
            "flex": null,
            "flex_flow": null,
            "grid_area": null,
            "grid_auto_columns": null,
            "grid_auto_flow": null,
            "grid_auto_rows": null,
            "grid_column": null,
            "grid_gap": null,
            "grid_row": null,
            "grid_template_areas": null,
            "grid_template_columns": null,
            "grid_template_rows": null,
            "height": null,
            "justify_content": null,
            "justify_items": null,
            "left": null,
            "margin": null,
            "max_height": null,
            "max_width": null,
            "min_height": null,
            "min_width": null,
            "object_fit": null,
            "object_position": null,
            "order": null,
            "overflow": null,
            "overflow_x": null,
            "overflow_y": null,
            "padding": null,
            "right": null,
            "top": null,
            "visibility": null,
            "width": null
          }
        },
        "27182098c11b46ff99a27d2b5a1c1f6b": {
          "model_module": "@jupyter-widgets/controls",
          "model_name": "DescriptionStyleModel",
          "model_module_version": "1.5.0",
          "state": {
            "_model_module": "@jupyter-widgets/controls",
            "_model_module_version": "1.5.0",
            "_model_name": "DescriptionStyleModel",
            "_view_count": null,
            "_view_module": "@jupyter-widgets/base",
            "_view_module_version": "1.2.0",
            "_view_name": "StyleView",
            "description_width": ""
          }
        },
        "2817377735a34002bb07666b54d4ed73": {
          "model_module": "@jupyter-widgets/base",
          "model_name": "LayoutModel",
          "model_module_version": "1.2.0",
          "state": {
            "_model_module": "@jupyter-widgets/base",
            "_model_module_version": "1.2.0",
            "_model_name": "LayoutModel",
            "_view_count": null,
            "_view_module": "@jupyter-widgets/base",
            "_view_module_version": "1.2.0",
            "_view_name": "LayoutView",
            "align_content": null,
            "align_items": null,
            "align_self": null,
            "border": null,
            "bottom": null,
            "display": null,
            "flex": null,
            "flex_flow": null,
            "grid_area": null,
            "grid_auto_columns": null,
            "grid_auto_flow": null,
            "grid_auto_rows": null,
            "grid_column": null,
            "grid_gap": null,
            "grid_row": null,
            "grid_template_areas": null,
            "grid_template_columns": null,
            "grid_template_rows": null,
            "height": null,
            "justify_content": null,
            "justify_items": null,
            "left": null,
            "margin": null,
            "max_height": null,
            "max_width": null,
            "min_height": null,
            "min_width": null,
            "object_fit": null,
            "object_position": null,
            "order": null,
            "overflow": null,
            "overflow_x": null,
            "overflow_y": null,
            "padding": null,
            "right": null,
            "top": null,
            "visibility": null,
            "width": null
          }
        },
        "bbdc65b48e43454b97aac3e546b8b204": {
          "model_module": "@jupyter-widgets/controls",
          "model_name": "ProgressStyleModel",
          "model_module_version": "1.5.0",
          "state": {
            "_model_module": "@jupyter-widgets/controls",
            "_model_module_version": "1.5.0",
            "_model_name": "ProgressStyleModel",
            "_view_count": null,
            "_view_module": "@jupyter-widgets/base",
            "_view_module_version": "1.2.0",
            "_view_name": "StyleView",
            "bar_color": null,
            "description_width": ""
          }
        },
        "48b20ede7f7342a5b7706505c9dc1a1a": {
          "model_module": "@jupyter-widgets/base",
          "model_name": "LayoutModel",
          "model_module_version": "1.2.0",
          "state": {
            "_model_module": "@jupyter-widgets/base",
            "_model_module_version": "1.2.0",
            "_model_name": "LayoutModel",
            "_view_count": null,
            "_view_module": "@jupyter-widgets/base",
            "_view_module_version": "1.2.0",
            "_view_name": "LayoutView",
            "align_content": null,
            "align_items": null,
            "align_self": null,
            "border": null,
            "bottom": null,
            "display": null,
            "flex": null,
            "flex_flow": null,
            "grid_area": null,
            "grid_auto_columns": null,
            "grid_auto_flow": null,
            "grid_auto_rows": null,
            "grid_column": null,
            "grid_gap": null,
            "grid_row": null,
            "grid_template_areas": null,
            "grid_template_columns": null,
            "grid_template_rows": null,
            "height": null,
            "justify_content": null,
            "justify_items": null,
            "left": null,
            "margin": null,
            "max_height": null,
            "max_width": null,
            "min_height": null,
            "min_width": null,
            "object_fit": null,
            "object_position": null,
            "order": null,
            "overflow": null,
            "overflow_x": null,
            "overflow_y": null,
            "padding": null,
            "right": null,
            "top": null,
            "visibility": null,
            "width": null
          }
        },
        "acc2106feb6849b99d9eb8c68c5a4420": {
          "model_module": "@jupyter-widgets/controls",
          "model_name": "DescriptionStyleModel",
          "model_module_version": "1.5.0",
          "state": {
            "_model_module": "@jupyter-widgets/controls",
            "_model_module_version": "1.5.0",
            "_model_name": "DescriptionStyleModel",
            "_view_count": null,
            "_view_module": "@jupyter-widgets/base",
            "_view_module_version": "1.2.0",
            "_view_name": "StyleView",
            "description_width": ""
          }
        }
      }
    }
  },
  "cells": [
    {
      "cell_type": "markdown",
      "metadata": {
        "id": "view-in-github",
        "colab_type": "text"
      },
      "source": [
        "<a href=\"https://colab.research.google.com/github/hypro2/LLM-Multimodal-Colab/blob/main/llm/Meta_Llama_3_8B_Instruct_awq_colab.ipynb\" target=\"_parent\"><img src=\"https://colab.research.google.com/assets/colab-badge.svg\" alt=\"Open In Colab\"/></a>"
      ]
    },
    {
      "cell_type": "code",
      "source": [
        "# 트랜스포머\n",
        "!pip install -U -q transformers\n",
        "\n",
        "# 양자화\n",
        "!pip install -U -q accelerate bitsandbytes\n",
        "!pip install -U -q autoawq\n",
        "\n",
        "# 임베딩\n",
        "!pip install -q llm2vec\n",
        "!pip install -q flash-attn --no-build-isolation"
      ],
      "metadata": {
        "id": "eUZrKvQvH0x3"
      },
      "execution_count": 1,
      "outputs": []
    },
    {
      "cell_type": "markdown",
      "source": [
        "Acess Token 입력\n",
        "\n",
        "https://huggingface.co/settings/tokens"
      ],
      "metadata": {
        "id": "2SPLBVdmHWF1"
      }
    },
    {
      "cell_type": "code",
      "execution_count": 1,
      "metadata": {
        "colab": {
          "base_uri": "https://localhost:8080/"
        },
        "id": "ooRE1aiWG_JX",
        "outputId": "f74d49b5-8faf-4323-dbc3-e713c7ce7385"
      },
      "outputs": [
        {
          "name": "stdout",
          "output_type": "stream",
          "text": [
            "HF_TOKEN:··········\n"
          ]
        }
      ],
      "source": [
        "import os\n",
        "import getpass\n",
        "\n",
        "os.environ[\"HF_TOKEN\"] = getpass.getpass(\"HF_TOKEN:\")"
      ]
    },
    {
      "cell_type": "code",
      "source": [
        "import torch\n",
        "from transformers import AutoTokenizer, TextStreamer\n",
        "from awq import AutoAWQForCausalLM\n",
        "\n",
        "model_id = \"WIPSAI/Llama-3-8B-Instruct-Patent-QA-4bit\"\n",
        "\n",
        "tokenizer = AutoTokenizer.from_pretrained(model_id)\n",
        "\n",
        "model = AutoAWQForCausalLM.from_pretrained(model_id).to(\"cuda\")"
      ],
      "metadata": {
        "colab": {
          "base_uri": "https://localhost:8080/",
          "height": 228,
          "referenced_widgets": [
            "5411ff9fc4a34f1494f76389941d1e25",
            "bb23eb2723d044248f1bb9702b3cc39c",
            "ec3dfdcd889547dc8c561f038b7815d7",
            "140723456c1c468cbe8643d9f7258c67",
            "2036676d3296466e8eeb0f124ab95627",
            "bc8fff6c8d8c4e80bfe3e82ff92c934b",
            "401091140f2942fca365cef8c2bc4183",
            "2c0ef1fc3693423aa1547b1ed3410ca2",
            "fc278b48a95c456982fe72c649691ee3",
            "b9d8ed4274f9453da6a7d7e6dcbce35f",
            "9a494f95ad144dd28c733c7c63143f18",
            "5bf2eeaf090a4b40ad8ea2a25f88b95a",
            "43b94f38f50d4c02bdb81b164b61bef9",
            "6eaa4213fec3442cbb7133cc077a09d6",
            "e7950d878a2041cc925b35d6654bbcd9",
            "aec8a70e54f8475c815f6bf4e6f33c29",
            "72f76aa134be42448dfa19fb6278c71a",
            "27182098c11b46ff99a27d2b5a1c1f6b",
            "2817377735a34002bb07666b54d4ed73",
            "bbdc65b48e43454b97aac3e546b8b204",
            "48b20ede7f7342a5b7706505c9dc1a1a",
            "acc2106feb6849b99d9eb8c68c5a4420"
          ]
        },
        "id": "a64DPgRAIijJ",
        "outputId": "08747257-4c6a-4c35-e572-782498940f63"
      },
      "execution_count": 2,
      "outputs": [
        {
          "output_type": "stream",
          "name": "stderr",
          "text": [
            "/usr/local/lib/python3.10/dist-packages/huggingface_hub/utils/_token.py:81: UserWarning: \n",
            "Access to the secret `HF_TOKEN` has not been granted on this notebook.\n",
            "You will not be requested again.\n",
            "Please restart the session if you want to be prompted again.\n",
            "  warnings.warn(\n",
            "Special tokens have been added in the vocabulary, make sure the associated word embeddings are fine-tuned or trained.\n"
          ]
        },
        {
          "output_type": "display_data",
          "data": {
            "text/plain": [
              "Fetching 10 files:   0%|          | 0/10 [00:00<?, ?it/s]"
            ],
            "application/vnd.jupyter.widget-view+json": {
              "version_major": 2,
              "version_minor": 0,
              "model_id": "5411ff9fc4a34f1494f76389941d1e25"
            }
          },
          "metadata": {}
        },
        {
          "output_type": "stream",
          "name": "stderr",
          "text": [
            "You have loaded an AWQ model on CPU and have a CUDA device available, make sure to set your model on a GPU device in order to run your model.\n",
            "`low_cpu_mem_usage` was None, now set to True since model is quantized.\n"
          ]
        },
        {
          "output_type": "display_data",
          "data": {
            "text/plain": [
              "Loading checkpoint shards:   0%|          | 0/2 [00:00<?, ?it/s]"
            ],
            "application/vnd.jupyter.widget-view+json": {
              "version_major": 2,
              "version_minor": 0,
              "model_id": "5bf2eeaf090a4b40ad8ea2a25f88b95a"
            }
          },
          "metadata": {}
        }
      ]
    },
    {
      "cell_type": "code",
      "source": [
        "text = \"\"\"[TECHNICAL FIELD] [0001] By using the mineral ion active water the invention sterilizes the penicillium growing up under the surface of the Lentinus edodes sawdust media. It relates to increase the mineral component among the nutrient component of the produced Lentinus edodes and cultivate. [BACKGROUND ART] [0002] The method of production is the mode cultivated to the edible mushrooms interest medicinal mushroom which the Lentinus edodes populars is known in 1 year to the material wood produced with two times changed among the year into the sawdust of black oak culture medium can cultivate. In house, the year arbitration times is become easy that the various germs therefore propagates in the sawdust media. The double penicillium widely spreads to the sawdust media. It buries in the Lentinus edodes and the marketability is dropt down and the income of the farmhouse is fallen. [0003] It had the existing different attempt (the chemicals usage etc. it sprinkles alcohol it cleans with the loofah) for sterilizing the penicillium but the certain removal of the penicillium cannot. [DISCLOSURE OF THE INVENTION] [0004] The present invention is to provide the Lentinus edodes cultivation method in which it does not use the method it sterilizes the penicillium to the physical chemical method by utilizing the mineral active ion number for the Lentinus edodes cultivation and for removing and it utterly sterilizes the penicillium to the method which is the environment-friendly even when the sterilizing power is excellent and it can remove and as to the Lentinus edodes, which and is cultivated the penicillium removal and mineral component can be strengthened. [0005] Like this, the invention is the mineral active ion number is provided to the consumer the Lentinus edodes in which it can obtain the Lentinus edodes excellent in terms of marketability in which the outer tube of the Lentinus edodes as well as the penicillium bactericidal action etc. is excellent in case of growing the Lentinus edodes by using and weight increases and especially, the mineral content is abundant. [0006] Moreover, it says to be very useful invention lice which grows the Lentinus edodes even though it does not use the drug for the rox or the poisonous general disinfection in the Lentinus edodes cultivation and has the effect that can become the big help in the health of the consumer. [BRIEF DESCRIPTION OF THE DRAWINGS] [0007] [DESCRIPTION OF EMBODIMENTS] [0008] The invention is made to be equal to specifically, next. [0009] It was clarified not to nearly give the toxicity the high voltage ion activated water to all virus wool human bodies at all and immediately completely sterilize with contact. Since it each other is absorbed has the positive charge (+) has the negative charge () the sterilization process principles of the mineral ion active water sterilizes. This is made to be equal to next, it organizes. [0010] The bacteria body temperature is dropt down - all metallic ions the thermal conductance is high and the bacteria body temperature is rapidly comprised the ambient temperature and balance(35  20 ) [0011] The moisture evaporation accompanied with the dehydration - heat conduction of the bacteria(95% moisture  50% moisture) [0012]  The oxygen required for the respiratory metabolism of the suffocation bacteria of the bacteria is snatched. [0013]  The positive charge (+) of the break down - mineral ion of the bacteria shell destroys the cell membrane. [0014] Moreover, the mineral content of the mineral ion active water is same as those of [table 1]. [0015] [ 1] The mineral content of the mineral ion active water. Sample distillation. Inorganic material (unit : mg/L) pH K Ca Mg Fe Na Mineral active ion number. 1300.0 65.0 3.30 0.01 57.0 7.10(17.3) Subsurface water (raw water) 6.3 29.0 3.6 0.01 13.0 7.30(13.6) [0016] [Table 1] The mineral (K, Ca, Mg) of the mineral active ion number very much showed up in comparison with the subsurface water as there appeared. As a result of this, it means in case of using in all kinds of the plant cultivations or the food processing obtaining the strengthening effect of the mineral nutrient. It requested to Korea Testing and Research Institute for Chemical with the KSM testing method and it analyzed the mineral component analysis of the active ion number. [0017] It is explained in the ionic activity number manufacturing device patent using the high voltage of 10-2001-0025030 applied for patent and the cultivation method which here is not manufacturing method decides to be illustrated the manufacturing method of the mineral active ion number for the invention penicillium sterilization. [0018] The experiment for finding out the quality characteristic of the Lentinus edodes which it cultivated by using the bactericidal action of the penicillium of the Lentinus edodes sawdust media using the mineral active ion number obtained to the patent product described in the above and mineral active ion number was performed like the next. [0019] Firstly, it sprinkled on the Lentinus edodes sawdust media through the mist blower which it set up in the Lentinus edodes cultivation house in the experiment for the bactericidal action explaining after receiving the mineral active ion number in the reservoir box of 3 tone with the bis die, the church for 15 minutes, and 15 and the sterilizing power of the penicillium generated with the generation whether or not of the penicillium was measured. [0020] The result showed in the next table 2. [0021] [ 2] The penicillium bactericidal test by the mineral active ion number. Treatment plot. Sawdust media changes in appearance. 3 primary. 6 primary. 9 primary. 12 primary. 15 primary. The sawdust media which is not polluted in the penicillium. It and the penicillium generation will not be achieved. It and the penicillium generation will not be achieved. It and the penicillium generation will not be achieved. It and the penicillium generation will not be achieved. It and the penicillium generation will not be achieved. The sawdust media polluted by 30% under in the penicillium. Penicillium 30% contamination. Penicillium 15% contamination. Penicillium 5% contamination. Penicillium contamination none. Penicillium contamination none. The sawdust media polluted in the penicillium with 50~70%. Penicillium 70% contamination. Penicillium 50% contamination. Penicillium 30% contamination. Penicillium 5% contamination. Penicillium contamination none. [0022] As shown in the above table 2, the bactericidal action of the Lentinus edodes sawdust media penicillium of the mineral active ion number could obtain the very good result. [0023] That is, the function one-dimensionaled of just supplying moisture to the sawdust media and Lentinus edodes when using the general paper sewage was done. However when using the mineral active ion number the bactericidal action of the penicillium which was the decay factor of the sawdust media as well as the Hydration, one-dimensionaled very high showed up. Moreover, the deodorization effect of the characteristic of the various germs removal of the penicillium extrinsic and house inside incidentally kept pace and it showed up. [0024] It was excellent than the quality of the Lentinus edodes which it cultivated by using the mineral active ion number just cultivated in the exterior quality to the subsurface water. And with expecting the effect as the health food in which the mineral content was strengthened in case of the Lentinus edodes which as shown in the above table 3, was cultivated to the mineral active ion number it was determined. [0025] Like this, in case the final result of the present invention grows the Lentinus edodes by using the mineral active ion number the outer tube of the Lentinus edodes as well as the bactericidal action etc. is excellent. The excellent lentinus edodes in which especially, the mineral content is strengthened can be provided. And the weight increase and marketability of the Lentinus edodes are excellent and the income of the farming family is raised but it can help. [0026] [ 3] The Lentinus edodes cultivation experiment using the mineral active ion number. Sample distillation. Inorganic material (unit : mg) Piece average weight (g) K Ca Zn Fe The Lentinus edodes cultivated to the mineral active ion number. 650 45 32 35 35 The Lentinus edodes cultivated to the subsurface water (raw water). 256 4 0.28 1.2 25 [REFERENCE SIGNS LIST] [0027]\"\"\"\n",
        "\n",
        "question =\" What is the main purpose of the present invention and what problem does it solve?\"\n",
        "\n",
        "messages = [\n",
        "    {\"role\": \"system\", \"content\": \"You are a best AI patent expert. Let’s think step by step.\"},\n",
        "    {\"role\": \"user\", \"content\": f'text:\"{text}\"\\n\\n{question}'}\n",
        "]\n",
        "\n",
        "encodeds = tokenizer.apply_chat_template(messages, add_generation_prompt=False, return_tensors=\"pt\").to(\"cuda\")\n",
        "\n",
        "streamer = TextStreamer(tokenizer)\n",
        "\n",
        "output = model.generate(inputs=encodeds,\n",
        "                        max_new_tokens=256,\n",
        "                        pad_token_id=tokenizer.eos_token_id,\n",
        "                        top_p=0.7,\n",
        "                        streamer=streamer,\n",
        "                        eos_token_id=[\n",
        "                            tokenizer.eos_token_id,\n",
        "                            tokenizer.convert_tokens_to_ids(\"<|eot_id|>\")\n",
        "                        ])\n",
        "\n",
        "decode_output = tokenizer.decode(output[0], skip_special_tokens=False, clean_up_tokenization_spaces=True)"
      ],
      "metadata": {
        "colab": {
          "base_uri": "https://localhost:8080/"
        },
        "id": "n2m_jQ2VJG_A",
        "outputId": "ae5ef9e2-d5b1-4479-8d5d-b0407a7763cc"
      },
      "execution_count": 3,
      "outputs": [
        {
          "output_type": "stream",
          "name": "stderr",
          "text": [
            "The attention mask is not set and cannot be inferred from input because pad token is same as eos token.As a consequence, you may observe unexpected behavior. Please pass your input's `attention_mask` to obtain reliable results.\n"
          ]
        },
        {
          "output_type": "stream",
          "name": "stdout",
          "text": [
            "<|begin_of_text|><|start_header_id|>system<|end_header_id|>\n",
            "\n",
            "You are a best AI patent expert. Let’s think step by step.<|eot_id|><|start_header_id|>user<|end_header_id|>\n",
            "\n",
            "text:\"[TECHNICAL FIELD] [0001] By using the mineral ion active water the invention sterilizes the penicillium growing up under the surface of the Lentinus edodes sawdust media. It relates to increase the mineral component among the nutrient component of the produced Lentinus edodes and cultivate. [BACKGROUND ART] [0002] The method of production is the mode cultivated to the edible mushrooms interest medicinal mushroom which the Lentinus edodes populars is known in 1 year to the material wood produced with two times changed among the year into the sawdust of black oak culture medium can cultivate. In house, the year arbitration times is become easy that the various germs therefore propagates in the sawdust media. The double penicillium widely spreads to the sawdust media. It buries in the Lentinus edodes and the marketability is dropt down and the income of the farmhouse is fallen. [0003] It had the existing different attempt (the chemicals usage etc. it sprinkles alcohol it cleans with the loofah) for sterilizing the penicillium but the certain removal of the penicillium cannot. [DISCLOSURE OF THE INVENTION] [0004] The present invention is to provide the Lentinus edodes cultivation method in which it does not use the method it sterilizes the penicillium to the physical chemical method by utilizing the mineral active ion number for the Lentinus edodes cultivation and for removing and it utterly sterilizes the penicillium to the method which is the environment-friendly even when the sterilizing power is excellent and it can remove and as to the Lentinus edodes, which and is cultivated the penicillium removal and mineral component can be strengthened. [0005] Like this, the invention is the mineral active ion number is provided to the consumer the Lentinus edodes in which it can obtain the Lentinus edodes excellent in terms of marketability in which the outer tube of the Lentinus edodes as well as the penicillium bactericidal action etc. is excellent in case of growing the Lentinus edodes by using and weight increases and especially, the mineral content is abundant. [0006] Moreover, it says to be very useful invention lice which grows the Lentinus edodes even though it does not use the drug for the rox or the poisonous general disinfection in the Lentinus edodes cultivation and has the effect that can become the big help in the health of the consumer. [BRIEF DESCRIPTION OF THE DRAWINGS] [0007] [DESCRIPTION OF EMBODIMENTS] [0008] The invention is made to be equal to specifically, next. [0009] It was clarified not to nearly give the toxicity the high voltage ion activated water to all virus wool human bodies at all and immediately completely sterilize with contact. Since it each other is absorbed has the positive charge (+) has the negative charge () the sterilization process principles of the mineral ion active water sterilizes. This is made to be equal to next, it organizes. [0010] The bacteria body temperature is dropt down - all metallic ions the thermal conductance is high and the bacteria body temperature is rapidly comprised the ambient temperature and balance(35  20 ) [0011] The moisture evaporation accompanied with the dehydration - heat conduction of the bacteria(95% moisture  50% moisture) [0012]  The oxygen required for the respiratory metabolism of the suffocation bacteria of the bacteria is snatched. [0013]  The positive charge (+) of the break down - mineral ion of the bacteria shell destroys the cell membrane. [0014] Moreover, the mineral content of the mineral ion active water is same as those of [table 1]. [0015] [ 1] The mineral content of the mineral ion active water. Sample distillation. Inorganic material (unit : mg/L) pH K Ca Mg Fe Na Mineral active ion number. 1300.0 65.0 3.30 0.01 57.0 7.10(17.3) Subsurface water (raw water) 6.3 29.0 3.6 0.01 13.0 7.30(13.6) [0016] [Table 1] The mineral (K, Ca, Mg) of the mineral active ion number very much showed up in comparison with the subsurface water as there appeared. As a result of this, it means in case of using in all kinds of the plant cultivations or the food processing obtaining the strengthening effect of the mineral nutrient. It requested to Korea Testing and Research Institute for Chemical with the KSM testing method and it analyzed the mineral component analysis of the active ion number. [0017] It is explained in the ionic activity number manufacturing device patent using the high voltage of 10-2001-0025030 applied for patent and the cultivation method which here is not manufacturing method decides to be illustrated the manufacturing method of the mineral active ion number for the invention penicillium sterilization. [0018] The experiment for finding out the quality characteristic of the Lentinus edodes which it cultivated by using the bactericidal action of the penicillium of the Lentinus edodes sawdust media using the mineral active ion number obtained to the patent product described in the above and mineral active ion number was performed like the next. [0019] Firstly, it sprinkled on the Lentinus edodes sawdust media through the mist blower which it set up in the Lentinus edodes cultivation house in the experiment for the bactericidal action explaining after receiving the mineral active ion number in the reservoir box of 3 tone with the bis die, the church for 15 minutes, and 15 and the sterilizing power of the penicillium generated with the generation whether or not of the penicillium was measured. [0020] The result showed in the next table 2. [0021] [ 2] The penicillium bactericidal test by the mineral active ion number. Treatment plot. Sawdust media changes in appearance. 3 primary. 6 primary. 9 primary. 12 primary. 15 primary. The sawdust media which is not polluted in the penicillium. It and the penicillium generation will not be achieved. It and the penicillium generation will not be achieved. It and the penicillium generation will not be achieved. It and the penicillium generation will not be achieved. It and the penicillium generation will not be achieved. The sawdust media polluted by 30% under in the penicillium. Penicillium 30% contamination. Penicillium 15% contamination. Penicillium 5% contamination. Penicillium contamination none. Penicillium contamination none. The sawdust media polluted in the penicillium with 50~70%. Penicillium 70% contamination. Penicillium 50% contamination. Penicillium 30% contamination. Penicillium 5% contamination. Penicillium contamination none. [0022] As shown in the above table 2, the bactericidal action of the Lentinus edodes sawdust media penicillium of the mineral active ion number could obtain the very good result. [0023] That is, the function one-dimensionaled of just supplying moisture to the sawdust media and Lentinus edodes when using the general paper sewage was done. However when using the mineral active ion number the bactericidal action of the penicillium which was the decay factor of the sawdust media as well as the Hydration, one-dimensionaled very high showed up. Moreover, the deodorization effect of the characteristic of the various germs removal of the penicillium extrinsic and house inside incidentally kept pace and it showed up. [0024] It was excellent than the quality of the Lentinus edodes which it cultivated by using the mineral active ion number just cultivated in the exterior quality to the subsurface water. And with expecting the effect as the health food in which the mineral content was strengthened in case of the Lentinus edodes which as shown in the above table 3, was cultivated to the mineral active ion number it was determined. [0025] Like this, in case the final result of the present invention grows the Lentinus edodes by using the mineral active ion number the outer tube of the Lentinus edodes as well as the bactericidal action etc. is excellent. The excellent lentinus edodes in which especially, the mineral content is strengthened can be provided. And the weight increase and marketability of the Lentinus edodes are excellent and the income of the farming family is raised but it can help. [0026] [ 3] The Lentinus edodes cultivation experiment using the mineral active ion number. Sample distillation. Inorganic material (unit : mg) Piece average weight (g) K Ca Zn Fe The Lentinus edodes cultivated to the mineral active ion number. 650 45 32 35 35 The Lentinus edodes cultivated to the subsurface water (raw water). 256 4 0.28 1.2 25 [REFERENCE SIGNS LIST] [0027]\"\n",
            "\n",
            " What is the main purpose of the present invention and what problem does it solve?<|eot_id|><|start_header_id|>assistant<|end_header_id|>\n",
            "\n",
            "The main purpose of the present invention is to provide a method for cultivating Lentinus edodes (mushrooms) that does not use physical or chemical methods for sterilizing Penicillium, but rather utilizes mineral active ion numbers to sterilize Penicillium and strengthen the mineral content of the cultivated mushrooms.<|eot_id|>\n"
          ]
        }
      ]
    },
    {
      "cell_type": "code",
      "source": [
        "print(decode_output.split('<|start_header_id|>assistant<|end_header_id|>')[1])"
      ],
      "metadata": {
        "colab": {
          "base_uri": "https://localhost:8080/"
        },
        "id": "ZaNa-x12N77N",
        "outputId": "2a48b4e1-b4cc-4970-c379-e60f414399b6"
      },
      "execution_count": 4,
      "outputs": [
        {
          "output_type": "stream",
          "name": "stdout",
          "text": [
            "\n",
            "\n",
            "The main purpose of the present invention is to provide a method for cultivating Lentinus edodes (mushrooms) that does not use physical or chemical methods for sterilizing Penicillium, but rather utilizes mineral active ion numbers to sterilize Penicillium and strengthen the mineral content of the cultivated mushrooms.<|eot_id|>\n"
          ]
        }
      ]
    },
    {
      "cell_type": "markdown",
      "source": [
        "![image.png](data:image/png;base64,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)"
      ],
      "metadata": {
        "id": "66RIqirDQEzj"
      }
    },
    {
      "cell_type": "code",
      "source": [],
      "metadata": {
        "id": "4k8AsebgONWC"
      },
      "execution_count": null,
      "outputs": []
    }
  ]
}