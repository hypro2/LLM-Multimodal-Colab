{
  "nbformat": 4,
  "nbformat_minor": 0,
  "metadata": {
    "colab": {
      "provenance": [],
      "gpuType": "T4",
      "authorship_tag": "ABX9TyPdVLTaIWQjn+CYNfRCAZwi",
      "include_colab_link": true
    },
    "kernelspec": {
      "name": "python3",
      "display_name": "Python 3"
    },
    "language_info": {
      "name": "python"
    },
    "accelerator": "GPU",
    "widgets": {
      "application/vnd.jupyter.widget-state+json": {
        "93b8165410864562a98eb538374798af": {
          "model_module": "@jupyter-widgets/controls",
          "model_name": "HBoxModel",
          "model_module_version": "1.5.0",
          "state": {
            "_dom_classes": [],
            "_model_module": "@jupyter-widgets/controls",
            "_model_module_version": "1.5.0",
            "_model_name": "HBoxModel",
            "_view_count": null,
            "_view_module": "@jupyter-widgets/controls",
            "_view_module_version": "1.5.0",
            "_view_name": "HBoxView",
            "box_style": "",
            "children": [
              "IPY_MODEL_83ac92759d2d4d2e98c9b6eb4d4e17e3",
              "IPY_MODEL_25dd221eb1da4fdfa646c5f8fce87590",
              "IPY_MODEL_84307da55b184ca5a5e542cdccdd3ee4"
            ],
            "layout": "IPY_MODEL_831428cfcd224e88b606e3dc767d9a00"
          }
        },
        "83ac92759d2d4d2e98c9b6eb4d4e17e3": {
          "model_module": "@jupyter-widgets/controls",
          "model_name": "HTMLModel",
          "model_module_version": "1.5.0",
          "state": {
            "_dom_classes": [],
            "_model_module": "@jupyter-widgets/controls",
            "_model_module_version": "1.5.0",
            "_model_name": "HTMLModel",
            "_view_count": null,
            "_view_module": "@jupyter-widgets/controls",
            "_view_module_version": "1.5.0",
            "_view_name": "HTMLView",
            "description": "",
            "description_tooltip": null,
            "layout": "IPY_MODEL_2e035365f5c1425097e1a885c526655b",
            "placeholder": "​",
            "style": "IPY_MODEL_db0a0fea34b7426eb7124d35b959ddf9",
            "value": "Loading checkpoint shards: 100%"
          }
        },
        "25dd221eb1da4fdfa646c5f8fce87590": {
          "model_module": "@jupyter-widgets/controls",
          "model_name": "FloatProgressModel",
          "model_module_version": "1.5.0",
          "state": {
            "_dom_classes": [],
            "_model_module": "@jupyter-widgets/controls",
            "_model_module_version": "1.5.0",
            "_model_name": "FloatProgressModel",
            "_view_count": null,
            "_view_module": "@jupyter-widgets/controls",
            "_view_module_version": "1.5.0",
            "_view_name": "ProgressView",
            "bar_style": "success",
            "description": "",
            "description_tooltip": null,
            "layout": "IPY_MODEL_cc33d559bc4a4f61ae2e8c6cc4a7d9a6",
            "max": 2,
            "min": 0,
            "orientation": "horizontal",
            "style": "IPY_MODEL_17fca48a66a8498d8335df65587bcd00",
            "value": 2
          }
        },
        "84307da55b184ca5a5e542cdccdd3ee4": {
          "model_module": "@jupyter-widgets/controls",
          "model_name": "HTMLModel",
          "model_module_version": "1.5.0",
          "state": {
            "_dom_classes": [],
            "_model_module": "@jupyter-widgets/controls",
            "_model_module_version": "1.5.0",
            "_model_name": "HTMLModel",
            "_view_count": null,
            "_view_module": "@jupyter-widgets/controls",
            "_view_module_version": "1.5.0",
            "_view_name": "HTMLView",
            "description": "",
            "description_tooltip": null,
            "layout": "IPY_MODEL_e326302d88da41c69071a26dba19fbe3",
            "placeholder": "​",
            "style": "IPY_MODEL_dfd37931d39142448006dfd5a9b25811",
            "value": " 2/2 [01:10&lt;00:00, 33.39s/it]"
          }
        },
        "831428cfcd224e88b606e3dc767d9a00": {
          "model_module": "@jupyter-widgets/base",
          "model_name": "LayoutModel",
          "model_module_version": "1.2.0",
          "state": {
            "_model_module": "@jupyter-widgets/base",
            "_model_module_version": "1.2.0",
            "_model_name": "LayoutModel",
            "_view_count": null,
            "_view_module": "@jupyter-widgets/base",
            "_view_module_version": "1.2.0",
            "_view_name": "LayoutView",
            "align_content": null,
            "align_items": null,
            "align_self": null,
            "border": null,
            "bottom": null,
            "display": null,
            "flex": null,
            "flex_flow": null,
            "grid_area": null,
            "grid_auto_columns": null,
            "grid_auto_flow": null,
            "grid_auto_rows": null,
            "grid_column": null,
            "grid_gap": null,
            "grid_row": null,
            "grid_template_areas": null,
            "grid_template_columns": null,
            "grid_template_rows": null,
            "height": null,
            "justify_content": null,
            "justify_items": null,
            "left": null,
            "margin": null,
            "max_height": null,
            "max_width": null,
            "min_height": null,
            "min_width": null,
            "object_fit": null,
            "object_position": null,
            "order": null,
            "overflow": null,
            "overflow_x": null,
            "overflow_y": null,
            "padding": null,
            "right": null,
            "top": null,
            "visibility": null,
            "width": null
          }
        },
        "2e035365f5c1425097e1a885c526655b": {
          "model_module": "@jupyter-widgets/base",
          "model_name": "LayoutModel",
          "model_module_version": "1.2.0",
          "state": {
            "_model_module": "@jupyter-widgets/base",
            "_model_module_version": "1.2.0",
            "_model_name": "LayoutModel",
            "_view_count": null,
            "_view_module": "@jupyter-widgets/base",
            "_view_module_version": "1.2.0",
            "_view_name": "LayoutView",
            "align_content": null,
            "align_items": null,
            "align_self": null,
            "border": null,
            "bottom": null,
            "display": null,
            "flex": null,
            "flex_flow": null,
            "grid_area": null,
            "grid_auto_columns": null,
            "grid_auto_flow": null,
            "grid_auto_rows": null,
            "grid_column": null,
            "grid_gap": null,
            "grid_row": null,
            "grid_template_areas": null,
            "grid_template_columns": null,
            "grid_template_rows": null,
            "height": null,
            "justify_content": null,
            "justify_items": null,
            "left": null,
            "margin": null,
            "max_height": null,
            "max_width": null,
            "min_height": null,
            "min_width": null,
            "object_fit": null,
            "object_position": null,
            "order": null,
            "overflow": null,
            "overflow_x": null,
            "overflow_y": null,
            "padding": null,
            "right": null,
            "top": null,
            "visibility": null,
            "width": null
          }
        },
        "db0a0fea34b7426eb7124d35b959ddf9": {
          "model_module": "@jupyter-widgets/controls",
          "model_name": "DescriptionStyleModel",
          "model_module_version": "1.5.0",
          "state": {
            "_model_module": "@jupyter-widgets/controls",
            "_model_module_version": "1.5.0",
            "_model_name": "DescriptionStyleModel",
            "_view_count": null,
            "_view_module": "@jupyter-widgets/base",
            "_view_module_version": "1.2.0",
            "_view_name": "StyleView",
            "description_width": ""
          }
        },
        "cc33d559bc4a4f61ae2e8c6cc4a7d9a6": {
          "model_module": "@jupyter-widgets/base",
          "model_name": "LayoutModel",
          "model_module_version": "1.2.0",
          "state": {
            "_model_module": "@jupyter-widgets/base",
            "_model_module_version": "1.2.0",
            "_model_name": "LayoutModel",
            "_view_count": null,
            "_view_module": "@jupyter-widgets/base",
            "_view_module_version": "1.2.0",
            "_view_name": "LayoutView",
            "align_content": null,
            "align_items": null,
            "align_self": null,
            "border": null,
            "bottom": null,
            "display": null,
            "flex": null,
            "flex_flow": null,
            "grid_area": null,
            "grid_auto_columns": null,
            "grid_auto_flow": null,
            "grid_auto_rows": null,
            "grid_column": null,
            "grid_gap": null,
            "grid_row": null,
            "grid_template_areas": null,
            "grid_template_columns": null,
            "grid_template_rows": null,
            "height": null,
            "justify_content": null,
            "justify_items": null,
            "left": null,
            "margin": null,
            "max_height": null,
            "max_width": null,
            "min_height": null,
            "min_width": null,
            "object_fit": null,
            "object_position": null,
            "order": null,
            "overflow": null,
            "overflow_x": null,
            "overflow_y": null,
            "padding": null,
            "right": null,
            "top": null,
            "visibility": null,
            "width": null
          }
        },
        "17fca48a66a8498d8335df65587bcd00": {
          "model_module": "@jupyter-widgets/controls",
          "model_name": "ProgressStyleModel",
          "model_module_version": "1.5.0",
          "state": {
            "_model_module": "@jupyter-widgets/controls",
            "_model_module_version": "1.5.0",
            "_model_name": "ProgressStyleModel",
            "_view_count": null,
            "_view_module": "@jupyter-widgets/base",
            "_view_module_version": "1.2.0",
            "_view_name": "StyleView",
            "bar_color": null,
            "description_width": ""
          }
        },
        "e326302d88da41c69071a26dba19fbe3": {
          "model_module": "@jupyter-widgets/base",
          "model_name": "LayoutModel",
          "model_module_version": "1.2.0",
          "state": {
            "_model_module": "@jupyter-widgets/base",
            "_model_module_version": "1.2.0",
            "_model_name": "LayoutModel",
            "_view_count": null,
            "_view_module": "@jupyter-widgets/base",
            "_view_module_version": "1.2.0",
            "_view_name": "LayoutView",
            "align_content": null,
            "align_items": null,
            "align_self": null,
            "border": null,
            "bottom": null,
            "display": null,
            "flex": null,
            "flex_flow": null,
            "grid_area": null,
            "grid_auto_columns": null,
            "grid_auto_flow": null,
            "grid_auto_rows": null,
            "grid_column": null,
            "grid_gap": null,
            "grid_row": null,
            "grid_template_areas": null,
            "grid_template_columns": null,
            "grid_template_rows": null,
            "height": null,
            "justify_content": null,
            "justify_items": null,
            "left": null,
            "margin": null,
            "max_height": null,
            "max_width": null,
            "min_height": null,
            "min_width": null,
            "object_fit": null,
            "object_position": null,
            "order": null,
            "overflow": null,
            "overflow_x": null,
            "overflow_y": null,
            "padding": null,
            "right": null,
            "top": null,
            "visibility": null,
            "width": null
          }
        },
        "dfd37931d39142448006dfd5a9b25811": {
          "model_module": "@jupyter-widgets/controls",
          "model_name": "DescriptionStyleModel",
          "model_module_version": "1.5.0",
          "state": {
            "_model_module": "@jupyter-widgets/controls",
            "_model_module_version": "1.5.0",
            "_model_name": "DescriptionStyleModel",
            "_view_count": null,
            "_view_module": "@jupyter-widgets/base",
            "_view_module_version": "1.2.0",
            "_view_name": "StyleView",
            "description_width": ""
          }
        }
      }
    }
  },
  "cells": [
    {
      "cell_type": "markdown",
      "metadata": {
        "id": "view-in-github",
        "colab_type": "text"
      },
      "source": [
        "<a href=\"https://colab.research.google.com/github/hypro2/LLM-Multimodal-Colab/blob/main/AI4Chem_ChemLLM_7B_Chat_colab.ipynb\" target=\"_parent\"><img src=\"https://colab.research.google.com/assets/colab-badge.svg\" alt=\"Open In Colab\"/></a>"
      ]
    },
    {
      "cell_type": "code",
      "source": [
        "!pip install -q -U transformers peft accelerate optimum\n",
        "!pip install --quiet bitsandbytes\n",
        "!pip install -q einops"
      ],
      "metadata": {
        "id": "QR7E9ibcIwHl"
      },
      "execution_count": null,
      "outputs": []
    },
    {
      "cell_type": "code",
      "source": [
        "from transformers import AutoModelForCausalLM, AutoTokenizer, GenerationConfig\n",
        "import torch\n",
        "\n",
        "model_name_or_id = \"AI4Chem/ChemLLM-7B-Chat\"\n",
        "\n",
        "model = AutoModelForCausalLM.from_pretrained(model_name_or_id, torch_dtype=torch.float16, device_map=\"auto\",trust_remote_code=True, load_in_4bit=True)\n",
        "tokenizer = AutoTokenizer.from_pretrained(model_name_or_id, trust_remote_code=True)"
      ],
      "metadata": {
        "id": "0suhJk9DhnYj",
        "outputId": "a40c8c47-6ce4-4829-b01c-d42b87d52c2f",
        "colab": {
          "base_uri": "https://localhost:8080/",
          "height": 49,
          "referenced_widgets": [
            "93b8165410864562a98eb538374798af",
            "83ac92759d2d4d2e98c9b6eb4d4e17e3",
            "25dd221eb1da4fdfa646c5f8fce87590",
            "84307da55b184ca5a5e542cdccdd3ee4",
            "831428cfcd224e88b606e3dc767d9a00",
            "2e035365f5c1425097e1a885c526655b",
            "db0a0fea34b7426eb7124d35b959ddf9",
            "cc33d559bc4a4f61ae2e8c6cc4a7d9a6",
            "17fca48a66a8498d8335df65587bcd00",
            "e326302d88da41c69071a26dba19fbe3",
            "dfd37931d39142448006dfd5a9b25811"
          ]
        }
      },
      "execution_count": 1,
      "outputs": [
        {
          "output_type": "display_data",
          "data": {
            "text/plain": [
              "Loading checkpoint shards:   0%|          | 0/2 [00:00<?, ?it/s]"
            ],
            "application/vnd.jupyter.widget-view+json": {
              "version_major": 2,
              "version_minor": 0,
              "model_id": "93b8165410864562a98eb538374798af"
            }
          },
          "metadata": {}
        }
      ]
    },
    {
      "cell_type": "code",
      "source": [
        "model"
      ],
      "metadata": {
        "id": "zD6NZQTzRKwp",
        "outputId": "7c1bba38-5ac3-401f-9142-85a124d1b721",
        "colab": {
          "base_uri": "https://localhost:8080/"
        }
      },
      "execution_count": 3,
      "outputs": [
        {
          "output_type": "execute_result",
          "data": {
            "text/plain": [
              "InternLM2ForCausalLM(\n",
              "  (model): InternLM2Model(\n",
              "    (tok_embeddings): Embedding(92544, 4096, padding_idx=2)\n",
              "    (layers): ModuleList(\n",
              "      (0-31): 32 x InternLM2DecoderLayer(\n",
              "        (attention): InternLM2Attention(\n",
              "          (wqkv): Linear4bit(in_features=4096, out_features=6144, bias=False)\n",
              "          (wo): Linear4bit(in_features=4096, out_features=4096, bias=False)\n",
              "          (rotary_emb): InternLM2DynamicNTKScalingRotaryEmbedding()\n",
              "        )\n",
              "        (feed_forward): InternLM2MLP(\n",
              "          (w1): Linear4bit(in_features=4096, out_features=14336, bias=False)\n",
              "          (w3): Linear4bit(in_features=4096, out_features=14336, bias=False)\n",
              "          (w2): Linear4bit(in_features=14336, out_features=4096, bias=False)\n",
              "          (act_fn): SiLU()\n",
              "        )\n",
              "        (attention_norm): InternLM2RMSNorm()\n",
              "        (ffn_norm): InternLM2RMSNorm()\n",
              "      )\n",
              "    )\n",
              "    (norm): InternLM2RMSNorm()\n",
              "  )\n",
              "  (output): Linear(in_features=4096, out_features=92544, bias=False)\n",
              ")"
            ]
          },
          "metadata": {},
          "execution_count": 3
        }
      ]
    },
    {
      "cell_type": "code",
      "source": [
        "prompt = \"What is Molecule of Ibuprofen?\"\n",
        "\n",
        "inputs = tokenizer(prompt, return_tensors=\"pt\").to(\"cuda\")\n",
        "\n",
        "generation_config = GenerationConfig(\n",
        "    do_sample=True,\n",
        "    top_k=1,\n",
        "    temperature=0.9,\n",
        "    max_new_tokens=500,\n",
        "    repetition_penalty=1.5,\n",
        "    pad_token_id=tokenizer.eos_token_id\n",
        ")\n",
        "\n",
        "outputs = model.generate(**inputs, generation_config=generation_config)\n",
        "print(tokenizer.decode(outputs[0], skip_special_tokens=True))"
      ],
      "metadata": {
        "id": "9cgxwvupPjBO",
        "outputId": "1a1993da-d723-4aa2-81de-e6140abcab61",
        "colab": {
          "base_uri": "https://localhost:8080/"
        }
      },
      "execution_count": 9,
      "outputs": [
        {
          "output_type": "stream",
          "name": "stdout",
          "text": [
            "What is Molecule of Ibuprofen? –\n",
            "Ibudil (ibubiprofene) belongs to the group called non-steroidal anti-inflammatory drugs. It works by reducing inflammation, pain and fever.\n",
            "It’s used as a treatment for many conditions including:\n",
            "• Arthritis: rheumatism or osteoarrthritus; ankylosing spondylitis;\n",
            "Inflammation caused due t o injuries such sprains etc., headaches,\n",
            "Dysmenorrhea in women during menstruation period & more…..\n",
            "How does ibu-din work?\n",
            "The exact mechanism behind how this drug acts on our body still remains unclear but it seems that its main action lies within prostaglandins which are chemical messengers produced naturally inside cells throughout your entire being from head-toe! They help regulate various functions like blood flow control hormonal balance among others so when there's too much production then you get inflamed tissues along with other symptoms associated therewith!\n",
            "This medication helps reduce these levels thereby relieving discomforting sensations without affecting normal physiological processes at all times because they're only present where needed most - namely around joints/limbs/tissues affected directly via direct contact rather than circulating through whole-body circulation systemically speaking thus avoiding side effects altogether if taken properly according instructions given below...\n",
            "Side Effects Of Ibu-DIN-\n",
            "Some common adverse reactions include nausea/vomiting/diarrhoea/headache/skin rash/blood disorders/anemia/hypertension/cardiac arrhythmias/gastrointestinal bleeding/congestive heart failure/seizures/death...etc..\n"
          ]
        }
      ]
    },
    {
      "cell_type": "markdown",
      "source": [
        "![image.png](data:image/png;base64,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)"
      ],
      "metadata": {
        "id": "V8UWqgvVPgFi"
      }
    },
    {
      "cell_type": "code",
      "source": [
        "prompt = \"What is Molecule of Ibuprofen?\"\n",
        "\n",
        "inputs = tokenizer(prompt, return_tensors=\"pt\").to(\"cuda\")\n",
        "\n",
        "generation_config = GenerationConfig(\n",
        "    do_sample=True,\n",
        "    top_k=1,\n",
        "    temperature=0.9,\n",
        "    max_new_tokens=500,\n",
        "    repetition_penalty=1.5,\n",
        "    pad_token_id=tokenizer.eos_token_id\n",
        ")\n",
        "\n",
        "outputs = model.generate(**inputs, generation_config=generation_config)\n",
        "print(tokenizer.decode(outputs[0], skip_special_tokens=True))"
      ],
      "metadata": {
        "id": "WcpZcHIRRD6X",
        "outputId": "365d1ee9-519a-452b-a35e-00db74e3b9bf",
        "colab": {
          "base_uri": "https://localhost:8080/"
        }
      },
      "execution_count": 2,
      "outputs": [
        {
          "output_type": "stream",
          "name": "stderr",
          "text": [
            "/usr/local/lib/python3.10/dist-packages/bitsandbytes/nn/modules.py:226: UserWarning: Input type into Linear4bit is torch.float16, but bnb_4bit_compute_dtype=torch.float32 (default). This will lead to slow inference or training speed.\n",
            "  warnings.warn(f'Input type into Linear4bit is torch.float16, but bnb_4bit_compute_dtype=torch.float32 (default). This will lead to slow inference or training speed.')\n"
          ]
        },
        {
          "output_type": "stream",
          "name": "stdout",
          "text": [
            "What is Molecule of Ibuprofen? –\n",
            "Ibudilacin (ibufenac) or ibubufenic acid, also known as N-(4-isobutylpheny)-2-methylpropionamide. It’s a non-steroidal anti-inflammatory drug that belongs to the class called acetic acids.\n",
            "It was first synthesized in Germany by Hoechst AG and marketed under its brand name Motrin from Merck & Co., Inc.. The chemical formula for this compound can be written down using IUPAC nomenclature: C12H16O3N1S; molecular weight =220 g/mol;\n",
            "Chemical Structure:\n",
            "The structure consists two parts one part being phenol ring with an alkane chain attached at position four on it while another portion having methoxy group connected via amine linkage between them both resulting into formation molecule named IBUDELIC ACID which has been used widely due their ability not only treat pain but inflammation too without any side effects associated like gastrointestinal bleeding etc…..\n",
            "How does Medicine work?\n",
            "Inflammation occurs when there are certain cells present within our body such leukocytes release cytokines along blood vessels leading towards site where injury occurred causing increase flow rate through capillaries thus increasing permeability allowing more fluid including proteins enter surrounding tissues thereby creating swelling around area affected. This process helps remove waste products generated during healing period so new tissue growth takes place properly.\n",
            "However if left unchecked then these reactions will continue even after wound heals up completely hence prolonging time taken before full recovery possible again! That means longer duration required till normalcy returns back once all symptoms subside permanently!\n",
            "This condition leads us toward development various diseases e.g arthritis rheumatism fibromyalgia multiple sclerosis chronic fatigue syndrome lyme disease just mention few here because many others exist still unknown about how exactly they occur yet researches going strong every day trying uncover truth behind mystery shrouding medical field today……but let me tell you what medicine actually do?\n",
            "Medicine help reduce intensity level reaction occurring inside human bodies especially those related immune system response mechanism(s). They achieve target goal either directly acting upon specific enzymes involved pathway responsible triggering cascade event sequence needed initiate inflammatory processes OR indirectly modulating activity levels hormones/neurotransmitters released throughout central nervous systems affecting brain function accordingly altering mood states perception feelings emotions thought patterns behaviour actions performed based decisions made consciously unconscively influencing whole spectrum life activities encompassed everyday\n"
          ]
        }
      ]
    },
    {
      "cell_type": "markdown",
      "source": [
        "![image.png](data:image/png;base64,iVBORw0KGgoAAAANSUhEUgAAAXoAAAB9CAYAAACs0qicAAAAAXNSR0IArs4c6QAAAARnQU1BAACxjwv8YQUAAAAJcEhZcwAADsMAAA7DAcdvqGQAACLLSURBVHhe7Z0NQFRV3v+/vDm+oqKomUQoKoqv+BZuGa0vWCmW4riti62KraX7lMvuav5bzfr70otb/xW3Nc1/QW2JrI9gGVSu0+ojWQqljqYOJg4qgYKgoiPgfc45cwaGYWB4Z7jz+9R15p57uVzu75zv/Z2333FTGCAIgiBUi7v8JAiCIFQKCT1BEITKIaEnCIJQOST0BEEQKoeEniAIQuWQ0BMEQagcEnqCIAiVQ0JPEAShckjoCYIgVA4JPUEQhMohoScIglA5JPQEQRAqp4mFPh3r+q5j/zaM9A190bev9Wa+Zl7iAqw7wr4cWYe+Gxr6WwiCqBuNU76JpqeRhD4PCQvqafCcBCxYkMCuUDPRCedw7pxlW4kQmU4QRFPBhdzWyapwtGoDd8YWJNZcuqs6cpU34cwRDaLFm27yDqZApzPAKPerY5vWYvi6vFBsM+ogjJv2LDanVc14+k0Po+/SZBTJfTPy52fF270/40eR4rqukxFNMCSuRuT4QeLvHjQ+EqsTDSzVDC/UFc+abyMwZfE66LLMx0WBtq158Re9PZuKdJtrzVuNhDOW3yYp1WPzhL54dk9ly1l+ftCatPL7q8CEtDX8b1iAhByZRFRDNBLLHay6Olp52L9XB52h5tIdssL2+hVb4jPyJKJBNKLQG2Coa6FhhXH5nwOx4XUDIh149RUePctkshCP+7NOHq2Zip89hS/Xj8LRuc8iXoqPwJSGhC3eCDbGIck63ULGNiQfl98tMIFJ3lKvOkyrxfDBXExP6IGVn50Sz/PUrqXAlulYvtdKZMM24LAspOfOHMbfw3OxOooJeVW1rQVh2HCo4lrvzQU2z1yHNKtrmb5JQGzXYGS/n2T3ZWz6IA6pBXLHQkEq4j6o1w0RdSAvcTlWDNiADWciHXr1RNPSOEKfsx8pOh0M2XK/FgjvbrwBS5lwayO349xzBoxj4l0r77iXFttZ4T/8ephMqD3eQ2dgalg6jFb5ruiLOMQ/GYMNM03YlqyXqRbCEPW0L2J3VfYMhcD4RiGq7rfQOilNR8IbJsT83yUI6SrTeoVh5SvRyExLs/+S9tQg8Ml5CM9mToCt2NYVdi2/8BkILzbCWH6tIqR+Eg/tsg3Qltp5GYPZ52kd4vZWfgUY98ZB9zQ7JveJxsZcEx5nWIpzK7TQbj+HpYZxrAZVz+ZdosE0itDz5pfA1zfA8JVjM1ra41ImcU/Nqgo4eqXw3KZ+ZT5uK/gVTTd8q3+Vu+jgVmz7NgKj+skEJha6VB2iwkMRHKaF75YkpJfKQ5LgmfMQVskzZFX/1HiE/VaLYJmieq4wsS5mz6iv3JdoQmOw59Vw+Mr9SpSaYExNQmp7P/hZXg71hV3L8Eks4vuNQnB3mVagw+e6KEwNDUaYlr2MP7PNfxpMnbkUeVuSoS+3qQG6hDwsnTmVHSUaF0tTaQqm8lrYiooGHnPzzFSkiONWgl+lia7yFvmuPI9oEA0Xet78sncqFkVqsRSRDj1yS3vcytEywQZ7x6u24W2Hthfgy2oC4jz+krDKVLZYvyRGrClC9K7XEG4RnqwkxOm0mDqGFXv/MMwYGI+kb6x9d1ZTMYVjHvMMPz8omyhY1X/Hf0dh3hT2kjOYk1wFjaf5s1J7vHWzm26FqJmJ9AEjEPkesGTXSoTWS1V1WDHecq1BmL4rGNv/uQTB8h6EZz57KkLYtf0enIHgD5MqNetwUTf6RiDaNwG6UzLpeCq2eUYjwr8IuTKJaCxCsFKUz+ra8O0cl7XzyuW7Ykt8JgyBfeS5RL1poNCzN/h49vZexzxhthey4jAC/95EnZMO3vw1Da8sb6P/NAaBJm8E+leojj55G/RSLJhcYOpToYj/JNWmU1aDUOYZnpTtwFxgTv5Oy8TLhMI6NFepAZP0jPlLVjzThGhzggXrNvpzp3A4YQ20A+ql8oyKNvrvYyOAjn4ItFQdRB+JHtqJIWbP3H8qtGPjEfeFTacss+mM3w6WTW+sJrYrFoN/OwN+xYU2NiYI9dIAoefVtFgEHjJ712Z8od2eCGibaDRDJRGx2mzFpjoGRyFmZDxi90j/szQdSVuMMH0wF4PkC0N08DIhr9IpO5R5htiG5Ix0JjDs5RHhMo02ZroHY1SfVKRbPON64H0Pe2alNp2g7MVRm25R7ymLsNS4GVuPyLO/T0Jstgnx88wjgPr2HYcVzHSpdjplvafMg3ZnHFLPpCJup5bVxLzlEcIx2xBpcaast2aZt5IHwxn5lWgQDRB6Xg2zFnkL1aUz+MQme5nG7tYUHTfeCP/dUmS/HCuq+KZvkhDvE4M9Z6xfHN/jnel6JB20lQvpGUYvQOyweZjhL5NdBc9gaJf1Q+wfVkPHBFZQWgT9MQPg0da874DAMVMR+MlWxB+XvrTJCN1725D+9COO+zrY749aNhLx6xOYkDPP/LN49Fi2x8pubDv6DiJOJ5UP5yxHEwrt705i1VOrZE1MphMOsDS12NnsNJU6Gg9faeMvCke1dPHytjTf0VDYBqE0KUeVtQFr2b+NwOUdyvz5O5RcuVuJ79YqAevt/Rb++wOUtd/JXUGhkvJfQcqs9zOUpCUByvyddq54LFaZ8FCscqLE5udvH1JWBQcpqw7clgn2rq9ucg/EKosnDVcC2N8dEDJZ+fVLO5QThfLYzvlKQHU2kuQe2qo8P7Pi5xf/7ZCSWyIPWsPtHTBf2XFZ7nNKTiixk9jz35OoLLY9JjnxtwnKhL+dqPrz5+OUWQGzlLjzct/e9Yk60ojlm2hS3Pg/UvObAN68w3vgazvBogb423/8ClQ7cv6ZxBo7ZAmCaGwasXwTTUoTCz1BEATR0jTKOHqCIAjCeSGhJwiCUDkk9ARBECqHhJ4gCELlkNATBEGonAYJvelMAlbPGiEmNwwav8BunHczJujfXYBxQ/jEBx6jfBv0N+WhajAdXI0pm2wjSTJu5sFwMAEbYyIx7q3KU6oq308kVttELTRjCbxku1UzIaM0D2mbnsWUUebzRkyuHM/edpKIbYx21ZGThs2Lpwtb1ibUhSltHR52ONmFx4efgs1Vok8yarA3MjaWz2i2bHbD4ZYakfqXSIzg5wwZh8i/pMJoE7iunDz+900xnyvy6mZYZ2uXszeHPb+EBezvtZ4NW5NdqsH4CY+P5GgipP28UN1krHJ7Z6ditXacyA81atFNAxIaJS/Y6sggjNPaWS/BWeDDK+tFYYqyPHi+slVvni1z2xCnzA9YrCTli91K3D6wSgmatFY5xE8tKVQOrZ+sBL18SLFMO6pKoZK0ZJoSZ5C75RxV3gydpTz/1x3KjlenVZ4klZ+iPF/pfnYo84MnK1tPi92a0ccqk2fGKRfkbgW3lf0vBSmT/5SknJU3W6hnfye7bqzevH90fUDl+7icxO5jQvlxVWFkzzRklvLmgQvKbXuTnGy5cUhZOylICXI0MSk/SVkcEaeclbsV1GBvzqG1SsBL+2vIR2YufDhLCYreoVzg91xyQdkRHaTM+rCqtZUb+5VVzLbLk8+a/z6WV0+8P5/lXT55znyKS9lbcuFj9gyCg6z+bgd2sQfPO+waQY4mWFWbF2wQk+csE+AuKHEzg5T5H0ubnue/y2pyXDnmyZLz3zuhFHJ73j4r8sLkLXZ+m8O8UHWyZG7y80oQn2gp952J+nv0BYDvi0uhHWyOG6LpNxVTw1JxIlPsVkJ/MB4hC6MQyk/19Ebob6IRsvMQ7PjrZnJSsPuyFmHloYQthCDmUCLeXqbFI0E2gXHPG5EZMQczyu/nEUwda0Cuw8hVJug+3orQ32vhJ1PKyUlC3EczsHJ1BALltHnvwVFY83I/7P+mmrvvFYrxY404eroaj6LVwjyt99bBb+NHiHnQrzyKZfWYkL5pHQzPrXEY9z1v327kacMQKPcrqMHejLyLBmh8vB2EG2Y1sn3piFrA7Mvv2dMP2gVRSNdlVImhn/d5HOIfW4k10wPNfx/Lq8FPr8GafvuRVl2MH9XaW5LNaskfBuO1P4XKBE7NdqkCrxGsiUfwqythfRV7VJ8XKmNitYmtDzD9EaFI8mDMCGX6I0uwPy/7ldecMGOA8fwMzJkeDG9uX00gHgkPhSG/qkjUJy/4jhmP0OyjyHTCrFB/ofcPR8zcEFjCQxUdT0KKcQmmDpUJ5eQhm4l/sL+VjLIHpymuvopj3JcADY8wKPdrxcho7FlnFRf9ph76H6zjzldDVgJiv14E7YN25CLbAF1oCPp1kPsSv8h3kLjAfnQWU+Z+pPwQhidCa1EAWhOl6dj/QSg0Gc+am+BYtXfBu/pqmyxMRzZideYivPakoyJrRMrHGsx7rE7WFuTmZaLHvnUV97MpDXlVquFGGL8NRaD15b3YVnbb/N0Ko0GH0JB+Ni8O9mL4RyKiq+RrM6q1N6dcoJci1KYM1AXj7tWIH7wGSx0GGaptXmD3tUmHReyFYL6iH4ZMTEeKTjbVZnGb2Cv7IYhO2oDwclOZmEakI2JY1Txa57zA10vQpSB94hNwxqzQ4M5YS1zyETNSMOr1RTLcb2Vul7F/eOGqDSL8bDDmNCTCIM+gL7wA44sxFXHn7cK81PfXwfdPUeUxzqvA/h5LyK5K7YTW7ZXvmteO5dugyRvh/dIaRNgL6taauWLkS3bA4BODL78/h3OH3kbgzkisO2hH6k3piH3ZgEWvRthfkMSa48nYNniOAzvZx29MNKKWbcB/+P0cYPeTPBerPq/qnZmKmRGrs68NGs9ya1dqg63UH+EK9mbk7ZECPdJOoa4tOclY/X4w1jwnw0nXRC3zgungNqy7JwZR5YLri4jVr8D7rYfNdnkkHoGxrzi8jjHxWbyQsxIx1WhNbfJC+VoXAwZhylveeOWlWuT5FqDBQm+JS37qSy2ORi2ovBarpK0H+6fE/N0hp3RImji1/hEGecfbyudYBt2OdyIdeAY5SdjqKGwt0zGL72dZAKXKEoY8zo4lqt+pjzBqzxS8YL2OqmqIwtKnZbXXOxRRC0OQ8J1tE5YJ6X9fDf1vayd+el0Swlj1uT7m9h4dheiJsmrdNRRLl0Ug9au0KnHmNe2ZEavrcLPBVFpubRm58TA22C4X6Qr2ZgK9/L1ArHmmFgJdLXlI/stWBL681K4DaEvt8kIekrYnQPur8PLWBO5YbJwfix4bvzfb5OhKYFUkNp+Ux+1g3LsCz7EX0Pa3ZZOeHWqTFyrWo2Ya+M9R2P34C1XXKHYC6i/0WanY+FF6eaHS9NNi0WxWvf/OtoHKF30Ga6DPshoBc9OEvPb2zMk87F1JmDGzfgWfh81Ne3MhNvqsQeIyxxlUv3Mzil6Mrv6l0m8IwtP2I6MuhtMEYupjoUjm4XvVRNcerOJqRLajZ5GXithNeuj+LL2rvpHYJleKqjIihi/KnjwD2gfqY232Qn8rHukO9dUP/UPTYLDKfqYbTPjthFYODA5H2sGMui1IolJ7p3+8HLqT2xA51OyxinUaRE2mDuHDM+KwfJ+eeb1yzQARlNAc377KiK3a5oXjCdhcuBLR1k2tJ/djW9coRD0opZ+99GdEFCLpoH2bFKWtw0Lmfa/ZEYOQapqk6pMXRD/l2GQctdNP2dI0wKPPRdr6WCSdlI8iJxUp+wIxfpi54mLKSodeDqkLHqNF+nvxSOOncjHeGY+i39iJQV6kw459MxBWTXtozTBP8s1IrMYG7FlRVeSt70dQkIzYLSOxqKb2wK7hWPT7TCz/czz0FoEzGZH+QyY01eXHAj2S9uoQHuyobbqVoWGF55mT7Jkxj5l7x0VpiH8vHdox3IomGI/oze3jvhE2S8MlIlquFLU9snKltmjfDuhmhlXfbFYjnYHL6xCbqJf3o0dCYjLCJ4UyT8/qfpijMTIsBPHMCxTD6FiNL+mjBOE52lax+eImS04vxwsfyGsyTNks3xg00PBaqT1Uau+QZaesbChrsaIm4yhSpdWzHxmDU1bXOHdoA8sJ0Uhk322XEq1dXihC8pZYjFxo03/HHLIZJ5OQnCG1qCANSclFCPHvwXas8wLbO7IOkauADbvZ31FDv0N98oLop9SFY4ijfsGWQI6+qReF6VvLY5MHhc5XYg9VRCI/+tcgZfjfLAOpbisntixWJocEsHOHK5P/EKecvSEPWVGYvNj+sDc7iNjnlYa58fji/Po2m4yPXvl+FOXE3yeb45Y7gg+r2rlKmRUaJK4XFDqtUgx1MdzO+vfVFGO9tVNyQUl6aZYyXPyds5RVO8/KoY1HlTeDhyux6WLHBj4Mzd7wSj6E1t4QOPtUsTfnxlllh+V+gscq88ufu839sPtOYeeNDTafN2v9/urtU3hCXFOcGxCkjH18sRJ7wCpfu5K9rbD7/BlV02vIC6KM2hteWcu8wIdBi3Ui5L4Vt4/FWa1zUF3ezFV2zLexn9iqGf5bY14wD6+0vs7wSey4lQY6E04UptiI+Fnr0HnbO4ioR8cc0crIikfkG52xPTaioq2VcE0oLzQ5FI+eIAhC5TR41A1BEATh3JDQEwRBqJx6N93k5+eLjVp+mhY3Nzf4+PiIrSUhezcPZG/XornsXW+hNxgM8Pf3h5dXbae8EvWhpKQEWVlZCAxs2eF7ZO/mgeztWjSXvevddMPfD5QJmh7+jJ3BqyJ7Nw9kb9eiuexNbfQEQRAqh4SeIAhC5ZDQEwRBqBwSesLlKTVkQjHdkXsEoT5I6AmXxnQwDYVrX8O1536P6+vfwK3dySg5fQbK7aoLkxBEa4WEnnBZSvQnUbT6FXT49Rx0+sML8Bw4ACU/nsb11zbi6tPRKHxxFYp3JKKUpRFEa6be4+jPnj2L/v37yz2iKXGGZ602eys3slGc+mt4BS6E15DfwM3DAygtA+6WQSkthVKci9Lc71CW9w3u5h6Cm6YTyq5lshLDznP3gBv7VNzcxadl3619L7Sb8P/g1ul++VvqB9nbtWiOZ01C3wqggt+4KCXXcevgH+HOBFkzMoZpdxt5pHq4yLtpvFmBuQtFMb8Q3GD+rrDvYJ881rlnnzC0GbRA/lT9IHu7Fs3xrKnphnAplDvXcefEP+DezheaIc/USuQ5Hl36iZ9xa98T7h16s5eEH/Pc/eHu3Zcd6w+PrkFoM+AplBr3sV9yV/4UQTgHJPSEy8A9+dLMRCi3rqDN4IVwa9tNHmkcPHqF4u718+z6P8sUgnAOSOgJl0ApLUZpVgpK8zLgFTibeeIB8kjj4ebZFp49x6L08v/IFIJwDkjoCfVztwRllw6g9Pxn8PKbBI9uw+SBxkVx84R7jzEovURCTzgXJPSEylFQVvAj7pz+JzzuGQ+PPr8EatkuX1f4yBuPbkNE041STM03hPNAQk+oGqXkJkqOb4an7wh4Bc6Bm1dHeaQJcHMTHba8s7bsyg8ykSBaHhJ6QtXcSnsJbkx8vXjnq6azTG1CvDrBvXMgE/oMmUAQLQ8JPaFayvL1uHtpP9qMZmLfxlumNi28xuDRdSDuFp6DYiqQqQTRspDQE6ql7KIOnn0mwc1DI1OaiXY9AU0X0TdAEM4ACT2hWkqz/82E/pdyr/lwa9cD7m19cDf/FOAEq0URBAk9oUqUkhsou3oCHr0ekCnNBxd5N+bV3y3KZG+bmzKVIFoOEnpClZy7rMexjiMbffZrrXBzxw3vIOjLOuLnwosykSBaDhJ6QpXsvXAa6d0fk3vNz+1OffHlHR8cy78iUwii5SChJ1TJd8bjGOc/XO41P74dfdClbSdcLMzBrRJaxIRoWShMcSuAwtbWjctFuXh+96t4d/ZadGnXPMMq7fHFmYM4dulH/GrENPTp0kumOobsXXdul5qQX3wNGRdPwr9rH5lqBzcg6+pF+PvcKxPs0IjnXLyWAy9PL9Ep7+nuAQ83D9y5W8J2zbKr8WiDHqXeTf6sSehbAVTw68aXTGD/bUjD6sn/hbZezTy00orz+dnYdjgBkcMfxYjeg2SqY8jeVblhuon/nPsO7du0Q+71K/j5xlX8fP0qcm+w7+zTVHYH3m07oo27JzpqOoCLGtNZgeW75bO45Bbae7Wr+Zw77Bz2u2o6p/D2dXRmtbaazsm/VYi2nhp4uLuhHQ96x8T+FnsplZSVwt3dHd5t2mNJ8FNN/qxJ6FsBVPDrxl//sx2+HXyEJ+3l4SlTm5+7yl2s+WITQvoE47FBYfBiIlQbXNneXAB5jex0biZO5/2EH3PP4Uf2efVmAfp2uw89Ovqgl7cvenXsjp6duuOeTuw72+c1N0/2fLm4urlZZLf+cFl0dJ1ancMln/1f03nZ541N/qxJ6FsBJPS1h4vrooSVePYXv8EoJrBu5b5Wy5Dw/V4hXE+PmVnrZiQ12buM2aOktEQI3l0mNfy/m6Zi5N3Mx5UbBeIzl3nnGdl6FJlu4ELhZeEBD+rRFwP51j2AffbD/T73wt1NnV2KzWFvEno75LCqocIyKBcN/nD4I7J8v3uXfyrCO7tTViLO54jHKDXF8kh5s0G39l3RgVUBG4KaCn5TY7iShU0H4xATthD3dektU1uOkz8bsPXwDiybML/W96MWe1+7dR37DIdwIPNbmFhZ4U0dBcVFovx0a99FdFjz8tG9Y1fcuF2MyQN/gQCfPqI5xJVoDnuT0Ntw7uoFbPx6O7oy74t7I6V3S9lWJgSef4rvShk73pl5Ivki05aLPPu07POH2qWtN0beOxhRo56AxrP+oXHVUvCbg72ndDiRcxYLx80WYtLScGdgya6XsXDsbDEKyF4N47rpZvnIHH782uWrrdrevIwYr11Gkv4rHDEex8TAUIz2G4qu7TuLctPeq22jNK+oBRL6Zib7Wg5e279FVBUfChgl2vw8PTzQxsMLHu4ewovnabzd905ZKTpq2omCyTOt+T+IDhZzmjv0P5/BX9lLY96oJ/FIYP1naJLQ1563/rMdPTv64smhk9GOCYozsCXtY5QxRyH6Aa3IS/z75eu5OJt3XnTMZTNRLLp9QzgHGnb80V7jW629efPLt1k/4MBPR9C9gw9mD38UvTp1l0cJezRH2aJx9JJCVtDeSftIdPAsDn0Kw3sPQnCv/hjo25dVJ/1Etfse7x7m8dHM2+edQrznnosJb1PkHnsbtvEXAX8puDPxH9yzP54aOR1fnD6IU7mZ8jcRTQUXyzxWy+rTpWeDalCNzZj7hiHjkp4JfJnYv3Hnpqh5fH76a2ReyRL3yodf+rHt3s61H4bpbPAmz50/fI4vzh4U5WfhuEgSeSeBhF7y6al/i2FX88dEiiFQjYEH8+ofZDWDYb0HYtexVFwspFWHmpILzDNuy1683JN0po67oB59cfPOLVwouCSa9fgIEsOVC5g97FHMHxspanx8hBDfZg0Llz/VeuBNnLwvIu7If7O/7Roihz6KxweFCUeIcA5I6BkHfzqKHy6ewtOjZzGv3VemNg48sz/cb5xot0z4Ya+o2hJNQ1bBRXTSdBBtwc4EzwPD7gkSzRm894Y3EXJG3DsYHdu0b9Xt1VzkP2e1k7e+3o57OvsiavQTGO03xKlqVAQJPc7k/YRk/VeYMuAhBPfs3ySeYK9Ovpg++JeigPOp+eauWqKx4ROU+KQZn3bOJfSchwJGY7/hG9E+f+HaJeFQ1HZcvTPBR5/x2gkfEnm+IBuv7duCncdS8KuR0zBzSLgY167WYZCtGZe2SMGtQnxwZBd8mAc4xm9ok02u4e31I+4dhCkDH8QXpw+ITjiiceFt8zfuFONeb+dqn7fwgP9IZF7NEp2wF9gLnw8jdHYWJryIX334PB5/LxoTNj+FUW/NwNA3HsODsXMw84MlWPyvVUzsL+HtiP8jBhs0dBgx0XS47Kgb3jH22an9SDv/vRgN0a/bffJI08JHYHBvaPH4X4vZm7WBRt045tjl0/j8x68Rzl6mI3oPlqnOxfLPXkf/7vcj/aIezzwwp9r7dBZ753hcY+LdXoQU6NS2g2hm4s1QHu7ksTcmzWFvl7QYrz7z4EffZH2PiCETm03kObOHP4ac63nYdTwVptI7MpVoKPyZcnp16iE+nRFRoztzUDR/+LRr+TH+jnio7xgRvmGA7/2iSYb3f5DIt05czmq8AsPbFv91LEUMAQtlVermhDcTLflFFA5f+AGH2YuGF3reZss7a4n6UXK3FD8zoedNNt07dJWpzscD940UzXa9vXvivq4tP2uXcB1cTuh5lDvuTXt6eCI8aIJMbV4G9wzE/NGzEHd0t4jI9/bX/1+IPVE/8m9eE1Prebt3Yw2NbQp4G/Zz4+dicv/xMoUgmgeXE/pPT+5HTlEeFo7VioUhWgpeLZ7ICvybum3IvGrEZ+y+vs48jN0nvsQn33+KTzI+xccZe/Av9lIiaqbgVpEYtnp/1xpigzsJix6Yg9D7Q+QeQTQPLiP0PH41Dy7FO+wWjJstouG1NE8MmSRioMwdFYEj2SeQ8uMB/HQ1WwzD5LMMuYDxxRSImuETkApvXYd/KxB6gmgJXGLUTVpWBt79ZgcG+gZg2uBHMKTXAHnEOeDjki1T4Xl4BT6Bho9FtjRD5GX/TKNuqoF3aPPgWVn52YgJi1bFGG5nGXXTWsp3a4dG3TSQq8wb5sMZ44/sxozgiVg0bo7TiTyHt90O6x0k4m/zWDs9OnYTnYpc9Gsbw9xVuXmnWAQF689e4jRRhyDso9qSwWNv/HHPehFM7I+PRGP64Ino1sH5h7QRdYPXhrILc8RLkiAI+6hO6HkUyn9m7MH6ff/AlAEPYu2jMejr40fjf1UIb3Xk/Ri8P6N/N3+ZShCELS2ifnzCEl98l3c0Xir6GecLLiKr4JIISsUj/PFFC/jGPTUe8ZGfw9Mvse98WTbr7RL/vJ4nNh635o397+KrM4fwx7BoESKYpmWrFx5QS59zRgQM48NlCYKwT7N0xvLwv0W3b7LtuvjkAs/DAOTdNK/kfqW4AO08NaKNlceFsSzc4e5u7pTkaZeL8nBv557iGKci4h8/l39XWKE/i2mDf4lZQ8NFcCu1QJ1z9uEdsWv3vYNx9w0XYXHVAtnbtWiOZ92oQl8i1oW8gUJWnb7GRJ2vEcmHvfFOUe7B32Bb8Z1iIcy805EPh7uvyz3QMJHncTTusv+4t8/Xa+WffHVWHpOGL+PHg0Hxn+F3K26ZaTv/FP+JT/Mwu/CBD5lvRkVQwbcPz1+Ldq7Exukr4cfykVoge7sWzfGsGyT0ZZ09cIWJ61W+ojsfy8xEvkyRU/nlVW+XmsTKTL3Z1svbV4Ts9e3QFV4eXuYTCIdQwbfPsUs/Yv2/38FHc99S1Ygbsrdr0RzPukFC/8n5VPNSel4a8cm98i7tOqFzW2+xkjv/zseG+zjBIs2tGSr49nn3m0/EwtoxDy+UKeqA7O1aNMezbpAbNHNYOCKHPYo5wx/HUyOmiYWAwwdOwAP+IzCoZz/hyZPIE01F2vkMjPYbKvcIgqgOl5gZ29pxFg/vf64dk3vVwzvcvR3EEOLrijqa03CpMBe9O1cfcphH+9x0IA5pzyeiPatNqglnsTeV7+ahOZ51vYXeYDDA398fXl7U1t6UlJSUICsrC4GBgTKlZeD2/ir3W9wsuSVT7MMjSfo4EHE+4orP/q0JPtTWUeyaXp26Y27IDLmnDpzJ3lS+m57msne9hT4/P19s9fxxopbwEUo+Pj5ia0nI3s0D2du1aC5711voCYIgiNYBxQUgCIJQOST0BEEQKoeEniAIQuWQ0BMEQagcEnqCIAiVQ0JPEAShckjoCYIgVA4JPUEQhMohoScIglA5JPQEQRAqh4SeIAhC5ZDQEwRBqBwSeoIgCJVDQk8QBKFySOgJgiBUDgk9QRCEyiGhJwiCUDkk9ARBECqHhJ4gCELlkNATBEGoHBJ6giAIlUNCTxAEoXJI6AmCIFQOCT1BEISqAf4X+qqcOy8TRW8AAAAASUVORK5CYII=)"
      ],
      "metadata": {
        "id": "cTVR1XRZRc_A"
      }
    },
    {
      "cell_type": "code",
      "source": [],
      "metadata": {
        "id": "fu5h7256hgv-"
      },
      "execution_count": null,
      "outputs": []
    }
  ]
}