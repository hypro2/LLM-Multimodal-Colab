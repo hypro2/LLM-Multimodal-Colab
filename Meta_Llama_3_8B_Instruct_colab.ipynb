{
  "nbformat": 4,
  "nbformat_minor": 0,
  "metadata": {
    "colab": {
      "provenance": [],
      "gpuType": "T4",
      "authorship_tag": "ABX9TyOuj4YGSDH7HmIU4LxDY/YQ",
      "include_colab_link": true
    },
    "kernelspec": {
      "name": "python3",
      "display_name": "Python 3"
    },
    "language_info": {
      "name": "python"
    },
    "accelerator": "GPU"
  },
  "cells": [
    {
      "cell_type": "markdown",
      "metadata": {
        "id": "view-in-github",
        "colab_type": "text"
      },
      "source": [
        "<a href=\"https://colab.research.google.com/github/hypro2/LLM-Multimodal-Colab/blob/main/Meta_Llama_3_8B_Instruct_colab.ipynb\" target=\"_parent\"><img src=\"https://colab.research.google.com/assets/colab-badge.svg\" alt=\"Open In Colab\"/></a>"
      ]
    },
    {
      "cell_type": "code",
      "source": [
        "!pip install -U transformers accelerate bitsandbytes"
      ],
      "metadata": {
        "id": "Jb6QIaUw4xwW"
      },
      "execution_count": null,
      "outputs": []
    },
    {
      "cell_type": "code",
      "execution_count": 2,
      "metadata": {
        "id": "trofmLZL4nN8"
      },
      "outputs": [],
      "source": [
        "import transformers\n",
        "import torch\n",
        "\n",
        "model_id = \"NousResearch/Meta-Llama-3-8B-Instruct\""
      ]
    },
    {
      "cell_type": "code",
      "source": [
        "import torch\n",
        "from transformers import AutoModelForCausalLM, AutoTokenizer\n",
        "\n",
        "tokenizer = AutoTokenizer.from_pretrained(\n",
        "    model_id\n",
        ")\n",
        "model = AutoModelForCausalLM.from_pretrained(\n",
        "   model_id,\n",
        "    device_map=\"auto\",\n",
        "    torch_dtype=\"auto\",\n",
        ")\n"
      ],
      "metadata": {
        "id": "jkMqqhD65c3C"
      },
      "execution_count": null,
      "outputs": []
    },
    {
      "cell_type": "code",
      "source": [
        "text = \"\"\"\n",
        "유희왕 카드 퀴즈\n",
        "```\n",
        "하루 우라라\n",
        "이 카드명의 효과는 1턴에 1번밖에 사용할 수 없다.\n",
        "①: 이하의 어느 효과를 포함하는 마법 / 함정 / 몬스터의 효과가 발동했을 때, 이 카드를 패에서 버리고 발동할 수 있다. 그 효과를 무효로 한다.\n",
        "●덱에서 카드를 패에 넣는 효과\n",
        "●덱에서 몬스터를 특수 소환하는 효과\n",
        "●덱에서 카드를 묘지로 보내는 효과\n",
        "```\n",
        "```\n",
        "개기일식의 서\n",
        "속공 마법\n",
        "①: 필드의 앞면 표시 몬스터를 전부 뒷면 수비 표시로 한다. 이 턴의 엔드 페이즈에, 상대 필드의 뒷면 수비 표시 몬스터를 전부 앞면 수비 표시로 하고, 그 후, 이 효과로 앞면 수비 표시로 한 몬스터의 수만큼 상대는 덱에서 드로우한다.\n",
        "```\n",
        "\n",
        "Q1. 상대가 개기일식의 서를 발동했습니다. 개기일식의 서의 효과에 체인하여 하루 우라라를 발동하여 상대의 효과를 무효화 수 있을까요?\n",
        "\"\"\"\n",
        "\n",
        "\n",
        "chat = [\n",
        "    { \"role\": \"system\", \"content\": \" You are an artificial intelligence assistant that answers in Korean.\" },\n",
        "    { \"role\": \"user\", \"content\": f\"{text}\" },\n",
        "]\n",
        "prompt = tokenizer.apply_chat_template(chat, tokenize=False, add_generation_prompt=True)\n",
        "\n",
        "\n",
        "token_ids = tokenizer.encode(prompt, add_special_tokens=False, return_tensors=\"pt\")\n",
        "\n",
        "with torch.no_grad():\n",
        "    output_ids = model.generate(\n",
        "        token_ids.to(model.device),\n",
        "        do_sample=True,\n",
        "        temperature=0.6,\n",
        "        top_p=0.9,\n",
        "        max_new_tokens=256,\n",
        "        eos_token_id=[\n",
        "            tokenizer.eos_token_id,\n",
        "            tokenizer.convert_tokens_to_ids(\"<|eot_id|>\")\n",
        "        ],\n",
        "    )\n",
        "output = tokenizer.decode(output_ids.tolist()[0][token_ids.size(1) :], skip_special_tokens=True)\n",
        "\n",
        "print(output)"
      ],
      "metadata": {
        "colab": {
          "base_uri": "https://localhost:8080/"
        },
        "id": "DvCEA_d08dHV",
        "outputId": "5b191911-a687-41c6-ee2b-095ec427143b"
      },
      "execution_count": 5,
      "outputs": [
        {
          "output_type": "stream",
          "name": "stderr",
          "text": [
            "The attention mask and the pad token id were not set. As a consequence, you may observe unexpected behavior. Please pass your input's `attention_mask` to obtain reliable results.\n",
            "Setting `pad_token_id` to `eos_token_id`:128001 for open-end generation.\n"
          ]
        },
        {
          "output_type": "stream",
          "name": "stdout",
          "text": [
            "😊\n",
            "\n",
            "하루 우라라의 ① 효과는, 마법/함정/몬스터의 효과가 발동했을 때, 하루 우라라를 패에서 버리고 발동할 수 있습니다. 개기일식의 서의 ① 효과는 필드의 앞면 표시 몬스터를 뒷면 수비 표시로 하는 효과입니다.\n",
            "\n",
            "따라서, 하루 우라라의 ① 효과를 체인하여 개기일식의 서의 효과를 무효화할 수 있습니다. 하루 우라라를 패에서 버리고 발동하여 개기일식의 서의 효과를 무효화할 수 있습니다. 🎉\n"
          ]
        }
      ]
    },
    {
      "cell_type": "markdown",
      "source": [
        "![image.png](data:image/png;base64,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)"
      ],
      "metadata": {
        "id": "9exwhggH-DjY"
      }
    },
    {
      "cell_type": "code",
      "source": [],
      "metadata": {
        "id": "RDi-j52896Jw"
      },
      "execution_count": null,
      "outputs": []
    }
  ]
}