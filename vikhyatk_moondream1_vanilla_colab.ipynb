{
  "nbformat": 4,
  "nbformat_minor": 0,
  "metadata": {
    "colab": {
      "provenance": [],
      "gpuType": "T4",
      "authorship_tag": "ABX9TyOHNAxY0lNDHt/99dbAnnUQ",
      "include_colab_link": true
    },
    "kernelspec": {
      "name": "python3",
      "display_name": "Python 3"
    },
    "language_info": {
      "name": "python"
    },
    "accelerator": "GPU",
    "widgets": {
      "application/vnd.jupyter.widget-state+json": {
        "0b38dc7d91a744a6b94a1d6fd24a8bcd": {
          "model_module": "@jupyter-widgets/controls",
          "model_name": "HBoxModel",
          "model_module_version": "1.5.0",
          "state": {
            "_dom_classes": [],
            "_model_module": "@jupyter-widgets/controls",
            "_model_module_version": "1.5.0",
            "_model_name": "HBoxModel",
            "_view_count": null,
            "_view_module": "@jupyter-widgets/controls",
            "_view_module_version": "1.5.0",
            "_view_name": "HBoxView",
            "box_style": "",
            "children": [
              "IPY_MODEL_42de021a77c248798f6200fdddbe2106",
              "IPY_MODEL_2c269d4ed0234c609416bd7c6e3861b8",
              "IPY_MODEL_00c1d971f26d4cb2a90f1c945f844373"
            ],
            "layout": "IPY_MODEL_8ae0e482e903419f81ff186f4c10ad46"
          }
        },
        "42de021a77c248798f6200fdddbe2106": {
          "model_module": "@jupyter-widgets/controls",
          "model_name": "HTMLModel",
          "model_module_version": "1.5.0",
          "state": {
            "_dom_classes": [],
            "_model_module": "@jupyter-widgets/controls",
            "_model_module_version": "1.5.0",
            "_model_name": "HTMLModel",
            "_view_count": null,
            "_view_module": "@jupyter-widgets/controls",
            "_view_module_version": "1.5.0",
            "_view_name": "HTMLView",
            "description": "",
            "description_tooltip": null,
            "layout": "IPY_MODEL_aa3409b39c6a4d22802c96007a040182",
            "placeholder": "​",
            "style": "IPY_MODEL_804c2f1e357747eb87a6857b696202b8",
            "value": "Loading checkpoint shards: 100%"
          }
        },
        "2c269d4ed0234c609416bd7c6e3861b8": {
          "model_module": "@jupyter-widgets/controls",
          "model_name": "FloatProgressModel",
          "model_module_version": "1.5.0",
          "state": {
            "_dom_classes": [],
            "_model_module": "@jupyter-widgets/controls",
            "_model_module_version": "1.5.0",
            "_model_name": "FloatProgressModel",
            "_view_count": null,
            "_view_module": "@jupyter-widgets/controls",
            "_view_module_version": "1.5.0",
            "_view_name": "ProgressView",
            "bar_style": "success",
            "description": "",
            "description_tooltip": null,
            "layout": "IPY_MODEL_34432905da75469192f13eaaaf6f3eb0",
            "max": 2,
            "min": 0,
            "orientation": "horizontal",
            "style": "IPY_MODEL_b05392d2c70c444e8a31db3c589469f2",
            "value": 2
          }
        },
        "00c1d971f26d4cb2a90f1c945f844373": {
          "model_module": "@jupyter-widgets/controls",
          "model_name": "HTMLModel",
          "model_module_version": "1.5.0",
          "state": {
            "_dom_classes": [],
            "_model_module": "@jupyter-widgets/controls",
            "_model_module_version": "1.5.0",
            "_model_name": "HTMLModel",
            "_view_count": null,
            "_view_module": "@jupyter-widgets/controls",
            "_view_module_version": "1.5.0",
            "_view_name": "HTMLView",
            "description": "",
            "description_tooltip": null,
            "layout": "IPY_MODEL_8367de13a6ab4db7a5bc5e5ea31221fa",
            "placeholder": "​",
            "style": "IPY_MODEL_e78b4f1d39584800889ff91a279668f3",
            "value": " 2/2 [00:21&lt;00:00, 10.92s/it]"
          }
        },
        "8ae0e482e903419f81ff186f4c10ad46": {
          "model_module": "@jupyter-widgets/base",
          "model_name": "LayoutModel",
          "model_module_version": "1.2.0",
          "state": {
            "_model_module": "@jupyter-widgets/base",
            "_model_module_version": "1.2.0",
            "_model_name": "LayoutModel",
            "_view_count": null,
            "_view_module": "@jupyter-widgets/base",
            "_view_module_version": "1.2.0",
            "_view_name": "LayoutView",
            "align_content": null,
            "align_items": null,
            "align_self": null,
            "border": null,
            "bottom": null,
            "display": null,
            "flex": null,
            "flex_flow": null,
            "grid_area": null,
            "grid_auto_columns": null,
            "grid_auto_flow": null,
            "grid_auto_rows": null,
            "grid_column": null,
            "grid_gap": null,
            "grid_row": null,
            "grid_template_areas": null,
            "grid_template_columns": null,
            "grid_template_rows": null,
            "height": null,
            "justify_content": null,
            "justify_items": null,
            "left": null,
            "margin": null,
            "max_height": null,
            "max_width": null,
            "min_height": null,
            "min_width": null,
            "object_fit": null,
            "object_position": null,
            "order": null,
            "overflow": null,
            "overflow_x": null,
            "overflow_y": null,
            "padding": null,
            "right": null,
            "top": null,
            "visibility": null,
            "width": null
          }
        },
        "aa3409b39c6a4d22802c96007a040182": {
          "model_module": "@jupyter-widgets/base",
          "model_name": "LayoutModel",
          "model_module_version": "1.2.0",
          "state": {
            "_model_module": "@jupyter-widgets/base",
            "_model_module_version": "1.2.0",
            "_model_name": "LayoutModel",
            "_view_count": null,
            "_view_module": "@jupyter-widgets/base",
            "_view_module_version": "1.2.0",
            "_view_name": "LayoutView",
            "align_content": null,
            "align_items": null,
            "align_self": null,
            "border": null,
            "bottom": null,
            "display": null,
            "flex": null,
            "flex_flow": null,
            "grid_area": null,
            "grid_auto_columns": null,
            "grid_auto_flow": null,
            "grid_auto_rows": null,
            "grid_column": null,
            "grid_gap": null,
            "grid_row": null,
            "grid_template_areas": null,
            "grid_template_columns": null,
            "grid_template_rows": null,
            "height": null,
            "justify_content": null,
            "justify_items": null,
            "left": null,
            "margin": null,
            "max_height": null,
            "max_width": null,
            "min_height": null,
            "min_width": null,
            "object_fit": null,
            "object_position": null,
            "order": null,
            "overflow": null,
            "overflow_x": null,
            "overflow_y": null,
            "padding": null,
            "right": null,
            "top": null,
            "visibility": null,
            "width": null
          }
        },
        "804c2f1e357747eb87a6857b696202b8": {
          "model_module": "@jupyter-widgets/controls",
          "model_name": "DescriptionStyleModel",
          "model_module_version": "1.5.0",
          "state": {
            "_model_module": "@jupyter-widgets/controls",
            "_model_module_version": "1.5.0",
            "_model_name": "DescriptionStyleModel",
            "_view_count": null,
            "_view_module": "@jupyter-widgets/base",
            "_view_module_version": "1.2.0",
            "_view_name": "StyleView",
            "description_width": ""
          }
        },
        "34432905da75469192f13eaaaf6f3eb0": {
          "model_module": "@jupyter-widgets/base",
          "model_name": "LayoutModel",
          "model_module_version": "1.2.0",
          "state": {
            "_model_module": "@jupyter-widgets/base",
            "_model_module_version": "1.2.0",
            "_model_name": "LayoutModel",
            "_view_count": null,
            "_view_module": "@jupyter-widgets/base",
            "_view_module_version": "1.2.0",
            "_view_name": "LayoutView",
            "align_content": null,
            "align_items": null,
            "align_self": null,
            "border": null,
            "bottom": null,
            "display": null,
            "flex": null,
            "flex_flow": null,
            "grid_area": null,
            "grid_auto_columns": null,
            "grid_auto_flow": null,
            "grid_auto_rows": null,
            "grid_column": null,
            "grid_gap": null,
            "grid_row": null,
            "grid_template_areas": null,
            "grid_template_columns": null,
            "grid_template_rows": null,
            "height": null,
            "justify_content": null,
            "justify_items": null,
            "left": null,
            "margin": null,
            "max_height": null,
            "max_width": null,
            "min_height": null,
            "min_width": null,
            "object_fit": null,
            "object_position": null,
            "order": null,
            "overflow": null,
            "overflow_x": null,
            "overflow_y": null,
            "padding": null,
            "right": null,
            "top": null,
            "visibility": null,
            "width": null
          }
        },
        "b05392d2c70c444e8a31db3c589469f2": {
          "model_module": "@jupyter-widgets/controls",
          "model_name": "ProgressStyleModel",
          "model_module_version": "1.5.0",
          "state": {
            "_model_module": "@jupyter-widgets/controls",
            "_model_module_version": "1.5.0",
            "_model_name": "ProgressStyleModel",
            "_view_count": null,
            "_view_module": "@jupyter-widgets/base",
            "_view_module_version": "1.2.0",
            "_view_name": "StyleView",
            "bar_color": null,
            "description_width": ""
          }
        },
        "8367de13a6ab4db7a5bc5e5ea31221fa": {
          "model_module": "@jupyter-widgets/base",
          "model_name": "LayoutModel",
          "model_module_version": "1.2.0",
          "state": {
            "_model_module": "@jupyter-widgets/base",
            "_model_module_version": "1.2.0",
            "_model_name": "LayoutModel",
            "_view_count": null,
            "_view_module": "@jupyter-widgets/base",
            "_view_module_version": "1.2.0",
            "_view_name": "LayoutView",
            "align_content": null,
            "align_items": null,
            "align_self": null,
            "border": null,
            "bottom": null,
            "display": null,
            "flex": null,
            "flex_flow": null,
            "grid_area": null,
            "grid_auto_columns": null,
            "grid_auto_flow": null,
            "grid_auto_rows": null,
            "grid_column": null,
            "grid_gap": null,
            "grid_row": null,
            "grid_template_areas": null,
            "grid_template_columns": null,
            "grid_template_rows": null,
            "height": null,
            "justify_content": null,
            "justify_items": null,
            "left": null,
            "margin": null,
            "max_height": null,
            "max_width": null,
            "min_height": null,
            "min_width": null,
            "object_fit": null,
            "object_position": null,
            "order": null,
            "overflow": null,
            "overflow_x": null,
            "overflow_y": null,
            "padding": null,
            "right": null,
            "top": null,
            "visibility": null,
            "width": null
          }
        },
        "e78b4f1d39584800889ff91a279668f3": {
          "model_module": "@jupyter-widgets/controls",
          "model_name": "DescriptionStyleModel",
          "model_module_version": "1.5.0",
          "state": {
            "_model_module": "@jupyter-widgets/controls",
            "_model_module_version": "1.5.0",
            "_model_name": "DescriptionStyleModel",
            "_view_count": null,
            "_view_module": "@jupyter-widgets/base",
            "_view_module_version": "1.2.0",
            "_view_name": "StyleView",
            "description_width": ""
          }
        }
      }
    }
  },
  "cells": [
    {
      "cell_type": "markdown",
      "metadata": {
        "id": "view-in-github",
        "colab_type": "text"
      },
      "source": [
        "<a href=\"https://colab.research.google.com/github/hypro2/step-by-step-colab/blob/main/vikhyatk_moondream1_vanilla_colab.ipynb\" target=\"_parent\"><img src=\"https://colab.research.google.com/assets/colab-badge.svg\" alt=\"Open In Colab\"/></a>"
      ]
    },
    {
      "cell_type": "code",
      "execution_count": null,
      "metadata": {
        "id": "BCXKGsWaJ8kr"
      },
      "outputs": [],
      "source": [
        "!pip install -U transformers\n",
        "!pip install -q pillow accelerate einops timm"
      ]
    },
    {
      "cell_type": "code",
      "source": [
        "import torch\n",
        "from transformers import AutoModelForCausalLM, AutoTokenizer\n",
        "from PIL import Image\n",
        "\n",
        "torch.set_default_device(\"cuda\")\n",
        "\n",
        "model_id = \"vikhyatk/moondream1\"\n",
        "model = AutoModelForCausalLM.from_pretrained(\n",
        "    model_id,\n",
        "    torch_dtype=torch.float16,\n",
        "    trust_remote_code=True\n",
        ")\n",
        "tokenizer = AutoTokenizer.from_pretrained(\n",
        "    model_id,\n",
        ")"
      ],
      "metadata": {
        "colab": {
          "base_uri": "https://localhost:8080/",
          "height": 180,
          "referenced_widgets": [
            "0b38dc7d91a744a6b94a1d6fd24a8bcd",
            "42de021a77c248798f6200fdddbe2106",
            "2c269d4ed0234c609416bd7c6e3861b8",
            "00c1d971f26d4cb2a90f1c945f844373",
            "8ae0e482e903419f81ff186f4c10ad46",
            "aa3409b39c6a4d22802c96007a040182",
            "804c2f1e357747eb87a6857b696202b8",
            "34432905da75469192f13eaaaf6f3eb0",
            "b05392d2c70c444e8a31db3c589469f2",
            "8367de13a6ab4db7a5bc5e5ea31221fa",
            "e78b4f1d39584800889ff91a279668f3"
          ]
        },
        "id": "wCVAgLZTKWEp",
        "outputId": "6fd304df-6174-4020-d2ea-8e5b703f08ea"
      },
      "execution_count": 1,
      "outputs": [
        {
          "output_type": "stream",
          "name": "stderr",
          "text": [
            "/usr/local/lib/python3.10/dist-packages/huggingface_hub/utils/_token.py:88: UserWarning: \n",
            "The secret `HF_TOKEN` does not exist in your Colab secrets.\n",
            "To authenticate with the Hugging Face Hub, create a token in your settings tab (https://huggingface.co/settings/tokens), set it as secret in your Google Colab and restart your session.\n",
            "You will be able to reuse this secret in all of your notebooks.\n",
            "Please note that authentication is recommended but still optional to access public models or datasets.\n",
            "  warnings.warn(\n"
          ]
        },
        {
          "output_type": "display_data",
          "data": {
            "text/plain": [
              "Loading checkpoint shards:   0%|          | 0/2 [00:00<?, ?it/s]"
            ],
            "application/vnd.jupyter.widget-view+json": {
              "version_major": 2,
              "version_minor": 0,
              "model_id": "0b38dc7d91a744a6b94a1d6fd24a8bcd"
            }
          },
          "metadata": {}
        }
      ]
    },
    {
      "cell_type": "code",
      "source": [
        "\n",
        "text =\"\"\"\n",
        "A chat between a curious user and an artificial intelligence assistant. The assistant gives helpful, detailed, and polite answers to the user's questions.\n",
        "Let's work this out in a step by step way to be sure we have the right answer.\n",
        "\n",
        "\n",
        "USER:\n",
        "This patent describes a semiconductor device having a white gate structure and vertical pattern for high integration and performance.\n",
        "It includes a dielectric structure with air gaps to improve electrical properties and reduce controllability of the gate electrodes over the vertical channel region.\n",
        "The device further features a back gate trench, a contact pattern, and an information storage structure for memory applications.\n",
        "Said fabrication process includes forming said white gate structure, vertical pattern, and gate-dielectric layer, and creating contact holes and back gate trenches within said semiconductor substrate.\n",
        "Overall, the patent details methods for designing and manufacturing semiconductor devices to achieve high integration and improved electrical characteristics.\n",
        "\n",
        "FIG. 1 is a schematic plan view of a semiconductor device, according to exemplary embodiments.\n",
        "103\n",
        "Intermediate Insulation Layer\n",
        "107a\n",
        "Third Upper Insulation Layer\n",
        "130\n",
        "Back Gate Structure\n",
        "132\n",
        "Dielectric Structures\n",
        "135\n",
        "Back Gate Electrodes\n",
        "137\n",
        "First and Second Auxiliary Structures\n",
        "137a\n",
        "First Floor\n",
        "137b\n",
        "Second Floor\n",
        "140\n",
        "Vertical Pattern\n",
        "140S1\n",
        "1st Side\n",
        "162\n",
        "Gate Dielectric Layer\n",
        "165\n",
        "Gate Electrode\n",
        "166\n",
        "Gate Capping Layer\n",
        "\n",
        "It describes the image in considerable detail.\n",
        "\n",
        "ASSISTANT:\"\"\"\n"
      ],
      "metadata": {
        "id": "eCPK3k2rK80C"
      },
      "execution_count": 2,
      "outputs": []
    },
    {
      "cell_type": "code",
      "source": [
        "image = Image.open(\"/content/sdfsdfsdfdsf.jpg\")\n",
        "enc_image = model.encode_image(image)"
      ],
      "metadata": {
        "id": "KykwXpzQKWCr"
      },
      "execution_count": 3,
      "outputs": []
    },
    {
      "cell_type": "code",
      "source": [
        "print(model.answer_question(enc_image, text, tokenizer))"
      ],
      "metadata": {
        "colab": {
          "base_uri": "https://localhost:8080/"
        },
        "id": "yN01tngNKldM",
        "outputId": "51be2f62-0053-44af-a8eb-dc83c89b3149"
      },
      "execution_count": 4,
      "outputs": [
        {
          "output_type": "stream",
          "name": "stdout",
          "text": [
            "This is a detailed description of a semiconductor device, as shown in the image. The device features a white gate structure, a vertical pattern for high integration and performance, and a back gate trench, a contact pattern, and an information storage structure for memory applications. The fabrication process includes forming the gate structure, vertical pattern, and gate-dielectric layer, and creating contact holes and back gate trenches within the semiconductor substrate. The device also includes an intermediate insulation layer, a third upper insulation layer, and a dielectric structure. Overall, the device is designed to achieve high integration and improved electrical characteristics.\n"
          ]
        }
      ]
    },
    {
      "cell_type": "markdown",
      "source": [
        "이미지와 같이 반도체 소자에 대한 자세한 설명입니다. 이 소자는 화이트 게이트 구조, 높은 집적도와 성능을 위한 수직 패턴, 메모리 애플리케이션을 위한 후면 게이트 트렌치, 접점 패턴, 정보 저장 구조를 갖추고 있습니다. 제조 공정에는 게이트 구조, 수직 패턴, 게이트 유전체 층을 형성하고 반도체 기판 내에 접촉 구멍과 후면 게이트 트렌치를 만드는 과정이 포함됩니다. 이 소자는 또한 중간 절연층, 세 번째 상부 절연층 및 유전체 구조를 포함합니다. 전반적으로 이 장치는 고집적도와 향상된 전기적 특성을 달성하도록 설계되었습니다."
      ],
      "metadata": {
        "id": "UQEjzm-7MuCL"
      }
    },
    {
      "cell_type": "code",
      "source": [],
      "metadata": {
        "id": "7kavBO7cMvHn"
      },
      "execution_count": null,
      "outputs": []
    }
  ]
}